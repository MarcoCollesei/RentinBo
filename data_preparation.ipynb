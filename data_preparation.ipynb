{
 "cells": [
  {
   "cell_type": "markdown",
   "metadata": {},
   "source": [
    "# Data preparation"
   ]
  },
  {
   "cell_type": "markdown",
   "metadata": {},
   "source": [
    "Let's have a first look to raw data and perform some preliminary operations before going into details with the ML algo."
   ]
  },
  {
   "cell_type": "markdown",
   "metadata": {},
   "source": [
    "We are going to load a copy of the raw dataset from a github repo (better keep the original dataset in a safe position, just not to mess up hours of collecting data)."
   ]
  },
  {
   "cell_type": "markdown",
   "metadata": {},
   "source": [
    "## 1. Loading dataset"
   ]
  },
  {
   "cell_type": "code",
   "execution_count": 64,
   "metadata": {},
   "outputs": [],
   "source": [
    "import pandas as pd"
   ]
  },
  {
   "cell_type": "code",
   "execution_count": 65,
   "metadata": {},
   "outputs": [
    {
     "data": {
      "text/html": [
       "<div>\n",
       "<style scoped>\n",
       "    .dataframe tbody tr th:only-of-type {\n",
       "        vertical-align: middle;\n",
       "    }\n",
       "\n",
       "    .dataframe tbody tr th {\n",
       "        vertical-align: top;\n",
       "    }\n",
       "\n",
       "    .dataframe thead th {\n",
       "        text-align: right;\n",
       "    }\n",
       "</style>\n",
       "<table border=\"1\" class=\"dataframe\">\n",
       "  <thead>\n",
       "    <tr style=\"text-align: right;\">\n",
       "      <th></th>\n",
       "      <th>tipologia</th>\n",
       "      <th>genere</th>\n",
       "      <th>zona</th>\n",
       "      <th>bagno</th>\n",
       "      <th>cucina</th>\n",
       "      <th>salotto</th>\n",
       "      <th>balcone</th>\n",
       "      <th>euro</th>\n",
       "      <th>range euro</th>\n",
       "    </tr>\n",
       "  </thead>\n",
       "  <tbody>\n",
       "    <tr>\n",
       "      <th>0</th>\n",
       "      <td>singola</td>\n",
       "      <td>F</td>\n",
       "      <td>San Donato</td>\n",
       "      <td>1</td>\n",
       "      <td>1</td>\n",
       "      <td>1</td>\n",
       "      <td>0</td>\n",
       "      <td>320</td>\n",
       "      <td>300-325</td>\n",
       "    </tr>\n",
       "    <tr>\n",
       "      <th>1</th>\n",
       "      <td>singola</td>\n",
       "      <td>M/F</td>\n",
       "      <td>Marconi</td>\n",
       "      <td>1</td>\n",
       "      <td>1</td>\n",
       "      <td>1</td>\n",
       "      <td>0</td>\n",
       "      <td>465</td>\n",
       "      <td>450-475</td>\n",
       "    </tr>\n",
       "    <tr>\n",
       "      <th>2</th>\n",
       "      <td>singola</td>\n",
       "      <td>M/F</td>\n",
       "      <td>Saffi</td>\n",
       "      <td>1</td>\n",
       "      <td>1</td>\n",
       "      <td>1</td>\n",
       "      <td>0</td>\n",
       "      <td>430</td>\n",
       "      <td>425-450</td>\n",
       "    </tr>\n",
       "    <tr>\n",
       "      <th>3</th>\n",
       "      <td>singola</td>\n",
       "      <td>F</td>\n",
       "      <td>Irnerio</td>\n",
       "      <td>2</td>\n",
       "      <td>1</td>\n",
       "      <td>1</td>\n",
       "      <td>1</td>\n",
       "      <td>550</td>\n",
       "      <td>550-575</td>\n",
       "    </tr>\n",
       "    <tr>\n",
       "      <th>4</th>\n",
       "      <td>singola</td>\n",
       "      <td>F</td>\n",
       "      <td>S.Vitale</td>\n",
       "      <td>1</td>\n",
       "      <td>1</td>\n",
       "      <td>0</td>\n",
       "      <td>1</td>\n",
       "      <td>400</td>\n",
       "      <td>400-425</td>\n",
       "    </tr>\n",
       "    <tr>\n",
       "      <th>...</th>\n",
       "      <td>...</td>\n",
       "      <td>...</td>\n",
       "      <td>...</td>\n",
       "      <td>...</td>\n",
       "      <td>...</td>\n",
       "      <td>...</td>\n",
       "      <td>...</td>\n",
       "      <td>...</td>\n",
       "      <td>...</td>\n",
       "    </tr>\n",
       "    <tr>\n",
       "      <th>195</th>\n",
       "      <td>doppia</td>\n",
       "      <td>M/F</td>\n",
       "      <td>Bolognina</td>\n",
       "      <td>1</td>\n",
       "      <td>1</td>\n",
       "      <td>0</td>\n",
       "      <td>2</td>\n",
       "      <td>237</td>\n",
       "      <td>225-250</td>\n",
       "    </tr>\n",
       "    <tr>\n",
       "      <th>196</th>\n",
       "      <td>doppia</td>\n",
       "      <td>M/F</td>\n",
       "      <td>Malpighi</td>\n",
       "      <td>2</td>\n",
       "      <td>1</td>\n",
       "      <td>1</td>\n",
       "      <td>0</td>\n",
       "      <td>250</td>\n",
       "      <td>250-275</td>\n",
       "    </tr>\n",
       "    <tr>\n",
       "      <th>197</th>\n",
       "      <td>doppia</td>\n",
       "      <td>M/F</td>\n",
       "      <td>Bolognina</td>\n",
       "      <td>1</td>\n",
       "      <td>1</td>\n",
       "      <td>1</td>\n",
       "      <td>0</td>\n",
       "      <td>250</td>\n",
       "      <td>250-275</td>\n",
       "    </tr>\n",
       "    <tr>\n",
       "      <th>198</th>\n",
       "      <td>doppia</td>\n",
       "      <td>F</td>\n",
       "      <td>Malpighi</td>\n",
       "      <td>1</td>\n",
       "      <td>1</td>\n",
       "      <td>1</td>\n",
       "      <td>0</td>\n",
       "      <td>350</td>\n",
       "      <td>350-375</td>\n",
       "    </tr>\n",
       "    <tr>\n",
       "      <th>199</th>\n",
       "      <td>doppia</td>\n",
       "      <td>F</td>\n",
       "      <td>Galvani</td>\n",
       "      <td>1</td>\n",
       "      <td>1</td>\n",
       "      <td>0</td>\n",
       "      <td>0</td>\n",
       "      <td>300</td>\n",
       "      <td>300-325</td>\n",
       "    </tr>\n",
       "  </tbody>\n",
       "</table>\n",
       "<p>200 rows × 9 columns</p>\n",
       "</div>"
      ],
      "text/plain": [
       "    tipologia genere        zona  bagno  cucina  salotto  balcone  euro  \\\n",
       "0     singola      F  San Donato      1       1        1        0   320   \n",
       "1     singola    M/F     Marconi      1       1        1        0   465   \n",
       "2     singola    M/F       Saffi      1       1        1        0   430   \n",
       "3     singola      F     Irnerio      2       1        1        1   550   \n",
       "4     singola      F    S.Vitale      1       1        0        1   400   \n",
       "..        ...    ...         ...    ...     ...      ...      ...   ...   \n",
       "195    doppia    M/F   Bolognina      1       1        0        2   237   \n",
       "196    doppia    M/F    Malpighi      2       1        1        0   250   \n",
       "197    doppia    M/F   Bolognina      1       1        1        0   250   \n",
       "198    doppia      F    Malpighi      1       1        1        0   350   \n",
       "199    doppia      F     Galvani      1       1        0        0   300   \n",
       "\n",
       "    range euro  \n",
       "0      300-325  \n",
       "1      450-475  \n",
       "2      425-450  \n",
       "3      550-575  \n",
       "4      400-425  \n",
       "..         ...  \n",
       "195    225-250  \n",
       "196    250-275  \n",
       "197    250-275  \n",
       "198    350-375  \n",
       "199    300-325  \n",
       "\n",
       "[200 rows x 9 columns]"
      ]
     },
     "execution_count": 65,
     "metadata": {},
     "output_type": "execute_result"
    }
   ],
   "source": [
    "url = 'https://raw.githubusercontent.com/MarcoCollesei/RentinBo/master/copy_of_dataset.csv'\n",
    "copy_of_dataset = pd.read_csv(url)\n",
    "copy_of_dataset"
   ]
  },
  {
   "cell_type": "markdown",
   "metadata": {},
   "source": [
    "Here's our dataset, as we can see these are renting prices for single and double rooms in Bologna.\n",
    "Each row has been completed with real informations that I've personally collected browsing on Subito.it."
   ]
  },
  {
   "cell_type": "markdown",
   "metadata": {},
   "source": [
    "## 2. Inspect  dataset dimension\n"
   ]
  },
  {
   "cell_type": "markdown",
   "metadata": {},
   "source": [
    "Simply get a look of the shape of 'copy_of_dataset'."
   ]
  },
  {
   "cell_type": "code",
   "execution_count": 66,
   "metadata": {},
   "outputs": [
    {
     "data": {
      "text/plain": [
       "(200, 9)"
      ]
     },
     "execution_count": 66,
     "metadata": {},
     "output_type": "execute_result"
    }
   ],
   "source": [
    "shape = copy_of_dataset.shape\n",
    "shape"
   ]
  },
  {
   "cell_type": "code",
   "execution_count": 67,
   "metadata": {},
   "outputs": [
    {
     "name": "stdout",
     "output_type": "stream",
     "text": [
      "tipologia\n",
      "doppia     100\n",
      "singola    100\n",
      "dtype: int64\n"
     ]
    }
   ],
   "source": [
    "class_counts = copy_of_dataset.groupby('tipologia').size()\n",
    "print(class_counts)"
   ]
  },
  {
   "cell_type": "markdown",
   "metadata": {},
   "source": [
    "We have 200 rows, exactly divided between single and double rooms, and 9 columns, of which the first 7 are the features and the last two are our target. (We'll drop the second last column later, because our purpose is to predict a range of rent prices, not an exact value. This comes from the consideration that rent prices are subject to homeowners' personal decisions and other factors not always included in ads)."
   ]
  },
  {
   "cell_type": "markdown",
   "metadata": {},
   "source": [
    "## 3. Get an idea of types in dataset"
   ]
  },
  {
   "cell_type": "code",
   "execution_count": 68,
   "metadata": {},
   "outputs": [
    {
     "name": "stdout",
     "output_type": "stream",
     "text": [
      "tipologia     object\n",
      "genere        object\n",
      "zona          object\n",
      "bagno          int64\n",
      "cucina         int64\n",
      "salotto        int64\n",
      "balcone        int64\n",
      "euro           int64\n",
      "range euro    object\n",
      "dtype: object\n"
     ]
    }
   ],
   "source": [
    "types = copy_of_dataset.dtypes\n",
    "print(types)"
   ]
  },
  {
   "cell_type": "markdown",
   "metadata": {},
   "source": [
    "It was pretty intuitive but it's better not to leave anything to chance."
   ]
  },
  {
   "cell_type": "markdown",
   "metadata": {},
   "source": [
    "## 4. Distribution of features"
   ]
  },
  {
   "cell_type": "markdown",
   "metadata": {},
   "source": [
    "Let's dive into dataset and get a feeling of how it is distributed."
   ]
  },
  {
   "cell_type": "code",
   "execution_count": 69,
   "metadata": {},
   "outputs": [
    {
     "name": "stdout",
     "output_type": "stream",
     "text": [
      "genere\n",
      "F       74\n",
      "M       21\n",
      "M/F    105\n",
      "dtype: int64\n"
     ]
    }
   ],
   "source": [
    "class_counts = copy_of_dataset.groupby('genere').size()\n",
    "print(class_counts)"
   ]
  },
  {
   "cell_type": "code",
   "execution_count": 70,
   "metadata": {},
   "outputs": [
    {
     "name": "stdout",
     "output_type": "stream",
     "text": [
      "zona\n",
      "Barca               2\n",
      "Bolognina          20\n",
      "Borgo Panigale      1\n",
      "Colli               2\n",
      "Corticella          4\n",
      "Costa Saragozza    15\n",
      "Galvani             6\n",
      "Irnerio            23\n",
      "Lame                8\n",
      "Malpighi            9\n",
      "Marconi            20\n",
      "Mazzini            17\n",
      "Murri              17\n",
      "S.Ruffillo          3\n",
      "S.Viola             2\n",
      "S.Vitale           12\n",
      "Saffi              14\n",
      "San Donato         25\n",
      "dtype: int64\n"
     ]
    }
   ],
   "source": [
    "class_counts = copy_of_dataset.groupby('zona').size()\n",
    "print(class_counts)"
   ]
  },
  {
   "cell_type": "code",
   "execution_count": 71,
   "metadata": {},
   "outputs": [
    {
     "name": "stdout",
     "output_type": "stream",
     "text": [
      "bagno\n",
      "1    166\n",
      "2     33\n",
      "3      1\n",
      "dtype: int64\n"
     ]
    }
   ],
   "source": [
    "class_counts = copy_of_dataset.groupby('bagno').size()\n",
    "print(class_counts)"
   ]
  },
  {
   "cell_type": "code",
   "execution_count": 72,
   "metadata": {},
   "outputs": [
    {
     "name": "stdout",
     "output_type": "stream",
     "text": [
      "cucina\n",
      "1    197\n",
      "2      3\n",
      "dtype: int64\n"
     ]
    }
   ],
   "source": [
    "class_counts = copy_of_dataset.groupby('cucina').size()\n",
    "print(class_counts)"
   ]
  },
  {
   "cell_type": "code",
   "execution_count": 73,
   "metadata": {},
   "outputs": [
    {
     "name": "stdout",
     "output_type": "stream",
     "text": [
      "salotto\n",
      "0    137\n",
      "1     63\n",
      "dtype: int64\n"
     ]
    }
   ],
   "source": [
    "class_counts = copy_of_dataset.groupby('salotto').size()\n",
    "print(class_counts)"
   ]
  },
  {
   "cell_type": "code",
   "execution_count": 74,
   "metadata": {},
   "outputs": [
    {
     "name": "stdout",
     "output_type": "stream",
     "text": [
      "balcone\n",
      "0    122\n",
      "1     71\n",
      "2      5\n",
      "3      2\n",
      "dtype: int64\n"
     ]
    }
   ],
   "source": [
    "class_counts = copy_of_dataset.groupby('balcone').size()\n",
    "print(class_counts)"
   ]
  },
  {
   "cell_type": "code",
   "execution_count": 75,
   "metadata": {},
   "outputs": [
    {
     "name": "stdout",
     "output_type": "stream",
     "text": [
      "range euro\n",
      "175-200     3\n",
      "200-225    12\n",
      "225-250    20\n",
      "250-275    30\n",
      "275-300    13\n",
      "300-325    21\n",
      "325-350    14\n",
      "350-375    24\n",
      "375-400     8\n",
      "400-425    24\n",
      "425-450     4\n",
      "450-475    16\n",
      "500-525     6\n",
      "525-550     1\n",
      "550-575     3\n",
      "650-675     1\n",
      "dtype: int64\n"
     ]
    }
   ],
   "source": [
    "class_counts = copy_of_dataset.groupby('range euro').size()\n",
    "print(class_counts)"
   ]
  },
  {
   "cell_type": "markdown",
   "metadata": {},
   "source": [
    "The last distribution is not very useful to be honest, since it includes both the ranges for single and double rooms and there is a relevant difference in prices among those two types."
   ]
  },
  {
   "cell_type": "markdown",
   "metadata": {},
   "source": [
    "## 5. Correlations"
   ]
  },
  {
   "cell_type": "markdown",
   "metadata": {},
   "source": [
    "Just to be sure of the goodness of our data we have to check wether some of our numerical features are correlated or not."
   ]
  },
  {
   "cell_type": "code",
   "execution_count": 76,
   "metadata": {},
   "outputs": [
    {
     "data": {
      "text/html": [
       "<div>\n",
       "<style scoped>\n",
       "    .dataframe tbody tr th:only-of-type {\n",
       "        vertical-align: middle;\n",
       "    }\n",
       "\n",
       "    .dataframe tbody tr th {\n",
       "        vertical-align: top;\n",
       "    }\n",
       "\n",
       "    .dataframe thead th {\n",
       "        text-align: right;\n",
       "    }\n",
       "</style>\n",
       "<table border=\"1\" class=\"dataframe\">\n",
       "  <thead>\n",
       "    <tr style=\"text-align: right;\">\n",
       "      <th></th>\n",
       "      <th>bagno</th>\n",
       "      <th>cucina</th>\n",
       "      <th>salotto</th>\n",
       "      <th>balcone</th>\n",
       "      <th>euro</th>\n",
       "    </tr>\n",
       "  </thead>\n",
       "  <tbody>\n",
       "    <tr>\n",
       "      <th>bagno</th>\n",
       "      <td>1.000000</td>\n",
       "      <td>0.259115</td>\n",
       "      <td>0.054106</td>\n",
       "      <td>0.165880</td>\n",
       "      <td>-0.008089</td>\n",
       "    </tr>\n",
       "    <tr>\n",
       "      <th>cucina</th>\n",
       "      <td>0.259115</td>\n",
       "      <td>1.000000</td>\n",
       "      <td>-0.083683</td>\n",
       "      <td>0.185856</td>\n",
       "      <td>-0.090096</td>\n",
       "    </tr>\n",
       "    <tr>\n",
       "      <th>salotto</th>\n",
       "      <td>0.054106</td>\n",
       "      <td>-0.083683</td>\n",
       "      <td>1.000000</td>\n",
       "      <td>0.046829</td>\n",
       "      <td>-0.116830</td>\n",
       "    </tr>\n",
       "    <tr>\n",
       "      <th>balcone</th>\n",
       "      <td>0.165880</td>\n",
       "      <td>0.185856</td>\n",
       "      <td>0.046829</td>\n",
       "      <td>1.000000</td>\n",
       "      <td>-0.049141</td>\n",
       "    </tr>\n",
       "    <tr>\n",
       "      <th>euro</th>\n",
       "      <td>-0.008089</td>\n",
       "      <td>-0.090096</td>\n",
       "      <td>-0.116830</td>\n",
       "      <td>-0.049141</td>\n",
       "      <td>1.000000</td>\n",
       "    </tr>\n",
       "  </tbody>\n",
       "</table>\n",
       "</div>"
      ],
      "text/plain": [
       "            bagno    cucina   salotto   balcone      euro\n",
       "bagno    1.000000  0.259115  0.054106  0.165880 -0.008089\n",
       "cucina   0.259115  1.000000 -0.083683  0.185856 -0.090096\n",
       "salotto  0.054106 -0.083683  1.000000  0.046829 -0.116830\n",
       "balcone  0.165880  0.185856  0.046829  1.000000 -0.049141\n",
       "euro    -0.008089 -0.090096 -0.116830 -0.049141  1.000000"
      ]
     },
     "execution_count": 76,
     "metadata": {},
     "output_type": "execute_result"
    }
   ],
   "source": [
    "correlations = copy_of_dataset.corr(method='pearson')\n",
    "correlations"
   ]
  },
  {
   "cell_type": "markdown",
   "metadata": {},
   "source": [
    "It is pretty evident that at least for numerical features there are not strong correlations."
   ]
  },
  {
   "cell_type": "markdown",
   "metadata": {},
   "source": [
    "## 6. Preparing dataset"
   ]
  },
  {
   "cell_type": "markdown",
   "metadata": {},
   "source": [
    "Before looking for a ML algo we still have to work a bit on our dataset."
   ]
  },
  {
   "cell_type": "markdown",
   "metadata": {},
   "source": [
    "As we have seen at the beginning the beginning we want to predict a range of rent prices and not an exact value, that is why we are going to drop the 'euro' column."
   ]
  },
  {
   "cell_type": "code",
   "execution_count": 77,
   "metadata": {},
   "outputs": [
    {
     "data": {
      "text/html": [
       "<div>\n",
       "<style scoped>\n",
       "    .dataframe tbody tr th:only-of-type {\n",
       "        vertical-align: middle;\n",
       "    }\n",
       "\n",
       "    .dataframe tbody tr th {\n",
       "        vertical-align: top;\n",
       "    }\n",
       "\n",
       "    .dataframe thead th {\n",
       "        text-align: right;\n",
       "    }\n",
       "</style>\n",
       "<table border=\"1\" class=\"dataframe\">\n",
       "  <thead>\n",
       "    <tr style=\"text-align: right;\">\n",
       "      <th></th>\n",
       "      <th>tipologia</th>\n",
       "      <th>genere</th>\n",
       "      <th>zona</th>\n",
       "      <th>bagno</th>\n",
       "      <th>cucina</th>\n",
       "      <th>salotto</th>\n",
       "      <th>balcone</th>\n",
       "      <th>range euro</th>\n",
       "    </tr>\n",
       "  </thead>\n",
       "  <tbody>\n",
       "    <tr>\n",
       "      <th>0</th>\n",
       "      <td>singola</td>\n",
       "      <td>F</td>\n",
       "      <td>San Donato</td>\n",
       "      <td>1</td>\n",
       "      <td>1</td>\n",
       "      <td>1</td>\n",
       "      <td>0</td>\n",
       "      <td>300-325</td>\n",
       "    </tr>\n",
       "    <tr>\n",
       "      <th>1</th>\n",
       "      <td>singola</td>\n",
       "      <td>M/F</td>\n",
       "      <td>Marconi</td>\n",
       "      <td>1</td>\n",
       "      <td>1</td>\n",
       "      <td>1</td>\n",
       "      <td>0</td>\n",
       "      <td>450-475</td>\n",
       "    </tr>\n",
       "    <tr>\n",
       "      <th>2</th>\n",
       "      <td>singola</td>\n",
       "      <td>M/F</td>\n",
       "      <td>Saffi</td>\n",
       "      <td>1</td>\n",
       "      <td>1</td>\n",
       "      <td>1</td>\n",
       "      <td>0</td>\n",
       "      <td>425-450</td>\n",
       "    </tr>\n",
       "    <tr>\n",
       "      <th>3</th>\n",
       "      <td>singola</td>\n",
       "      <td>F</td>\n",
       "      <td>Irnerio</td>\n",
       "      <td>2</td>\n",
       "      <td>1</td>\n",
       "      <td>1</td>\n",
       "      <td>1</td>\n",
       "      <td>550-575</td>\n",
       "    </tr>\n",
       "    <tr>\n",
       "      <th>4</th>\n",
       "      <td>singola</td>\n",
       "      <td>F</td>\n",
       "      <td>S.Vitale</td>\n",
       "      <td>1</td>\n",
       "      <td>1</td>\n",
       "      <td>0</td>\n",
       "      <td>1</td>\n",
       "      <td>400-425</td>\n",
       "    </tr>\n",
       "    <tr>\n",
       "      <th>...</th>\n",
       "      <td>...</td>\n",
       "      <td>...</td>\n",
       "      <td>...</td>\n",
       "      <td>...</td>\n",
       "      <td>...</td>\n",
       "      <td>...</td>\n",
       "      <td>...</td>\n",
       "      <td>...</td>\n",
       "    </tr>\n",
       "    <tr>\n",
       "      <th>195</th>\n",
       "      <td>doppia</td>\n",
       "      <td>M/F</td>\n",
       "      <td>Bolognina</td>\n",
       "      <td>1</td>\n",
       "      <td>1</td>\n",
       "      <td>0</td>\n",
       "      <td>2</td>\n",
       "      <td>225-250</td>\n",
       "    </tr>\n",
       "    <tr>\n",
       "      <th>196</th>\n",
       "      <td>doppia</td>\n",
       "      <td>M/F</td>\n",
       "      <td>Malpighi</td>\n",
       "      <td>2</td>\n",
       "      <td>1</td>\n",
       "      <td>1</td>\n",
       "      <td>0</td>\n",
       "      <td>250-275</td>\n",
       "    </tr>\n",
       "    <tr>\n",
       "      <th>197</th>\n",
       "      <td>doppia</td>\n",
       "      <td>M/F</td>\n",
       "      <td>Bolognina</td>\n",
       "      <td>1</td>\n",
       "      <td>1</td>\n",
       "      <td>1</td>\n",
       "      <td>0</td>\n",
       "      <td>250-275</td>\n",
       "    </tr>\n",
       "    <tr>\n",
       "      <th>198</th>\n",
       "      <td>doppia</td>\n",
       "      <td>F</td>\n",
       "      <td>Malpighi</td>\n",
       "      <td>1</td>\n",
       "      <td>1</td>\n",
       "      <td>1</td>\n",
       "      <td>0</td>\n",
       "      <td>350-375</td>\n",
       "    </tr>\n",
       "    <tr>\n",
       "      <th>199</th>\n",
       "      <td>doppia</td>\n",
       "      <td>F</td>\n",
       "      <td>Galvani</td>\n",
       "      <td>1</td>\n",
       "      <td>1</td>\n",
       "      <td>0</td>\n",
       "      <td>0</td>\n",
       "      <td>300-325</td>\n",
       "    </tr>\n",
       "  </tbody>\n",
       "</table>\n",
       "<p>200 rows × 8 columns</p>\n",
       "</div>"
      ],
      "text/plain": [
       "    tipologia genere        zona  bagno  cucina  salotto  balcone range euro\n",
       "0     singola      F  San Donato      1       1        1        0    300-325\n",
       "1     singola    M/F     Marconi      1       1        1        0    450-475\n",
       "2     singola    M/F       Saffi      1       1        1        0    425-450\n",
       "3     singola      F     Irnerio      2       1        1        1    550-575\n",
       "4     singola      F    S.Vitale      1       1        0        1    400-425\n",
       "..        ...    ...         ...    ...     ...      ...      ...        ...\n",
       "195    doppia    M/F   Bolognina      1       1        0        2    225-250\n",
       "196    doppia    M/F    Malpighi      2       1        1        0    250-275\n",
       "197    doppia    M/F   Bolognina      1       1        1        0    250-275\n",
       "198    doppia      F    Malpighi      1       1        1        0    350-375\n",
       "199    doppia      F     Galvani      1       1        0        0    300-325\n",
       "\n",
       "[200 rows x 8 columns]"
      ]
     },
     "execution_count": 77,
     "metadata": {},
     "output_type": "execute_result"
    }
   ],
   "source": [
    "copy_of_dataset = copy_of_dataset.drop(columns = 'euro')\n",
    "copy_of_dataset"
   ]
  },
  {
   "cell_type": "markdown",
   "metadata": {},
   "source": [
    "Moreover we would like to shuffle our dataset before feeding the ML algorithm."
   ]
  },
  {
   "cell_type": "code",
   "execution_count": null,
   "metadata": {},
   "outputs": [],
   "source": []
  },
  {
   "cell_type": "code",
   "execution_count": null,
   "metadata": {},
   "outputs": [],
   "source": []
  }
 ],
 "metadata": {
  "kernelspec": {
   "display_name": "Python 3",
   "language": "python",
   "name": "python3"
  },
  "language_info": {
   "codemirror_mode": {
    "name": "ipython",
    "version": 3
   },
   "file_extension": ".py",
   "mimetype": "text/x-python",
   "name": "python",
   "nbconvert_exporter": "python",
   "pygments_lexer": "ipython3",
   "version": "3.8.3"
  }
 },
 "nbformat": 4,
 "nbformat_minor": 4
}
