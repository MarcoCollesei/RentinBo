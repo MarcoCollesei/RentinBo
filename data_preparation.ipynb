{
 "cells": [
  {
   "cell_type": "markdown",
   "metadata": {},
   "source": [
    "# Data preparation"
   ]
  },
  {
   "cell_type": "markdown",
   "metadata": {},
   "source": [
    "Let's have a first look to raw data and perform some preliminary operations before going into details with the ML algo"
   ]
  },
  {
   "cell_type": "markdown",
   "metadata": {},
   "source": [
    "We are going to load a copy of the raw dataset from a github repo (better keep the original dataset in a safe position, just not to mess up hours of collecting data)"
   ]
  },
  {
   "cell_type": "markdown",
   "metadata": {},
   "source": [
    "## 1. Loading dataset"
   ]
  },
  {
   "cell_type": "code",
   "execution_count": 2,
   "metadata": {},
   "outputs": [],
   "source": [
    "import pandas as pd"
   ]
  },
  {
   "cell_type": "code",
   "execution_count": 3,
   "metadata": {},
   "outputs": [
    {
     "data": {
      "text/html": [
       "<div>\n",
       "<style scoped>\n",
       "    .dataframe tbody tr th:only-of-type {\n",
       "        vertical-align: middle;\n",
       "    }\n",
       "\n",
       "    .dataframe tbody tr th {\n",
       "        vertical-align: top;\n",
       "    }\n",
       "\n",
       "    .dataframe thead th {\n",
       "        text-align: right;\n",
       "    }\n",
       "</style>\n",
       "<table border=\"1\" class=\"dataframe\">\n",
       "  <thead>\n",
       "    <tr style=\"text-align: right;\">\n",
       "      <th></th>\n",
       "      <th>tipologia</th>\n",
       "      <th>genere</th>\n",
       "      <th>zona</th>\n",
       "      <th>bagno</th>\n",
       "      <th>cucina</th>\n",
       "      <th>salotto</th>\n",
       "      <th>balcone</th>\n",
       "      <th>euro</th>\n",
       "      <th>range euro</th>\n",
       "    </tr>\n",
       "  </thead>\n",
       "  <tbody>\n",
       "    <tr>\n",
       "      <th>0</th>\n",
       "      <td>singola</td>\n",
       "      <td>F</td>\n",
       "      <td>San Donato</td>\n",
       "      <td>1</td>\n",
       "      <td>1</td>\n",
       "      <td>1</td>\n",
       "      <td>0</td>\n",
       "      <td>320</td>\n",
       "      <td>300-325</td>\n",
       "    </tr>\n",
       "    <tr>\n",
       "      <th>1</th>\n",
       "      <td>singola</td>\n",
       "      <td>M/F</td>\n",
       "      <td>Marconi</td>\n",
       "      <td>1</td>\n",
       "      <td>1</td>\n",
       "      <td>1</td>\n",
       "      <td>0</td>\n",
       "      <td>465</td>\n",
       "      <td>450-475</td>\n",
       "    </tr>\n",
       "    <tr>\n",
       "      <th>2</th>\n",
       "      <td>singola</td>\n",
       "      <td>M/F</td>\n",
       "      <td>Saffi</td>\n",
       "      <td>1</td>\n",
       "      <td>1</td>\n",
       "      <td>1</td>\n",
       "      <td>0</td>\n",
       "      <td>430</td>\n",
       "      <td>425-450</td>\n",
       "    </tr>\n",
       "    <tr>\n",
       "      <th>3</th>\n",
       "      <td>singola</td>\n",
       "      <td>F</td>\n",
       "      <td>Irnerio</td>\n",
       "      <td>2</td>\n",
       "      <td>1</td>\n",
       "      <td>1</td>\n",
       "      <td>1</td>\n",
       "      <td>550</td>\n",
       "      <td>550-575</td>\n",
       "    </tr>\n",
       "    <tr>\n",
       "      <th>4</th>\n",
       "      <td>singola</td>\n",
       "      <td>F</td>\n",
       "      <td>S.Vitale</td>\n",
       "      <td>1</td>\n",
       "      <td>1</td>\n",
       "      <td>0</td>\n",
       "      <td>1</td>\n",
       "      <td>400</td>\n",
       "      <td>400-425</td>\n",
       "    </tr>\n",
       "    <tr>\n",
       "      <th>...</th>\n",
       "      <td>...</td>\n",
       "      <td>...</td>\n",
       "      <td>...</td>\n",
       "      <td>...</td>\n",
       "      <td>...</td>\n",
       "      <td>...</td>\n",
       "      <td>...</td>\n",
       "      <td>...</td>\n",
       "      <td>...</td>\n",
       "    </tr>\n",
       "    <tr>\n",
       "      <th>195</th>\n",
       "      <td>doppia</td>\n",
       "      <td>M/F</td>\n",
       "      <td>Bolognina</td>\n",
       "      <td>1</td>\n",
       "      <td>1</td>\n",
       "      <td>0</td>\n",
       "      <td>2</td>\n",
       "      <td>237</td>\n",
       "      <td>225-250</td>\n",
       "    </tr>\n",
       "    <tr>\n",
       "      <th>196</th>\n",
       "      <td>doppia</td>\n",
       "      <td>M/F</td>\n",
       "      <td>Malpighi</td>\n",
       "      <td>2</td>\n",
       "      <td>1</td>\n",
       "      <td>1</td>\n",
       "      <td>0</td>\n",
       "      <td>250</td>\n",
       "      <td>250-275</td>\n",
       "    </tr>\n",
       "    <tr>\n",
       "      <th>197</th>\n",
       "      <td>doppia</td>\n",
       "      <td>M/F</td>\n",
       "      <td>Bolognina</td>\n",
       "      <td>1</td>\n",
       "      <td>1</td>\n",
       "      <td>1</td>\n",
       "      <td>0</td>\n",
       "      <td>250</td>\n",
       "      <td>250-275</td>\n",
       "    </tr>\n",
       "    <tr>\n",
       "      <th>198</th>\n",
       "      <td>doppia</td>\n",
       "      <td>F</td>\n",
       "      <td>Malpighi</td>\n",
       "      <td>1</td>\n",
       "      <td>1</td>\n",
       "      <td>1</td>\n",
       "      <td>0</td>\n",
       "      <td>350</td>\n",
       "      <td>350-375</td>\n",
       "    </tr>\n",
       "    <tr>\n",
       "      <th>199</th>\n",
       "      <td>doppia</td>\n",
       "      <td>F</td>\n",
       "      <td>Galvani</td>\n",
       "      <td>1</td>\n",
       "      <td>1</td>\n",
       "      <td>0</td>\n",
       "      <td>0</td>\n",
       "      <td>300</td>\n",
       "      <td>300-325</td>\n",
       "    </tr>\n",
       "  </tbody>\n",
       "</table>\n",
       "<p>200 rows × 9 columns</p>\n",
       "</div>"
      ],
      "text/plain": [
       "    tipologia genere        zona  bagno  cucina  salotto  balcone  euro  \\\n",
       "0     singola      F  San Donato      1       1        1        0   320   \n",
       "1     singola    M/F     Marconi      1       1        1        0   465   \n",
       "2     singola    M/F       Saffi      1       1        1        0   430   \n",
       "3     singola      F     Irnerio      2       1        1        1   550   \n",
       "4     singola      F    S.Vitale      1       1        0        1   400   \n",
       "..        ...    ...         ...    ...     ...      ...      ...   ...   \n",
       "195    doppia    M/F   Bolognina      1       1        0        2   237   \n",
       "196    doppia    M/F    Malpighi      2       1        1        0   250   \n",
       "197    doppia    M/F   Bolognina      1       1        1        0   250   \n",
       "198    doppia      F    Malpighi      1       1        1        0   350   \n",
       "199    doppia      F     Galvani      1       1        0        0   300   \n",
       "\n",
       "    range euro  \n",
       "0      300-325  \n",
       "1      450-475  \n",
       "2      425-450  \n",
       "3      550-575  \n",
       "4      400-425  \n",
       "..         ...  \n",
       "195    225-250  \n",
       "196    250-275  \n",
       "197    250-275  \n",
       "198    350-375  \n",
       "199    300-325  \n",
       "\n",
       "[200 rows x 9 columns]"
      ]
     },
     "execution_count": 3,
     "metadata": {},
     "output_type": "execute_result"
    }
   ],
   "source": [
    "url = 'https://raw.githubusercontent.com/MarcoCollesei/RentinBo/master/copy_of_dataset.csv'\n",
    "copy_of_dataset = pd.read_csv(url)\n",
    "copy_of_dataset"
   ]
  },
  {
   "cell_type": "markdown",
   "metadata": {},
   "source": [
    "Here's our dataset, as we can see these are renting prices for single and double rooms in Bologna.\n",
    "Each row has been completed with real informations that I've personally collected browsing on Subito.it"
   ]
  },
  {
   "cell_type": "markdown",
   "metadata": {},
   "source": [
    "## 2. Inspect  dataset dimension\n"
   ]
  },
  {
   "cell_type": "markdown",
   "metadata": {},
   "source": [
    "Simply get a look of the shape of 'copy_of_dataset'"
   ]
  },
  {
   "cell_type": "code",
   "execution_count": 14,
   "metadata": {},
   "outputs": [
    {
     "data": {
      "text/plain": [
       "(200, 9)"
      ]
     },
     "execution_count": 14,
     "metadata": {},
     "output_type": "execute_result"
    }
   ],
   "source": [
    "shape = copy_of_dataset.shape\n",
    "shape"
   ]
  },
  {
   "cell_type": "code",
   "execution_count": 15,
   "metadata": {},
   "outputs": [
    {
     "name": "stdout",
     "output_type": "stream",
     "text": [
      "tipologia\n",
      "doppia     100\n",
      "singola    100\n",
      "dtype: int64\n"
     ]
    }
   ],
   "source": [
    "class_counts = copy_of_dataset.groupby('tipologia').size()\n",
    "print(class_counts)"
   ]
  },
  {
   "cell_type": "markdown",
   "metadata": {},
   "source": [
    "We have 200 rows, exactly divided between single and double rooms, and 9 columns, of which the first 7 are the features and the last two are our target. (We'll drop the second last column later, because our purpose is to predict a range of rent prices, not an exact value. This comes from the consideration that rent prices are subject to homeowners' personal decisions and other factors not always included in ads)"
   ]
  },
  {
   "cell_type": "markdown",
   "metadata": {},
   "source": [
    "## 3. Get an idea of types in dataset"
   ]
  },
  {
   "cell_type": "code",
   "execution_count": 5,
   "metadata": {},
   "outputs": [
    {
     "name": "stdout",
     "output_type": "stream",
     "text": [
      "tipologia     object\n",
      "genere        object\n",
      "zona          object\n",
      "bagno          int64\n",
      "cucina         int64\n",
      "salotto        int64\n",
      "balcone        int64\n",
      "euro           int64\n",
      "range euro    object\n",
      "dtype: object\n"
     ]
    }
   ],
   "source": [
    "types = copy_of_dataset.dtypes\n",
    "print(types)"
   ]
  },
  {
   "cell_type": "markdown",
   "metadata": {},
   "source": [
    "It was pretty intuitive but it's better not to leave anything to chance."
   ]
  },
  {
   "cell_type": "markdown",
   "metadata": {},
   "source": [
    "## 4. Distribution of features"
   ]
  },
  {
   "cell_type": "markdown",
   "metadata": {},
   "source": [
    "Let's dive into dataset and get a feeling of how it is distributed"
   ]
  },
  {
   "cell_type": "code",
   "execution_count": 16,
   "metadata": {},
   "outputs": [
    {
     "name": "stdout",
     "output_type": "stream",
     "text": [
      "genere\n",
      "F       74\n",
      "M       21\n",
      "M/F    105\n",
      "dtype: int64\n"
     ]
    }
   ],
   "source": [
    "class_counts = copy_of_dataset.groupby('genere').size()\n",
    "print(class_counts)"
   ]
  },
  {
   "cell_type": "code",
   "execution_count": 24,
   "metadata": {},
   "outputs": [
    {
     "name": "stdout",
     "output_type": "stream",
     "text": [
      "zona\n",
      "Barca                2\n",
      "Bolognina           20\n",
      "Borgo Panigale       1\n",
      "Colli                2\n",
      "Corticella           4\n",
      "Costa Saragozza     14\n",
      "Costa Sareagozza     1\n",
      "Galvani              6\n",
      "Irnerio             23\n",
      "Lame                 8\n",
      "Malpighi             9\n",
      "Marconi             20\n",
      "Mazzini             17\n",
      "Murri               17\n",
      "S.Ruffillo           3\n",
      "S.Viola              2\n",
      "S.Vitale            11\n",
      "S.Vitale             1\n",
      "Saffi               13\n",
      "Saffi                1\n",
      "San Donato          25\n",
      "dtype: int64\n"
     ]
    }
   ],
   "source": [
    "class_counts = copy_of_dataset.groupby('zona').size()\n",
    "print(class_counts)"
   ]
  },
  {
   "cell_type": "code",
   "execution_count": 18,
   "metadata": {},
   "outputs": [
    {
     "name": "stdout",
     "output_type": "stream",
     "text": [
      "bagno\n",
      "1    166\n",
      "2     33\n",
      "3      1\n",
      "dtype: int64\n"
     ]
    }
   ],
   "source": [
    "class_counts = copy_of_dataset.groupby('bagno').size()\n",
    "print(class_counts)"
   ]
  },
  {
   "cell_type": "code",
   "execution_count": 19,
   "metadata": {},
   "outputs": [
    {
     "name": "stdout",
     "output_type": "stream",
     "text": [
      "cucina\n",
      "1    197\n",
      "2      3\n",
      "dtype: int64\n"
     ]
    }
   ],
   "source": [
    "class_counts = copy_of_dataset.groupby('cucina').size()\n",
    "print(class_counts)"
   ]
  },
  {
   "cell_type": "code",
   "execution_count": 20,
   "metadata": {},
   "outputs": [
    {
     "name": "stdout",
     "output_type": "stream",
     "text": [
      "salotto\n",
      "0    137\n",
      "1     63\n",
      "dtype: int64\n"
     ]
    }
   ],
   "source": [
    "class_counts = copy_of_dataset.groupby('salotto').size()\n",
    "print(class_counts)"
   ]
  },
  {
   "cell_type": "code",
   "execution_count": 22,
   "metadata": {},
   "outputs": [
    {
     "name": "stdout",
     "output_type": "stream",
     "text": [
      "balcone\n",
      "0    122\n",
      "1     71\n",
      "2      5\n",
      "3      2\n",
      "dtype: int64\n"
     ]
    }
   ],
   "source": [
    "class_counts = copy_of_dataset.groupby('balcone').size()\n",
    "print(class_counts)"
   ]
  },
  {
   "cell_type": "code",
   "execution_count": 23,
   "metadata": {},
   "outputs": [
    {
     "name": "stdout",
     "output_type": "stream",
     "text": [
      "range euro\n",
      "175-200     3\n",
      "200-225    12\n",
      "225-250    20\n",
      "250-275    30\n",
      "275-300    13\n",
      "300-325    21\n",
      "325-350    14\n",
      "350-375    24\n",
      "375-400     8\n",
      "400-425    24\n",
      "425-450     4\n",
      "450-475    16\n",
      "500-525     6\n",
      "525-550     1\n",
      "550-575     3\n",
      "650-675     1\n",
      "dtype: int64\n"
     ]
    }
   ],
   "source": [
    "class_counts = copy_of_dataset.groupby('range euro').size()\n",
    "print(class_counts)"
   ]
  },
  {
   "cell_type": "code",
   "execution_count": null,
   "metadata": {},
   "outputs": [],
   "source": []
  }
 ],
 "metadata": {
  "kernelspec": {
   "display_name": "Python 3",
   "language": "python",
   "name": "python3"
  },
  "language_info": {
   "codemirror_mode": {
    "name": "ipython",
    "version": 3
   },
   "file_extension": ".py",
   "mimetype": "text/x-python",
   "name": "python",
   "nbconvert_exporter": "python",
   "pygments_lexer": "ipython3",
   "version": "3.8.3"
  }
 },
 "nbformat": 4,
 "nbformat_minor": 4
}
