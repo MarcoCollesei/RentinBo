{
 "cells": [
  {
   "cell_type": "markdown",
   "metadata": {},
   "source": [
    "# RentinBo"
   ]
  },
  {
   "cell_type": "markdown",
   "metadata": {},
   "source": [
    "The aim of this project is to train a RandomForestClassifier on our dataset in order to predict in which class, or range, of euros a combination of features would fall."
   ]
  },
  {
   "cell_type": "markdown",
   "metadata": {},
   "source": [
    "## 1. Check the dataset"
   ]
  },
  {
   "cell_type": "markdown",
   "metadata": {},
   "source": [
    "First of all we have to be sure that our features can be read and used by the algorithm."
   ]
  },
  {
   "cell_type": "code",
   "execution_count": 916,
   "metadata": {},
   "outputs": [],
   "source": [
    "import pandas as pd"
   ]
  },
  {
   "cell_type": "code",
   "execution_count": 917,
   "metadata": {},
   "outputs": [],
   "source": [
    "dataset = pd.read_csv('ready_dataset.csv')"
   ]
  },
  {
   "cell_type": "code",
   "execution_count": 918,
   "metadata": {},
   "outputs": [
    {
     "data": {
      "text/html": [
       "<div>\n",
       "<style scoped>\n",
       "    .dataframe tbody tr th:only-of-type {\n",
       "        vertical-align: middle;\n",
       "    }\n",
       "\n",
       "    .dataframe tbody tr th {\n",
       "        vertical-align: top;\n",
       "    }\n",
       "\n",
       "    .dataframe thead th {\n",
       "        text-align: right;\n",
       "    }\n",
       "</style>\n",
       "<table border=\"1\" class=\"dataframe\">\n",
       "  <thead>\n",
       "    <tr style=\"text-align: right;\">\n",
       "      <th></th>\n",
       "      <th>tipologia</th>\n",
       "      <th>genere</th>\n",
       "      <th>zona</th>\n",
       "      <th>bagno</th>\n",
       "      <th>cucina</th>\n",
       "      <th>salotto</th>\n",
       "      <th>balcone</th>\n",
       "      <th>range euro</th>\n",
       "    </tr>\n",
       "  </thead>\n",
       "  <tbody>\n",
       "    <tr>\n",
       "      <th>0</th>\n",
       "      <td>doppia</td>\n",
       "      <td>F</td>\n",
       "      <td>Murri</td>\n",
       "      <td>2</td>\n",
       "      <td>1</td>\n",
       "      <td>0</td>\n",
       "      <td>0</td>\n",
       "      <td>200-225</td>\n",
       "    </tr>\n",
       "    <tr>\n",
       "      <th>1</th>\n",
       "      <td>doppia</td>\n",
       "      <td>F</td>\n",
       "      <td>Marconi</td>\n",
       "      <td>2</td>\n",
       "      <td>1</td>\n",
       "      <td>1</td>\n",
       "      <td>0</td>\n",
       "      <td>225-250</td>\n",
       "    </tr>\n",
       "    <tr>\n",
       "      <th>2</th>\n",
       "      <td>doppia</td>\n",
       "      <td>M/F</td>\n",
       "      <td>Bolognina</td>\n",
       "      <td>1</td>\n",
       "      <td>1</td>\n",
       "      <td>1</td>\n",
       "      <td>0</td>\n",
       "      <td>250-275</td>\n",
       "    </tr>\n",
       "    <tr>\n",
       "      <th>3</th>\n",
       "      <td>singola</td>\n",
       "      <td>F</td>\n",
       "      <td>S.Vitale</td>\n",
       "      <td>1</td>\n",
       "      <td>1</td>\n",
       "      <td>0</td>\n",
       "      <td>1</td>\n",
       "      <td>400-425</td>\n",
       "    </tr>\n",
       "    <tr>\n",
       "      <th>4</th>\n",
       "      <td>singola</td>\n",
       "      <td>F</td>\n",
       "      <td>Irnerio</td>\n",
       "      <td>1</td>\n",
       "      <td>1</td>\n",
       "      <td>0</td>\n",
       "      <td>1</td>\n",
       "      <td>500-525</td>\n",
       "    </tr>\n",
       "    <tr>\n",
       "      <th>...</th>\n",
       "      <td>...</td>\n",
       "      <td>...</td>\n",
       "      <td>...</td>\n",
       "      <td>...</td>\n",
       "      <td>...</td>\n",
       "      <td>...</td>\n",
       "      <td>...</td>\n",
       "      <td>...</td>\n",
       "    </tr>\n",
       "    <tr>\n",
       "      <th>195</th>\n",
       "      <td>doppia</td>\n",
       "      <td>M</td>\n",
       "      <td>Irnerio</td>\n",
       "      <td>1</td>\n",
       "      <td>1</td>\n",
       "      <td>0</td>\n",
       "      <td>0</td>\n",
       "      <td>200-225</td>\n",
       "    </tr>\n",
       "    <tr>\n",
       "      <th>196</th>\n",
       "      <td>doppia</td>\n",
       "      <td>M/F</td>\n",
       "      <td>Bolognina</td>\n",
       "      <td>2</td>\n",
       "      <td>1</td>\n",
       "      <td>1</td>\n",
       "      <td>1</td>\n",
       "      <td>225-250</td>\n",
       "    </tr>\n",
       "    <tr>\n",
       "      <th>197</th>\n",
       "      <td>doppia</td>\n",
       "      <td>M/F</td>\n",
       "      <td>Bolognina</td>\n",
       "      <td>1</td>\n",
       "      <td>1</td>\n",
       "      <td>1</td>\n",
       "      <td>1</td>\n",
       "      <td>225-250</td>\n",
       "    </tr>\n",
       "    <tr>\n",
       "      <th>198</th>\n",
       "      <td>singola</td>\n",
       "      <td>M/F</td>\n",
       "      <td>San Donato</td>\n",
       "      <td>1</td>\n",
       "      <td>1</td>\n",
       "      <td>0</td>\n",
       "      <td>0</td>\n",
       "      <td>350-375</td>\n",
       "    </tr>\n",
       "    <tr>\n",
       "      <th>199</th>\n",
       "      <td>singola</td>\n",
       "      <td>M/F</td>\n",
       "      <td>Lame</td>\n",
       "      <td>1</td>\n",
       "      <td>1</td>\n",
       "      <td>0</td>\n",
       "      <td>0</td>\n",
       "      <td>325-350</td>\n",
       "    </tr>\n",
       "  </tbody>\n",
       "</table>\n",
       "<p>200 rows × 8 columns</p>\n",
       "</div>"
      ],
      "text/plain": [
       "    tipologia genere        zona  bagno  cucina  salotto  balcone range euro\n",
       "0      doppia      F       Murri      2       1        0        0    200-225\n",
       "1      doppia      F     Marconi      2       1        1        0    225-250\n",
       "2      doppia    M/F   Bolognina      1       1        1        0    250-275\n",
       "3     singola      F    S.Vitale      1       1        0        1    400-425\n",
       "4     singola      F     Irnerio      1       1        0        1    500-525\n",
       "..        ...    ...         ...    ...     ...      ...      ...        ...\n",
       "195    doppia      M     Irnerio      1       1        0        0    200-225\n",
       "196    doppia    M/F   Bolognina      2       1        1        1    225-250\n",
       "197    doppia    M/F   Bolognina      1       1        1        1    225-250\n",
       "198   singola    M/F  San Donato      1       1        0        0    350-375\n",
       "199   singola    M/F        Lame      1       1        0        0    325-350\n",
       "\n",
       "[200 rows x 8 columns]"
      ]
     },
     "execution_count": 918,
     "metadata": {},
     "output_type": "execute_result"
    }
   ],
   "source": [
    "dataset = dataset.drop(columns = 'Unnamed: 0')\n",
    "dataset"
   ]
  },
  {
   "cell_type": "code",
   "execution_count": 919,
   "metadata": {},
   "outputs": [
    {
     "data": {
      "text/plain": [
       "tipologia     object\n",
       "genere        object\n",
       "zona          object\n",
       "bagno          int64\n",
       "cucina         int64\n",
       "salotto        int64\n",
       "balcone        int64\n",
       "range euro    object\n",
       "dtype: object"
      ]
     },
     "execution_count": 919,
     "metadata": {},
     "output_type": "execute_result"
    }
   ],
   "source": [
    "dataset.dtypes"
   ]
  },
  {
   "cell_type": "markdown",
   "metadata": {},
   "source": [
    "As we can see some of the values are categorical, others are numerical. RFC accepts only numerical values, so we have to do some transformation. "
   ]
  },
  {
   "cell_type": "markdown",
   "metadata": {},
   "source": [
    "## 2. Categorical features transformation"
   ]
  },
  {
   "cell_type": "markdown",
   "metadata": {},
   "source": [
    "We are going to use a One Hot Encoding method for the dataframe for those features that are not numerical ('tipologia', 'genere', 'zona'). This will increase considerably the dimension of our dataset, but it is way quicker than replacing each feature in the rows manually."
   ]
  },
  {
   "cell_type": "code",
   "execution_count": 920,
   "metadata": {},
   "outputs": [
    {
     "data": {
      "text/html": [
       "<div>\n",
       "<style scoped>\n",
       "    .dataframe tbody tr th:only-of-type {\n",
       "        vertical-align: middle;\n",
       "    }\n",
       "\n",
       "    .dataframe tbody tr th {\n",
       "        vertical-align: top;\n",
       "    }\n",
       "\n",
       "    .dataframe thead th {\n",
       "        text-align: right;\n",
       "    }\n",
       "</style>\n",
       "<table border=\"1\" class=\"dataframe\">\n",
       "  <thead>\n",
       "    <tr style=\"text-align: right;\">\n",
       "      <th></th>\n",
       "      <th>bagno</th>\n",
       "      <th>cucina</th>\n",
       "      <th>salotto</th>\n",
       "      <th>balcone</th>\n",
       "      <th>range euro</th>\n",
       "      <th>tipologia_doppia</th>\n",
       "      <th>tipologia_singola</th>\n",
       "      <th>genere_F</th>\n",
       "      <th>genere_M</th>\n",
       "      <th>genere_M/F</th>\n",
       "      <th>...</th>\n",
       "      <th>zona_Lame</th>\n",
       "      <th>zona_Malpighi</th>\n",
       "      <th>zona_Marconi</th>\n",
       "      <th>zona_Mazzini</th>\n",
       "      <th>zona_Murri</th>\n",
       "      <th>zona_S.Ruffillo</th>\n",
       "      <th>zona_S.Viola</th>\n",
       "      <th>zona_S.Vitale</th>\n",
       "      <th>zona_Saffi</th>\n",
       "      <th>zona_San Donato</th>\n",
       "    </tr>\n",
       "  </thead>\n",
       "  <tbody>\n",
       "    <tr>\n",
       "      <th>0</th>\n",
       "      <td>2</td>\n",
       "      <td>1</td>\n",
       "      <td>0</td>\n",
       "      <td>0</td>\n",
       "      <td>200-225</td>\n",
       "      <td>1</td>\n",
       "      <td>0</td>\n",
       "      <td>1</td>\n",
       "      <td>0</td>\n",
       "      <td>0</td>\n",
       "      <td>...</td>\n",
       "      <td>0</td>\n",
       "      <td>0</td>\n",
       "      <td>0</td>\n",
       "      <td>0</td>\n",
       "      <td>1</td>\n",
       "      <td>0</td>\n",
       "      <td>0</td>\n",
       "      <td>0</td>\n",
       "      <td>0</td>\n",
       "      <td>0</td>\n",
       "    </tr>\n",
       "    <tr>\n",
       "      <th>1</th>\n",
       "      <td>2</td>\n",
       "      <td>1</td>\n",
       "      <td>1</td>\n",
       "      <td>0</td>\n",
       "      <td>225-250</td>\n",
       "      <td>1</td>\n",
       "      <td>0</td>\n",
       "      <td>1</td>\n",
       "      <td>0</td>\n",
       "      <td>0</td>\n",
       "      <td>...</td>\n",
       "      <td>0</td>\n",
       "      <td>0</td>\n",
       "      <td>1</td>\n",
       "      <td>0</td>\n",
       "      <td>0</td>\n",
       "      <td>0</td>\n",
       "      <td>0</td>\n",
       "      <td>0</td>\n",
       "      <td>0</td>\n",
       "      <td>0</td>\n",
       "    </tr>\n",
       "    <tr>\n",
       "      <th>2</th>\n",
       "      <td>1</td>\n",
       "      <td>1</td>\n",
       "      <td>1</td>\n",
       "      <td>0</td>\n",
       "      <td>250-275</td>\n",
       "      <td>1</td>\n",
       "      <td>0</td>\n",
       "      <td>0</td>\n",
       "      <td>0</td>\n",
       "      <td>1</td>\n",
       "      <td>...</td>\n",
       "      <td>0</td>\n",
       "      <td>0</td>\n",
       "      <td>0</td>\n",
       "      <td>0</td>\n",
       "      <td>0</td>\n",
       "      <td>0</td>\n",
       "      <td>0</td>\n",
       "      <td>0</td>\n",
       "      <td>0</td>\n",
       "      <td>0</td>\n",
       "    </tr>\n",
       "    <tr>\n",
       "      <th>3</th>\n",
       "      <td>1</td>\n",
       "      <td>1</td>\n",
       "      <td>0</td>\n",
       "      <td>1</td>\n",
       "      <td>400-425</td>\n",
       "      <td>0</td>\n",
       "      <td>1</td>\n",
       "      <td>1</td>\n",
       "      <td>0</td>\n",
       "      <td>0</td>\n",
       "      <td>...</td>\n",
       "      <td>0</td>\n",
       "      <td>0</td>\n",
       "      <td>0</td>\n",
       "      <td>0</td>\n",
       "      <td>0</td>\n",
       "      <td>0</td>\n",
       "      <td>0</td>\n",
       "      <td>1</td>\n",
       "      <td>0</td>\n",
       "      <td>0</td>\n",
       "    </tr>\n",
       "    <tr>\n",
       "      <th>4</th>\n",
       "      <td>1</td>\n",
       "      <td>1</td>\n",
       "      <td>0</td>\n",
       "      <td>1</td>\n",
       "      <td>500-525</td>\n",
       "      <td>0</td>\n",
       "      <td>1</td>\n",
       "      <td>1</td>\n",
       "      <td>0</td>\n",
       "      <td>0</td>\n",
       "      <td>...</td>\n",
       "      <td>0</td>\n",
       "      <td>0</td>\n",
       "      <td>0</td>\n",
       "      <td>0</td>\n",
       "      <td>0</td>\n",
       "      <td>0</td>\n",
       "      <td>0</td>\n",
       "      <td>0</td>\n",
       "      <td>0</td>\n",
       "      <td>0</td>\n",
       "    </tr>\n",
       "    <tr>\n",
       "      <th>...</th>\n",
       "      <td>...</td>\n",
       "      <td>...</td>\n",
       "      <td>...</td>\n",
       "      <td>...</td>\n",
       "      <td>...</td>\n",
       "      <td>...</td>\n",
       "      <td>...</td>\n",
       "      <td>...</td>\n",
       "      <td>...</td>\n",
       "      <td>...</td>\n",
       "      <td>...</td>\n",
       "      <td>...</td>\n",
       "      <td>...</td>\n",
       "      <td>...</td>\n",
       "      <td>...</td>\n",
       "      <td>...</td>\n",
       "      <td>...</td>\n",
       "      <td>...</td>\n",
       "      <td>...</td>\n",
       "      <td>...</td>\n",
       "      <td>...</td>\n",
       "    </tr>\n",
       "    <tr>\n",
       "      <th>195</th>\n",
       "      <td>1</td>\n",
       "      <td>1</td>\n",
       "      <td>0</td>\n",
       "      <td>0</td>\n",
       "      <td>200-225</td>\n",
       "      <td>1</td>\n",
       "      <td>0</td>\n",
       "      <td>0</td>\n",
       "      <td>1</td>\n",
       "      <td>0</td>\n",
       "      <td>...</td>\n",
       "      <td>0</td>\n",
       "      <td>0</td>\n",
       "      <td>0</td>\n",
       "      <td>0</td>\n",
       "      <td>0</td>\n",
       "      <td>0</td>\n",
       "      <td>0</td>\n",
       "      <td>0</td>\n",
       "      <td>0</td>\n",
       "      <td>0</td>\n",
       "    </tr>\n",
       "    <tr>\n",
       "      <th>196</th>\n",
       "      <td>2</td>\n",
       "      <td>1</td>\n",
       "      <td>1</td>\n",
       "      <td>1</td>\n",
       "      <td>225-250</td>\n",
       "      <td>1</td>\n",
       "      <td>0</td>\n",
       "      <td>0</td>\n",
       "      <td>0</td>\n",
       "      <td>1</td>\n",
       "      <td>...</td>\n",
       "      <td>0</td>\n",
       "      <td>0</td>\n",
       "      <td>0</td>\n",
       "      <td>0</td>\n",
       "      <td>0</td>\n",
       "      <td>0</td>\n",
       "      <td>0</td>\n",
       "      <td>0</td>\n",
       "      <td>0</td>\n",
       "      <td>0</td>\n",
       "    </tr>\n",
       "    <tr>\n",
       "      <th>197</th>\n",
       "      <td>1</td>\n",
       "      <td>1</td>\n",
       "      <td>1</td>\n",
       "      <td>1</td>\n",
       "      <td>225-250</td>\n",
       "      <td>1</td>\n",
       "      <td>0</td>\n",
       "      <td>0</td>\n",
       "      <td>0</td>\n",
       "      <td>1</td>\n",
       "      <td>...</td>\n",
       "      <td>0</td>\n",
       "      <td>0</td>\n",
       "      <td>0</td>\n",
       "      <td>0</td>\n",
       "      <td>0</td>\n",
       "      <td>0</td>\n",
       "      <td>0</td>\n",
       "      <td>0</td>\n",
       "      <td>0</td>\n",
       "      <td>0</td>\n",
       "    </tr>\n",
       "    <tr>\n",
       "      <th>198</th>\n",
       "      <td>1</td>\n",
       "      <td>1</td>\n",
       "      <td>0</td>\n",
       "      <td>0</td>\n",
       "      <td>350-375</td>\n",
       "      <td>0</td>\n",
       "      <td>1</td>\n",
       "      <td>0</td>\n",
       "      <td>0</td>\n",
       "      <td>1</td>\n",
       "      <td>...</td>\n",
       "      <td>0</td>\n",
       "      <td>0</td>\n",
       "      <td>0</td>\n",
       "      <td>0</td>\n",
       "      <td>0</td>\n",
       "      <td>0</td>\n",
       "      <td>0</td>\n",
       "      <td>0</td>\n",
       "      <td>0</td>\n",
       "      <td>1</td>\n",
       "    </tr>\n",
       "    <tr>\n",
       "      <th>199</th>\n",
       "      <td>1</td>\n",
       "      <td>1</td>\n",
       "      <td>0</td>\n",
       "      <td>0</td>\n",
       "      <td>325-350</td>\n",
       "      <td>0</td>\n",
       "      <td>1</td>\n",
       "      <td>0</td>\n",
       "      <td>0</td>\n",
       "      <td>1</td>\n",
       "      <td>...</td>\n",
       "      <td>1</td>\n",
       "      <td>0</td>\n",
       "      <td>0</td>\n",
       "      <td>0</td>\n",
       "      <td>0</td>\n",
       "      <td>0</td>\n",
       "      <td>0</td>\n",
       "      <td>0</td>\n",
       "      <td>0</td>\n",
       "      <td>0</td>\n",
       "    </tr>\n",
       "  </tbody>\n",
       "</table>\n",
       "<p>200 rows × 28 columns</p>\n",
       "</div>"
      ],
      "text/plain": [
       "     bagno  cucina  salotto  balcone range euro  tipologia_doppia  \\\n",
       "0        2       1        0        0    200-225                 1   \n",
       "1        2       1        1        0    225-250                 1   \n",
       "2        1       1        1        0    250-275                 1   \n",
       "3        1       1        0        1    400-425                 0   \n",
       "4        1       1        0        1    500-525                 0   \n",
       "..     ...     ...      ...      ...        ...               ...   \n",
       "195      1       1        0        0    200-225                 1   \n",
       "196      2       1        1        1    225-250                 1   \n",
       "197      1       1        1        1    225-250                 1   \n",
       "198      1       1        0        0    350-375                 0   \n",
       "199      1       1        0        0    325-350                 0   \n",
       "\n",
       "     tipologia_singola  genere_F  genere_M  genere_M/F  ...  zona_Lame  \\\n",
       "0                    0         1         0           0  ...          0   \n",
       "1                    0         1         0           0  ...          0   \n",
       "2                    0         0         0           1  ...          0   \n",
       "3                    1         1         0           0  ...          0   \n",
       "4                    1         1         0           0  ...          0   \n",
       "..                 ...       ...       ...         ...  ...        ...   \n",
       "195                  0         0         1           0  ...          0   \n",
       "196                  0         0         0           1  ...          0   \n",
       "197                  0         0         0           1  ...          0   \n",
       "198                  1         0         0           1  ...          0   \n",
       "199                  1         0         0           1  ...          1   \n",
       "\n",
       "     zona_Malpighi  zona_Marconi  zona_Mazzini  zona_Murri  zona_S.Ruffillo  \\\n",
       "0                0             0             0           1                0   \n",
       "1                0             1             0           0                0   \n",
       "2                0             0             0           0                0   \n",
       "3                0             0             0           0                0   \n",
       "4                0             0             0           0                0   \n",
       "..             ...           ...           ...         ...              ...   \n",
       "195              0             0             0           0                0   \n",
       "196              0             0             0           0                0   \n",
       "197              0             0             0           0                0   \n",
       "198              0             0             0           0                0   \n",
       "199              0             0             0           0                0   \n",
       "\n",
       "     zona_S.Viola  zona_S.Vitale  zona_Saffi  zona_San Donato  \n",
       "0               0              0           0                0  \n",
       "1               0              0           0                0  \n",
       "2               0              0           0                0  \n",
       "3               0              1           0                0  \n",
       "4               0              0           0                0  \n",
       "..            ...            ...         ...              ...  \n",
       "195             0              0           0                0  \n",
       "196             0              0           0                0  \n",
       "197             0              0           0                0  \n",
       "198             0              0           0                1  \n",
       "199             0              0           0                0  \n",
       "\n",
       "[200 rows x 28 columns]"
      ]
     },
     "execution_count": 920,
     "metadata": {},
     "output_type": "execute_result"
    }
   ],
   "source": [
    "dummy_dataset = pd.get_dummies(dataset, columns = ['tipologia', 'genere', 'zona'])\n",
    "dummy_dataset"
   ]
  },
  {
   "cell_type": "markdown",
   "metadata": {},
   "source": [
    "Just to split the values in our dataframe  between a features array and a target array we move the 'range euro' column to the end of the dataset."
   ]
  },
  {
   "cell_type": "code",
   "execution_count": 921,
   "metadata": {},
   "outputs": [
    {
     "data": {
      "text/html": [
       "<div>\n",
       "<style scoped>\n",
       "    .dataframe tbody tr th:only-of-type {\n",
       "        vertical-align: middle;\n",
       "    }\n",
       "\n",
       "    .dataframe tbody tr th {\n",
       "        vertical-align: top;\n",
       "    }\n",
       "\n",
       "    .dataframe thead th {\n",
       "        text-align: right;\n",
       "    }\n",
       "</style>\n",
       "<table border=\"1\" class=\"dataframe\">\n",
       "  <thead>\n",
       "    <tr style=\"text-align: right;\">\n",
       "      <th></th>\n",
       "      <th>bagno</th>\n",
       "      <th>cucina</th>\n",
       "      <th>salotto</th>\n",
       "      <th>balcone</th>\n",
       "      <th>tipologia_doppia</th>\n",
       "      <th>tipologia_singola</th>\n",
       "      <th>genere_F</th>\n",
       "      <th>genere_M</th>\n",
       "      <th>genere_M/F</th>\n",
       "      <th>zona_Barca</th>\n",
       "      <th>...</th>\n",
       "      <th>zona_Malpighi</th>\n",
       "      <th>zona_Marconi</th>\n",
       "      <th>zona_Mazzini</th>\n",
       "      <th>zona_Murri</th>\n",
       "      <th>zona_S.Ruffillo</th>\n",
       "      <th>zona_S.Viola</th>\n",
       "      <th>zona_S.Vitale</th>\n",
       "      <th>zona_Saffi</th>\n",
       "      <th>zona_San Donato</th>\n",
       "      <th>range euro</th>\n",
       "    </tr>\n",
       "  </thead>\n",
       "  <tbody>\n",
       "    <tr>\n",
       "      <th>0</th>\n",
       "      <td>2</td>\n",
       "      <td>1</td>\n",
       "      <td>0</td>\n",
       "      <td>0</td>\n",
       "      <td>1</td>\n",
       "      <td>0</td>\n",
       "      <td>1</td>\n",
       "      <td>0</td>\n",
       "      <td>0</td>\n",
       "      <td>0</td>\n",
       "      <td>...</td>\n",
       "      <td>0</td>\n",
       "      <td>0</td>\n",
       "      <td>0</td>\n",
       "      <td>1</td>\n",
       "      <td>0</td>\n",
       "      <td>0</td>\n",
       "      <td>0</td>\n",
       "      <td>0</td>\n",
       "      <td>0</td>\n",
       "      <td>200-225</td>\n",
       "    </tr>\n",
       "    <tr>\n",
       "      <th>1</th>\n",
       "      <td>2</td>\n",
       "      <td>1</td>\n",
       "      <td>1</td>\n",
       "      <td>0</td>\n",
       "      <td>1</td>\n",
       "      <td>0</td>\n",
       "      <td>1</td>\n",
       "      <td>0</td>\n",
       "      <td>0</td>\n",
       "      <td>0</td>\n",
       "      <td>...</td>\n",
       "      <td>0</td>\n",
       "      <td>1</td>\n",
       "      <td>0</td>\n",
       "      <td>0</td>\n",
       "      <td>0</td>\n",
       "      <td>0</td>\n",
       "      <td>0</td>\n",
       "      <td>0</td>\n",
       "      <td>0</td>\n",
       "      <td>225-250</td>\n",
       "    </tr>\n",
       "    <tr>\n",
       "      <th>2</th>\n",
       "      <td>1</td>\n",
       "      <td>1</td>\n",
       "      <td>1</td>\n",
       "      <td>0</td>\n",
       "      <td>1</td>\n",
       "      <td>0</td>\n",
       "      <td>0</td>\n",
       "      <td>0</td>\n",
       "      <td>1</td>\n",
       "      <td>0</td>\n",
       "      <td>...</td>\n",
       "      <td>0</td>\n",
       "      <td>0</td>\n",
       "      <td>0</td>\n",
       "      <td>0</td>\n",
       "      <td>0</td>\n",
       "      <td>0</td>\n",
       "      <td>0</td>\n",
       "      <td>0</td>\n",
       "      <td>0</td>\n",
       "      <td>250-275</td>\n",
       "    </tr>\n",
       "    <tr>\n",
       "      <th>3</th>\n",
       "      <td>1</td>\n",
       "      <td>1</td>\n",
       "      <td>0</td>\n",
       "      <td>1</td>\n",
       "      <td>0</td>\n",
       "      <td>1</td>\n",
       "      <td>1</td>\n",
       "      <td>0</td>\n",
       "      <td>0</td>\n",
       "      <td>0</td>\n",
       "      <td>...</td>\n",
       "      <td>0</td>\n",
       "      <td>0</td>\n",
       "      <td>0</td>\n",
       "      <td>0</td>\n",
       "      <td>0</td>\n",
       "      <td>0</td>\n",
       "      <td>1</td>\n",
       "      <td>0</td>\n",
       "      <td>0</td>\n",
       "      <td>400-425</td>\n",
       "    </tr>\n",
       "    <tr>\n",
       "      <th>4</th>\n",
       "      <td>1</td>\n",
       "      <td>1</td>\n",
       "      <td>0</td>\n",
       "      <td>1</td>\n",
       "      <td>0</td>\n",
       "      <td>1</td>\n",
       "      <td>1</td>\n",
       "      <td>0</td>\n",
       "      <td>0</td>\n",
       "      <td>0</td>\n",
       "      <td>...</td>\n",
       "      <td>0</td>\n",
       "      <td>0</td>\n",
       "      <td>0</td>\n",
       "      <td>0</td>\n",
       "      <td>0</td>\n",
       "      <td>0</td>\n",
       "      <td>0</td>\n",
       "      <td>0</td>\n",
       "      <td>0</td>\n",
       "      <td>500-525</td>\n",
       "    </tr>\n",
       "    <tr>\n",
       "      <th>...</th>\n",
       "      <td>...</td>\n",
       "      <td>...</td>\n",
       "      <td>...</td>\n",
       "      <td>...</td>\n",
       "      <td>...</td>\n",
       "      <td>...</td>\n",
       "      <td>...</td>\n",
       "      <td>...</td>\n",
       "      <td>...</td>\n",
       "      <td>...</td>\n",
       "      <td>...</td>\n",
       "      <td>...</td>\n",
       "      <td>...</td>\n",
       "      <td>...</td>\n",
       "      <td>...</td>\n",
       "      <td>...</td>\n",
       "      <td>...</td>\n",
       "      <td>...</td>\n",
       "      <td>...</td>\n",
       "      <td>...</td>\n",
       "      <td>...</td>\n",
       "    </tr>\n",
       "    <tr>\n",
       "      <th>195</th>\n",
       "      <td>1</td>\n",
       "      <td>1</td>\n",
       "      <td>0</td>\n",
       "      <td>0</td>\n",
       "      <td>1</td>\n",
       "      <td>0</td>\n",
       "      <td>0</td>\n",
       "      <td>1</td>\n",
       "      <td>0</td>\n",
       "      <td>0</td>\n",
       "      <td>...</td>\n",
       "      <td>0</td>\n",
       "      <td>0</td>\n",
       "      <td>0</td>\n",
       "      <td>0</td>\n",
       "      <td>0</td>\n",
       "      <td>0</td>\n",
       "      <td>0</td>\n",
       "      <td>0</td>\n",
       "      <td>0</td>\n",
       "      <td>200-225</td>\n",
       "    </tr>\n",
       "    <tr>\n",
       "      <th>196</th>\n",
       "      <td>2</td>\n",
       "      <td>1</td>\n",
       "      <td>1</td>\n",
       "      <td>1</td>\n",
       "      <td>1</td>\n",
       "      <td>0</td>\n",
       "      <td>0</td>\n",
       "      <td>0</td>\n",
       "      <td>1</td>\n",
       "      <td>0</td>\n",
       "      <td>...</td>\n",
       "      <td>0</td>\n",
       "      <td>0</td>\n",
       "      <td>0</td>\n",
       "      <td>0</td>\n",
       "      <td>0</td>\n",
       "      <td>0</td>\n",
       "      <td>0</td>\n",
       "      <td>0</td>\n",
       "      <td>0</td>\n",
       "      <td>225-250</td>\n",
       "    </tr>\n",
       "    <tr>\n",
       "      <th>197</th>\n",
       "      <td>1</td>\n",
       "      <td>1</td>\n",
       "      <td>1</td>\n",
       "      <td>1</td>\n",
       "      <td>1</td>\n",
       "      <td>0</td>\n",
       "      <td>0</td>\n",
       "      <td>0</td>\n",
       "      <td>1</td>\n",
       "      <td>0</td>\n",
       "      <td>...</td>\n",
       "      <td>0</td>\n",
       "      <td>0</td>\n",
       "      <td>0</td>\n",
       "      <td>0</td>\n",
       "      <td>0</td>\n",
       "      <td>0</td>\n",
       "      <td>0</td>\n",
       "      <td>0</td>\n",
       "      <td>0</td>\n",
       "      <td>225-250</td>\n",
       "    </tr>\n",
       "    <tr>\n",
       "      <th>198</th>\n",
       "      <td>1</td>\n",
       "      <td>1</td>\n",
       "      <td>0</td>\n",
       "      <td>0</td>\n",
       "      <td>0</td>\n",
       "      <td>1</td>\n",
       "      <td>0</td>\n",
       "      <td>0</td>\n",
       "      <td>1</td>\n",
       "      <td>0</td>\n",
       "      <td>...</td>\n",
       "      <td>0</td>\n",
       "      <td>0</td>\n",
       "      <td>0</td>\n",
       "      <td>0</td>\n",
       "      <td>0</td>\n",
       "      <td>0</td>\n",
       "      <td>0</td>\n",
       "      <td>0</td>\n",
       "      <td>1</td>\n",
       "      <td>350-375</td>\n",
       "    </tr>\n",
       "    <tr>\n",
       "      <th>199</th>\n",
       "      <td>1</td>\n",
       "      <td>1</td>\n",
       "      <td>0</td>\n",
       "      <td>0</td>\n",
       "      <td>0</td>\n",
       "      <td>1</td>\n",
       "      <td>0</td>\n",
       "      <td>0</td>\n",
       "      <td>1</td>\n",
       "      <td>0</td>\n",
       "      <td>...</td>\n",
       "      <td>0</td>\n",
       "      <td>0</td>\n",
       "      <td>0</td>\n",
       "      <td>0</td>\n",
       "      <td>0</td>\n",
       "      <td>0</td>\n",
       "      <td>0</td>\n",
       "      <td>0</td>\n",
       "      <td>0</td>\n",
       "      <td>325-350</td>\n",
       "    </tr>\n",
       "  </tbody>\n",
       "</table>\n",
       "<p>200 rows × 28 columns</p>\n",
       "</div>"
      ],
      "text/plain": [
       "     bagno  cucina  salotto  balcone  tipologia_doppia  tipologia_singola  \\\n",
       "0        2       1        0        0                 1                  0   \n",
       "1        2       1        1        0                 1                  0   \n",
       "2        1       1        1        0                 1                  0   \n",
       "3        1       1        0        1                 0                  1   \n",
       "4        1       1        0        1                 0                  1   \n",
       "..     ...     ...      ...      ...               ...                ...   \n",
       "195      1       1        0        0                 1                  0   \n",
       "196      2       1        1        1                 1                  0   \n",
       "197      1       1        1        1                 1                  0   \n",
       "198      1       1        0        0                 0                  1   \n",
       "199      1       1        0        0                 0                  1   \n",
       "\n",
       "     genere_F  genere_M  genere_M/F  zona_Barca  ...  zona_Malpighi  \\\n",
       "0           1         0           0           0  ...              0   \n",
       "1           1         0           0           0  ...              0   \n",
       "2           0         0           1           0  ...              0   \n",
       "3           1         0           0           0  ...              0   \n",
       "4           1         0           0           0  ...              0   \n",
       "..        ...       ...         ...         ...  ...            ...   \n",
       "195         0         1           0           0  ...              0   \n",
       "196         0         0           1           0  ...              0   \n",
       "197         0         0           1           0  ...              0   \n",
       "198         0         0           1           0  ...              0   \n",
       "199         0         0           1           0  ...              0   \n",
       "\n",
       "     zona_Marconi  zona_Mazzini  zona_Murri  zona_S.Ruffillo  zona_S.Viola  \\\n",
       "0               0             0           1                0             0   \n",
       "1               1             0           0                0             0   \n",
       "2               0             0           0                0             0   \n",
       "3               0             0           0                0             0   \n",
       "4               0             0           0                0             0   \n",
       "..            ...           ...         ...              ...           ...   \n",
       "195             0             0           0                0             0   \n",
       "196             0             0           0                0             0   \n",
       "197             0             0           0                0             0   \n",
       "198             0             0           0                0             0   \n",
       "199             0             0           0                0             0   \n",
       "\n",
       "     zona_S.Vitale  zona_Saffi  zona_San Donato  range euro  \n",
       "0                0           0                0     200-225  \n",
       "1                0           0                0     225-250  \n",
       "2                0           0                0     250-275  \n",
       "3                1           0                0     400-425  \n",
       "4                0           0                0     500-525  \n",
       "..             ...         ...              ...         ...  \n",
       "195              0           0                0     200-225  \n",
       "196              0           0                0     225-250  \n",
       "197              0           0                0     225-250  \n",
       "198              0           0                1     350-375  \n",
       "199              0           0                0     325-350  \n",
       "\n",
       "[200 rows x 28 columns]"
      ]
     },
     "execution_count": 921,
     "metadata": {},
     "output_type": "execute_result"
    }
   ],
   "source": [
    "columns = list(dummy_dataset.columns.values)\n",
    "columns.pop(columns.index('range euro')) \n",
    "dummy_dataset = dummy_dataset[columns+['range euro']]\n",
    "dummy_dataset"
   ]
  },
  {
   "cell_type": "markdown",
   "metadata": {},
   "source": [
    "We can double check for correlations between features now, as we have done beafore in 'data_preparation.ipynb'."
   ]
  },
  {
   "cell_type": "code",
   "execution_count": 922,
   "metadata": {},
   "outputs": [],
   "source": [
    "import matplotlib.pyplot as plt"
   ]
  },
  {
   "cell_type": "code",
   "execution_count": 923,
   "metadata": {},
   "outputs": [
    {
     "data": {
      "image/png": "[encoded data removed]",
      "text/plain": [
       "<Figure size 1080x1080 with 2 Axes>"
      ]
     },
     "metadata": {},
     "output_type": "display_data"
    }
   ],
   "source": [
    "correlations = dummy_dataset.corr(method='pearson')\n",
    "correlations\n",
    "f = plt.figure(figsize=(15, 15))\n",
    "plt.matshow(correlations, fignum=f.number)\n",
    "plt.xticks(range(dummy_dataset.shape[1]), dummy_dataset.columns, fontsize=14, rotation=90)\n",
    "plt.yticks(range(dummy_dataset.shape[1]), dummy_dataset.columns, fontsize=14)\n",
    "cb = plt.colorbar()\n",
    "cb.ax.tick_params(labelsize=14)"
   ]
  },
  {
   "cell_type": "markdown",
   "metadata": {},
   "source": [
    "It is at least visually evident that there are not strong correlations, apart from those features like kind of bedroom and gender wich are obviously mutually excluding, thus resulting in a strong anti-correlation."
   ]
  },
  {
   "cell_type": "markdown",
   "metadata": {},
   "source": [
    "It will be interesting later to see how the 'range euro' target is correlated with features."
   ]
  },
  {
   "cell_type": "code",
   "execution_count": 924,
   "metadata": {},
   "outputs": [
    {
     "data": {
      "text/plain": [
       "array([[2, 1, 0, ..., 0, 0, 0],\n",
       "       [2, 1, 1, ..., 0, 0, 0],\n",
       "       [1, 1, 1, ..., 0, 0, 0],\n",
       "       ...,\n",
       "       [1, 1, 1, ..., 0, 0, 0],\n",
       "       [1, 1, 0, ..., 0, 0, 1],\n",
       "       [1, 1, 0, ..., 0, 0, 0]], dtype=object)"
      ]
     },
     "execution_count": 924,
     "metadata": {},
     "output_type": "execute_result"
    }
   ],
   "source": [
    "array = dummy_dataset.values\n",
    "X_enc = array[:,0:27]\n",
    "X_enc"
   ]
  },
  {
   "cell_type": "code",
   "execution_count": 925,
   "metadata": {},
   "outputs": [
    {
     "data": {
      "text/plain": [
       "array(['200-225', '225-250', '250-275', '400-425', '500-525', '250-275',\n",
       "       '500-525', '450-475', '325-350', '450-475', '350-375', '275-300',\n",
       "       '225-250', '350-375', '350-375', '200-225', '400-425', '225-250',\n",
       "       '250-275', '275-300', '500-525', '225-250', '300-325', '250-275',\n",
       "       '325-350', '400-425', '325-350', '300-325', '400-425', '250-275',\n",
       "       '225-250', '450-475', '225-250', '350-375', '200-225', '300-325',\n",
       "       '350-375', '275-300', '550-575', '200-225', '250-275', '250-275',\n",
       "       '400-425', '400-425', '350-375', '650-675', '300-325', '275-300',\n",
       "       '375-400', '350-375', '300-325', '400-425', '275-300', '225-250',\n",
       "       '200-225', '400-425', '225-250', '250-275', '550-575', '300-325',\n",
       "       '200-225', '450-475', '350-375', '375-400', '425-450', '275-300',\n",
       "       '275-300', '300-325', '375-400', '375-400', '175-200', '375-400',\n",
       "       '225-250', '350-375', '250-275', '250-275', '400-425', '400-425',\n",
       "       '450-475', '450-475', '300-325', '450-475', '550-575', '400-425',\n",
       "       '350-375', '225-250', '400-425', '450-475', '350-375', '325-350',\n",
       "       '250-275', '375-400', '350-375', '450-475', '325-350', '375-400',\n",
       "       '250-275', '250-275', '275-300', '200-225', '250-275', '525-550',\n",
       "       '375-400', '425-450', '250-275', '300-325', '300-325', '325-350',\n",
       "       '225-250', '300-325', '300-325', '325-350', '275-300', '300-325',\n",
       "       '350-375', '300-325', '300-325', '500-525', '350-375', '400-425',\n",
       "       '400-425', '325-350', '450-475', '450-475', '250-275', '350-375',\n",
       "       '300-325', '450-475', '225-250', '400-425', '275-300', '300-325',\n",
       "       '250-275', '450-475', '425-450', '250-275', '400-425', '200-225',\n",
       "       '500-525', '400-425', '350-375', '500-525', '325-350', '400-425',\n",
       "       '250-275', '325-350', '350-375', '350-375', '325-350', '250-275',\n",
       "       '250-275', '225-250', '200-225', '425-450', '325-350', '400-425',\n",
       "       '350-375', '250-275', '250-275', '250-275', '175-200', '450-475',\n",
       "       '300-325', '450-475', '400-425', '350-375', '225-250', '250-275',\n",
       "       '300-325', '275-300', '350-375', '225-250', '250-275', '275-300',\n",
       "       '300-325', '275-300', '350-375', '175-200', '250-275', '250-275',\n",
       "       '450-475', '225-250', '400-425', '400-425', '225-250', '200-225',\n",
       "       '225-250', '300-325', '350-375', '400-425', '250-275', '250-275',\n",
       "       '325-350', '200-225', '400-425', '200-225', '225-250', '225-250',\n",
       "       '350-375', '325-350'], dtype=object)"
      ]
     },
     "execution_count": 925,
     "metadata": {},
     "output_type": "execute_result"
    }
   ],
   "source": [
    "Y = array[:,27]\n",
    "Y"
   ]
  },
  {
   "cell_type": "markdown",
   "metadata": {},
   "source": [
    "## 3. Target transformation"
   ]
  },
  {
   "cell_type": "markdown",
   "metadata": {},
   "source": [
    "Even the target array has to be transformed in order to pass it to the fit() function, but we are going to use a Label Encoder wich is more suited for target values."
   ]
  },
  {
   "cell_type": "code",
   "execution_count": 926,
   "metadata": {},
   "outputs": [],
   "source": [
    "from sklearn import preprocessing"
   ]
  },
  {
   "cell_type": "code",
   "execution_count": 927,
   "metadata": {},
   "outputs": [
    {
     "data": {
      "text/plain": [
       "array([ 0,  1,  2,  3,  4,  5,  6,  7,  8,  9, 10, 11, 12, 13, 14, 15, 16,\n",
       "       17, 18, 19, 20])"
      ]
     },
     "execution_count": 927,
     "metadata": {},
     "output_type": "execute_result"
    }
   ],
   "source": [
    "le = preprocessing.LabelEncoder()\n",
    "le.fit_transform(['175-200', '200-225', '225-250', '250-275', '275-300', '300-325', '325-350', '350-375',\n",
    "                  '375-400', '400-425', '425-450', '450-475', '475-500', '500-525', '525-550', '550-575', \n",
    "                 '575-600', '600-625', '625-650', '650-675', '675-700'])"
   ]
  },
  {
   "cell_type": "code",
   "execution_count": 928,
   "metadata": {},
   "outputs": [
    {
     "data": {
      "text/plain": [
       "array([ 1,  2,  3,  9, 13,  3, 13, 11,  6, 11,  7,  4,  2,  7,  7,  1,  9,\n",
       "        2,  3,  4, 13,  2,  5,  3,  6,  9,  6,  5,  9,  3,  2, 11,  2,  7,\n",
       "        1,  5,  7,  4, 15,  1,  3,  3,  9,  9,  7, 19,  5,  4,  8,  7,  5,\n",
       "        9,  4,  2,  1,  9,  2,  3, 15,  5,  1, 11,  7,  8, 10,  4,  4,  5,\n",
       "        8,  8,  0,  8,  2,  7,  3,  3,  9,  9, 11, 11,  5, 11, 15,  9,  7,\n",
       "        2,  9, 11,  7,  6,  3,  8,  7, 11,  6,  8,  3,  3,  4,  1,  3, 14,\n",
       "        8, 10,  3,  5,  5,  6,  2,  5,  5,  6,  4,  5,  7,  5,  5, 13,  7,\n",
       "        9,  9,  6, 11, 11,  3,  7,  5, 11,  2,  9,  4,  5,  3, 11, 10,  3,\n",
       "        9,  1, 13,  9,  7, 13,  6,  9,  3,  6,  7,  7,  6,  3,  3,  2,  1,\n",
       "       10,  6,  9,  7,  3,  3,  3,  0, 11,  5, 11,  9,  7,  2,  3,  5,  4,\n",
       "        7,  2,  3,  4,  5,  4,  7,  0,  3,  3, 11,  2,  9,  9,  2,  1,  2,\n",
       "        5,  7,  9,  3,  3,  6,  1,  9,  1,  2,  2,  7,  6])"
      ]
     },
     "execution_count": 928,
     "metadata": {},
     "output_type": "execute_result"
    }
   ],
   "source": [
    "le.transform(Y)"
   ]
  },
  {
   "cell_type": "code",
   "execution_count": 929,
   "metadata": {},
   "outputs": [],
   "source": [
    "Y_enc = le.transform(Y)"
   ]
  },
  {
   "cell_type": "code",
   "execution_count": 930,
   "metadata": {},
   "outputs": [
    {
     "data": {
      "text/plain": [
       "array([ 1,  2,  3,  9, 13,  3, 13, 11,  6, 11,  7,  4,  2,  7,  7,  1,  9,\n",
       "        2,  3,  4, 13,  2,  5,  3,  6,  9,  6,  5,  9,  3,  2, 11,  2,  7,\n",
       "        1,  5,  7,  4, 15,  1,  3,  3,  9,  9,  7, 19,  5,  4,  8,  7,  5,\n",
       "        9,  4,  2,  1,  9,  2,  3, 15,  5,  1, 11,  7,  8, 10,  4,  4,  5,\n",
       "        8,  8,  0,  8,  2,  7,  3,  3,  9,  9, 11, 11,  5, 11, 15,  9,  7,\n",
       "        2,  9, 11,  7,  6,  3,  8,  7, 11,  6,  8,  3,  3,  4,  1,  3, 14,\n",
       "        8, 10,  3,  5,  5,  6,  2,  5,  5,  6,  4,  5,  7,  5,  5, 13,  7,\n",
       "        9,  9,  6, 11, 11,  3,  7,  5, 11,  2,  9,  4,  5,  3, 11, 10,  3,\n",
       "        9,  1, 13,  9,  7, 13,  6,  9,  3,  6,  7,  7,  6,  3,  3,  2,  1,\n",
       "       10,  6,  9,  7,  3,  3,  3,  0, 11,  5, 11,  9,  7,  2,  3,  5,  4,\n",
       "        7,  2,  3,  4,  5,  4,  7,  0,  3,  3, 11,  2,  9,  9,  2,  1,  2,\n",
       "        5,  7,  9,  3,  3,  6,  1,  9,  1,  2,  2,  7,  6])"
      ]
     },
     "execution_count": 930,
     "metadata": {},
     "output_type": "execute_result"
    }
   ],
   "source": [
    "Y_enc"
   ]
  },
  {
   "cell_type": "markdown",
   "metadata": {},
   "source": [
    "We have now our X and Y encoded arrays with numerical features and targets, we are ready to train our ML algo."
   ]
  },
  {
   "cell_type": "markdown",
   "metadata": {},
   "source": [
    "## 4. Random Forest Classifier"
   ]
  },
  {
   "cell_type": "code",
   "execution_count": 931,
   "metadata": {},
   "outputs": [],
   "source": [
    "from sklearn.model_selection import train_test_split\n",
    "X_train, X_test, Y_train, Y_test = train_test_split(X_enc, Y_enc, test_size = 0.13, random_state = 843)"
   ]
  },
  {
   "cell_type": "code",
   "execution_count": 932,
   "metadata": {},
   "outputs": [
    {
     "data": {
      "text/plain": [
       "(174, 27)"
      ]
     },
     "execution_count": 932,
     "metadata": {},
     "output_type": "execute_result"
    }
   ],
   "source": [
    "X_train.shape"
   ]
  },
  {
   "cell_type": "code",
   "execution_count": 933,
   "metadata": {},
   "outputs": [
    {
     "data": {
      "text/plain": [
       "(174,)"
      ]
     },
     "execution_count": 933,
     "metadata": {},
     "output_type": "execute_result"
    }
   ],
   "source": [
    "Y_train.shape"
   ]
  },
  {
   "cell_type": "code",
   "execution_count": 934,
   "metadata": {},
   "outputs": [
    {
     "data": {
      "text/plain": [
       "(26, 27)"
      ]
     },
     "execution_count": 934,
     "metadata": {},
     "output_type": "execute_result"
    }
   ],
   "source": [
    "X_test.shape"
   ]
  },
  {
   "cell_type": "code",
   "execution_count": 935,
   "metadata": {},
   "outputs": [
    {
     "data": {
      "text/plain": [
       "(26,)"
      ]
     },
     "execution_count": 935,
     "metadata": {},
     "output_type": "execute_result"
    }
   ],
   "source": [
    "Y_test.shape"
   ]
  },
  {
   "cell_type": "code",
   "execution_count": 936,
   "metadata": {},
   "outputs": [],
   "source": [
    "from sklearn.ensemble import RandomForestClassifier"
   ]
  },
  {
   "cell_type": "code",
   "execution_count": 937,
   "metadata": {},
   "outputs": [
    {
     "data": {
      "text/plain": [
       "RandomForestClassifier(random_state=42)"
      ]
     },
     "execution_count": 937,
     "metadata": {},
     "output_type": "execute_result"
    }
   ],
   "source": [
    "clf = RandomForestClassifier(random_state = 42)\n",
    "clf.fit(X_train, Y_train)"
   ]
  },
  {
   "cell_type": "code",
   "execution_count": 938,
   "metadata": {},
   "outputs": [],
   "source": [
    "Y_pred = clf.predict(X_test)"
   ]
  },
  {
   "cell_type": "code",
   "execution_count": 939,
   "metadata": {},
   "outputs": [
    {
     "data": {
      "text/plain": [
       "array([ 9,  9,  5,  3,  4, 11, 10, 13,  3,  7,  2,  3,  9,  9,  3,  9,  3,\n",
       "        1, 15, 13,  3,  9, 11,  3, 11, 11])"
      ]
     },
     "execution_count": 939,
     "metadata": {},
     "output_type": "execute_result"
    }
   ],
   "source": [
    "Y_pred"
   ]
  },
  {
   "cell_type": "code",
   "execution_count": 940,
   "metadata": {},
   "outputs": [
    {
     "data": {
      "text/plain": [
       "array([ 9,  3, 14,  3,  1, 11,  9,  7,  2,  7,  2,  7,  9,  9,  2,  5,  0,\n",
       "        7,  8, 11,  5,  9,  9,  3,  3, 11])"
      ]
     },
     "execution_count": 940,
     "metadata": {},
     "output_type": "execute_result"
    }
   ],
   "source": [
    "Y_test"
   ]
  },
  {
   "cell_type": "code",
   "execution_count": 941,
   "metadata": {},
   "outputs": [],
   "source": [
    "import numpy as np\n",
    "import matplotlib.pyplot as plt\n",
    "import seaborn as sn\n",
    "from sklearn.metrics import accuracy_score, confusion_matrix, classification_report\n",
    "\n",
    "%matplotlib inline"
   ]
  },
  {
   "cell_type": "code",
   "execution_count": 942,
   "metadata": {},
   "outputs": [
    {
     "data": {
      "text/plain": [
       "0.38461538461538464"
      ]
     },
     "execution_count": 942,
     "metadata": {},
     "output_type": "execute_result"
    }
   ],
   "source": [
    "accuracy_score(Y_test, Y_pred)"
   ]
  },
  {
   "cell_type": "code",
   "execution_count": 943,
   "metadata": {},
   "outputs": [
    {
     "name": "stdout",
     "output_type": "stream",
     "text": [
      "Accuracy: 38.462%\n"
     ]
    }
   ],
   "source": [
    "accuracy = clf.score(X_test, Y_test)\n",
    "print(\"Accuracy: %.3f%%\" % (accuracy*100.0))"
   ]
  },
  {
   "cell_type": "code",
   "execution_count": 944,
   "metadata": {},
   "outputs": [
    {
     "name": "stderr",
     "output_type": "stream",
     "text": [
      "<ipython-input-944-9451e410fe4a>:2: RuntimeWarning: invalid value encountered in true_divide\n",
      "  matrix = matrix.astype('float') / matrix.sum(axis=1)[:, np.newaxis]\n"
     ]
    },
    {
     "data": {
      "image/png": "[encoded data removed]",
      "text/plain": [
       "<Figure size 1080x1080 with 2 Axes>"
      ]
     },
     "metadata": {
      "needs_background": "light"
     },
     "output_type": "display_data"
    }
   ],
   "source": [
    "matrix = confusion_matrix(Y_test, Y_pred)\n",
    "matrix = matrix.astype('float') / matrix.sum(axis=1)[:, np.newaxis]\n",
    "\n",
    "plt.figure(figsize=(15,15))\n",
    "sn.set(font_scale=1.4)\n",
    "sn.heatmap(matrix, annot=True, annot_kws={'size':10},\n",
    "            cmap=plt.cm.Greens, linewidths=0.2)\n",
    "\n",
    "class_names = ['175-200', '200-225', '225-250', '250-275', '275-300', '300-325', '325-350', '350-375',\n",
    "                  '375-400', '400-425', '425-450', '450-475', '475-500', '500-525', '525-550', '550-575', \n",
    "                 '575-600', '600-625', '625-650', '650-675', '675-700']\n",
    "tick_marks = np.arange(len(class_names))\n",
    "tick_marks2 = tick_marks + 0.5\n",
    "plt.xticks(tick_marks, class_names, rotation=90)\n",
    "plt.yticks(tick_marks2, class_names, rotation=0)\n",
    "plt.xlabel('Predicted label')\n",
    "plt.ylabel('True label')\n",
    "plt.title('Confusion Matrix for Random Forest Model')\n",
    "plt.show()"
   ]
  },
  {
   "cell_type": "code",
   "execution_count": 945,
   "metadata": {},
   "outputs": [
    {
     "name": "stdout",
     "output_type": "stream",
     "text": [
      "              precision    recall  f1-score   support\n",
      "\n",
      "           0       0.00      0.00      0.00         1\n",
      "           1       0.00      0.00      0.00         1\n",
      "           2       1.00      0.33      0.50         3\n",
      "           3       0.29      0.50      0.36         4\n",
      "           4       0.00      0.00      0.00         0\n",
      "           5       0.00      0.00      0.00         2\n",
      "           7       1.00      0.25      0.40         4\n",
      "           8       0.00      0.00      0.00         1\n",
      "           9       0.67      0.67      0.67         6\n",
      "          10       0.00      0.00      0.00         0\n",
      "          11       0.50      0.67      0.57         3\n",
      "          13       0.00      0.00      0.00         0\n",
      "          14       0.00      0.00      0.00         1\n",
      "          15       0.00      0.00      0.00         0\n",
      "\n",
      "    accuracy                           0.38        26\n",
      "   macro avg       0.25      0.17      0.18        26\n",
      "weighted avg       0.52      0.38      0.39        26\n",
      "\n"
     ]
    },
    {
     "name": "stderr",
     "output_type": "stream",
     "text": [
      "/home/marco/anaconda3/lib/python3.8/site-packages/sklearn/metrics/_classification.py:1221: UndefinedMetricWarning: Precision and F-score are ill-defined and being set to 0.0 in labels with no predicted samples. Use `zero_division` parameter to control this behavior.\n",
      "  _warn_prf(average, modifier, msg_start, len(result))\n",
      "/home/marco/anaconda3/lib/python3.8/site-packages/sklearn/metrics/_classification.py:1221: UndefinedMetricWarning: Recall and F-score are ill-defined and being set to 0.0 in labels with no true samples. Use `zero_division` parameter to control this behavior.\n",
      "  _warn_prf(average, modifier, msg_start, len(result))\n"
     ]
    }
   ],
   "source": [
    "print(classification_report(Y_test, Y_pred))"
   ]
  },
  {
   "cell_type": "code",
   "execution_count": 946,
   "metadata": {},
   "outputs": [
    {
     "data": {
      "text/plain": [
       "DecisionTreeClassifier()"
      ]
     },
     "execution_count": 946,
     "metadata": {},
     "output_type": "execute_result"
    }
   ],
   "source": [
    "clf.base_estimator"
   ]
  },
  {
   "cell_type": "code",
   "execution_count": 947,
   "metadata": {},
   "outputs": [
    {
     "data": {
      "text/plain": [
       "[DecisionTreeClassifier(max_features='auto', random_state=1608637542),\n",
       " DecisionTreeClassifier(max_features='auto', random_state=1273642419),\n",
       " DecisionTreeClassifier(max_features='auto', random_state=1935803228),\n",
       " DecisionTreeClassifier(max_features='auto', random_state=787846414),\n",
       " DecisionTreeClassifier(max_features='auto', random_state=996406378),\n",
       " DecisionTreeClassifier(max_features='auto', random_state=1201263687),\n",
       " DecisionTreeClassifier(max_features='auto', random_state=423734972),\n",
       " DecisionTreeClassifier(max_features='auto', random_state=415968276),\n",
       " DecisionTreeClassifier(max_features='auto', random_state=670094950),\n",
       " DecisionTreeClassifier(max_features='auto', random_state=1914837113),\n",
       " DecisionTreeClassifier(max_features='auto', random_state=669991378),\n",
       " DecisionTreeClassifier(max_features='auto', random_state=429389014),\n",
       " DecisionTreeClassifier(max_features='auto', random_state=249467210),\n",
       " DecisionTreeClassifier(max_features='auto', random_state=1972458954),\n",
       " DecisionTreeClassifier(max_features='auto', random_state=1572714583),\n",
       " DecisionTreeClassifier(max_features='auto', random_state=1433267572),\n",
       " DecisionTreeClassifier(max_features='auto', random_state=434285667),\n",
       " DecisionTreeClassifier(max_features='auto', random_state=613608295),\n",
       " DecisionTreeClassifier(max_features='auto', random_state=893664919),\n",
       " DecisionTreeClassifier(max_features='auto', random_state=648061058),\n",
       " DecisionTreeClassifier(max_features='auto', random_state=88409749),\n",
       " DecisionTreeClassifier(max_features='auto', random_state=242285876),\n",
       " DecisionTreeClassifier(max_features='auto', random_state=2018247425),\n",
       " DecisionTreeClassifier(max_features='auto', random_state=953477463),\n",
       " DecisionTreeClassifier(max_features='auto', random_state=1427830251),\n",
       " DecisionTreeClassifier(max_features='auto', random_state=1883569565),\n",
       " DecisionTreeClassifier(max_features='auto', random_state=911989541),\n",
       " DecisionTreeClassifier(max_features='auto', random_state=3344769),\n",
       " DecisionTreeClassifier(max_features='auto', random_state=780932287),\n",
       " DecisionTreeClassifier(max_features='auto', random_state=2114032571),\n",
       " DecisionTreeClassifier(max_features='auto', random_state=787716372),\n",
       " DecisionTreeClassifier(max_features='auto', random_state=504579232),\n",
       " DecisionTreeClassifier(max_features='auto', random_state=1306710475),\n",
       " DecisionTreeClassifier(max_features='auto', random_state=479546681),\n",
       " DecisionTreeClassifier(max_features='auto', random_state=106328085),\n",
       " DecisionTreeClassifier(max_features='auto', random_state=30349564),\n",
       " DecisionTreeClassifier(max_features='auto', random_state=1855189739),\n",
       " DecisionTreeClassifier(max_features='auto', random_state=99052376),\n",
       " DecisionTreeClassifier(max_features='auto', random_state=1250819632),\n",
       " DecisionTreeClassifier(max_features='auto', random_state=106406362),\n",
       " DecisionTreeClassifier(max_features='auto', random_state=480404538),\n",
       " DecisionTreeClassifier(max_features='auto', random_state=1717389822),\n",
       " DecisionTreeClassifier(max_features='auto', random_state=599121577),\n",
       " DecisionTreeClassifier(max_features='auto', random_state=200427519),\n",
       " DecisionTreeClassifier(max_features='auto', random_state=1254751707),\n",
       " DecisionTreeClassifier(max_features='auto', random_state=2034764475),\n",
       " DecisionTreeClassifier(max_features='auto', random_state=1573512143),\n",
       " DecisionTreeClassifier(max_features='auto', random_state=999745294),\n",
       " DecisionTreeClassifier(max_features='auto', random_state=1958805693),\n",
       " DecisionTreeClassifier(max_features='auto', random_state=389151677),\n",
       " DecisionTreeClassifier(max_features='auto', random_state=1224821422),\n",
       " DecisionTreeClassifier(max_features='auto', random_state=508464061),\n",
       " DecisionTreeClassifier(max_features='auto', random_state=857592370),\n",
       " DecisionTreeClassifier(max_features='auto', random_state=1642661739),\n",
       " DecisionTreeClassifier(max_features='auto', random_state=61136438),\n",
       " DecisionTreeClassifier(max_features='auto', random_state=2075460851),\n",
       " DecisionTreeClassifier(max_features='auto', random_state=396917567),\n",
       " DecisionTreeClassifier(max_features='auto', random_state=2004731384),\n",
       " DecisionTreeClassifier(max_features='auto', random_state=199502978),\n",
       " DecisionTreeClassifier(max_features='auto', random_state=1545932260),\n",
       " DecisionTreeClassifier(max_features='auto', random_state=461901618),\n",
       " DecisionTreeClassifier(max_features='auto', random_state=774414982),\n",
       " DecisionTreeClassifier(max_features='auto', random_state=732395540),\n",
       " DecisionTreeClassifier(max_features='auto', random_state=1934879560),\n",
       " DecisionTreeClassifier(max_features='auto', random_state=279394470),\n",
       " DecisionTreeClassifier(max_features='auto', random_state=56972561),\n",
       " DecisionTreeClassifier(max_features='auto', random_state=1927948675),\n",
       " DecisionTreeClassifier(max_features='auto', random_state=1899242072),\n",
       " DecisionTreeClassifier(max_features='auto', random_state=1999874363),\n",
       " DecisionTreeClassifier(max_features='auto', random_state=271820813),\n",
       " DecisionTreeClassifier(max_features='auto', random_state=1324556529),\n",
       " DecisionTreeClassifier(max_features='auto', random_state=1655351289),\n",
       " DecisionTreeClassifier(max_features='auto', random_state=1308306184),\n",
       " DecisionTreeClassifier(max_features='auto', random_state=68574553),\n",
       " DecisionTreeClassifier(max_features='auto', random_state=419498548),\n",
       " DecisionTreeClassifier(max_features='auto', random_state=991681409),\n",
       " DecisionTreeClassifier(max_features='auto', random_state=791274835),\n",
       " DecisionTreeClassifier(max_features='auto', random_state=1035196507),\n",
       " DecisionTreeClassifier(max_features='auto', random_state=1890440558),\n",
       " DecisionTreeClassifier(max_features='auto', random_state=787110843),\n",
       " DecisionTreeClassifier(max_features='auto', random_state=524150214),\n",
       " DecisionTreeClassifier(max_features='auto', random_state=472432043),\n",
       " DecisionTreeClassifier(max_features='auto', random_state=2126768636),\n",
       " DecisionTreeClassifier(max_features='auto', random_state=1431061255),\n",
       " DecisionTreeClassifier(max_features='auto', random_state=147697582),\n",
       " DecisionTreeClassifier(max_features='auto', random_state=744595490),\n",
       " DecisionTreeClassifier(max_features='auto', random_state=1758017741),\n",
       " DecisionTreeClassifier(max_features='auto', random_state=1679592528),\n",
       " DecisionTreeClassifier(max_features='auto', random_state=1111451555),\n",
       " DecisionTreeClassifier(max_features='auto', random_state=782698033),\n",
       " DecisionTreeClassifier(max_features='auto', random_state=698027879),\n",
       " DecisionTreeClassifier(max_features='auto', random_state=1096768899),\n",
       " DecisionTreeClassifier(max_features='auto', random_state=1338788865),\n",
       " DecisionTreeClassifier(max_features='auto', random_state=1826030589),\n",
       " DecisionTreeClassifier(max_features='auto', random_state=86191493),\n",
       " DecisionTreeClassifier(max_features='auto', random_state=893102645),\n",
       " DecisionTreeClassifier(max_features='auto', random_state=200619113),\n",
       " DecisionTreeClassifier(max_features='auto', random_state=290770691),\n",
       " DecisionTreeClassifier(max_features='auto', random_state=793943861),\n",
       " DecisionTreeClassifier(max_features='auto', random_state=134489564)]"
      ]
     },
     "execution_count": 947,
     "metadata": {},
     "output_type": "execute_result"
    }
   ],
   "source": [
    "clf.estimators_"
   ]
  },
  {
   "cell_type": "code",
   "execution_count": 948,
   "metadata": {},
   "outputs": [
    {
     "data": {
      "text/plain": [
       "array([ 0,  1,  2,  3,  4,  5,  6,  7,  8,  9, 10, 11, 13, 15, 19])"
      ]
     },
     "execution_count": 948,
     "metadata": {},
     "output_type": "execute_result"
    }
   ],
   "source": [
    "clf.classes_"
   ]
  },
  {
   "cell_type": "code",
   "execution_count": 949,
   "metadata": {},
   "outputs": [
    {
     "data": {
      "text/plain": [
       "15"
      ]
     },
     "execution_count": 949,
     "metadata": {},
     "output_type": "execute_result"
    }
   ],
   "source": [
    "clf.n_classes_"
   ]
  },
  {
   "cell_type": "code",
   "execution_count": 950,
   "metadata": {},
   "outputs": [
    {
     "data": {
      "text/plain": [
       "27"
      ]
     },
     "execution_count": 950,
     "metadata": {},
     "output_type": "execute_result"
    }
   ],
   "source": [
    "clf.n_features_"
   ]
  },
  {
   "cell_type": "code",
   "execution_count": 951,
   "metadata": {},
   "outputs": [
    {
     "data": {
      "text/plain": [
       "1"
      ]
     },
     "execution_count": 951,
     "metadata": {},
     "output_type": "execute_result"
    }
   ],
   "source": [
    "clf.n_outputs_"
   ]
  },
  {
   "cell_type": "code",
   "execution_count": 952,
   "metadata": {},
   "outputs": [
    {
     "data": {
      "text/plain": [
       "array([0.07167737, 0.01130751, 0.10188119, 0.14037364, 0.04826787,\n",
       "       0.03967836, 0.04997526, 0.02646659, 0.05632129, 0.00753559,\n",
       "       0.03545725, 0.00505507, 0.01295539, 0.0121707 , 0.03766328,\n",
       "       0.01672868, 0.04227816, 0.02523638, 0.02424424, 0.0412656 ,\n",
       "       0.03629606, 0.03450813, 0.01380586, 0.00885179, 0.02484305,\n",
       "       0.03428856, 0.04086711])"
      ]
     },
     "execution_count": 952,
     "metadata": {},
     "output_type": "execute_result"
    }
   ],
   "source": [
    "clf.feature_importances_"
   ]
  },
  {
   "cell_type": "code",
   "execution_count": 953,
   "metadata": {},
   "outputs": [
    {
     "data": {
      "text/plain": [
       "<bound method BaseEstimator.get_params of DecisionTreeClassifier(max_features='auto', random_state=1608637542)>"
      ]
     },
     "execution_count": 953,
     "metadata": {},
     "output_type": "execute_result"
    }
   ],
   "source": [
    "clf.estimators_[0].get_params"
   ]
  },
  {
   "cell_type": "code",
   "execution_count": null,
   "metadata": {},
   "outputs": [],
   "source": []
  }
 ],
 "metadata": {
  "kernelspec": {
   "display_name": "Python 3",
   "language": "python",
   "name": "python3"
  },
  "language_info": {
   "codemirror_mode": {
    "name": "ipython",
    "version": 3
   },
   "file_extension": ".py",
   "mimetype": "text/x-python",
   "name": "python",
   "nbconvert_exporter": "python",
   "pygments_lexer": "ipython3",
   "version": "3.8.3"
  }
 },
 "nbformat": 4,
 "nbformat_minor": 4
}
