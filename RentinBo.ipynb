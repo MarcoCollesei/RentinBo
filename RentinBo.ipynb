{
 "cells": [
  {
   "cell_type": "markdown",
   "metadata": {},
   "source": [
    "# RentinBo"
   ]
  },
  {
   "cell_type": "markdown",
   "metadata": {},
   "source": [
    "The aim of this project is to train a RandomForestClassifier on our dataset in order to predict in which class, or range, of euros a combination of features would fall."
   ]
  },
  {
   "cell_type": "markdown",
   "metadata": {},
   "source": [
    "## 1. Check the dataset"
   ]
  },
  {
   "cell_type": "markdown",
   "metadata": {},
   "source": [
    "First of all we have to be sure that our features can be read and used by the algorithm."
   ]
  },
  {
   "cell_type": "code",
   "execution_count": 351,
   "metadata": {},
   "outputs": [],
   "source": [
    "import pandas as pd\n",
    "import numpy as np\n",
    "import seaborn as sn\n",
    "import matplotlib.pyplot as plt\n",
    "%matplotlib inline\n",
    "from sklearn import preprocessing\n",
    "from sklearn.model_selection import train_test_split, RandomizedSearchCV, GridSearchCV\n",
    "from sklearn.ensemble import RandomForestClassifier\n",
    "from sklearn.metrics import accuracy_score, confusion_matrix, classification_report\n",
    "from scipy.stats import uniform, truncnorm, randint\n",
    "from pprint import pprint"
   ]
  },
  {
   "cell_type": "code",
   "execution_count": 352,
   "metadata": {},
   "outputs": [],
   "source": [
    "dataset = pd.read_csv('ready_dataset.csv')"
   ]
  },
  {
   "cell_type": "code",
   "execution_count": 353,
   "metadata": {},
   "outputs": [
    {
     "data": {
      "text/html": [
       "<div>\n",
       "<style scoped>\n",
       "    .dataframe tbody tr th:only-of-type {\n",
       "        vertical-align: middle;\n",
       "    }\n",
       "\n",
       "    .dataframe tbody tr th {\n",
       "        vertical-align: top;\n",
       "    }\n",
       "\n",
       "    .dataframe thead th {\n",
       "        text-align: right;\n",
       "    }\n",
       "</style>\n",
       "<table border=\"1\" class=\"dataframe\">\n",
       "  <thead>\n",
       "    <tr style=\"text-align: right;\">\n",
       "      <th></th>\n",
       "      <th>tipologia</th>\n",
       "      <th>genere</th>\n",
       "      <th>zona</th>\n",
       "      <th>bagno</th>\n",
       "      <th>cucina</th>\n",
       "      <th>salotto</th>\n",
       "      <th>balcone</th>\n",
       "      <th>range euro</th>\n",
       "    </tr>\n",
       "  </thead>\n",
       "  <tbody>\n",
       "    <tr>\n",
       "      <th>0</th>\n",
       "      <td>doppia</td>\n",
       "      <td>F</td>\n",
       "      <td>Murri</td>\n",
       "      <td>2</td>\n",
       "      <td>1</td>\n",
       "      <td>0</td>\n",
       "      <td>0</td>\n",
       "      <td>200-225</td>\n",
       "    </tr>\n",
       "    <tr>\n",
       "      <th>1</th>\n",
       "      <td>doppia</td>\n",
       "      <td>F</td>\n",
       "      <td>Marconi</td>\n",
       "      <td>2</td>\n",
       "      <td>1</td>\n",
       "      <td>1</td>\n",
       "      <td>0</td>\n",
       "      <td>225-250</td>\n",
       "    </tr>\n",
       "    <tr>\n",
       "      <th>2</th>\n",
       "      <td>doppia</td>\n",
       "      <td>M/F</td>\n",
       "      <td>Bolognina</td>\n",
       "      <td>1</td>\n",
       "      <td>1</td>\n",
       "      <td>1</td>\n",
       "      <td>0</td>\n",
       "      <td>250-275</td>\n",
       "    </tr>\n",
       "    <tr>\n",
       "      <th>3</th>\n",
       "      <td>singola</td>\n",
       "      <td>F</td>\n",
       "      <td>S.Vitale</td>\n",
       "      <td>1</td>\n",
       "      <td>1</td>\n",
       "      <td>0</td>\n",
       "      <td>1</td>\n",
       "      <td>400-425</td>\n",
       "    </tr>\n",
       "    <tr>\n",
       "      <th>4</th>\n",
       "      <td>singola</td>\n",
       "      <td>F</td>\n",
       "      <td>Irnerio</td>\n",
       "      <td>1</td>\n",
       "      <td>1</td>\n",
       "      <td>0</td>\n",
       "      <td>1</td>\n",
       "      <td>500-525</td>\n",
       "    </tr>\n",
       "    <tr>\n",
       "      <th>...</th>\n",
       "      <td>...</td>\n",
       "      <td>...</td>\n",
       "      <td>...</td>\n",
       "      <td>...</td>\n",
       "      <td>...</td>\n",
       "      <td>...</td>\n",
       "      <td>...</td>\n",
       "      <td>...</td>\n",
       "    </tr>\n",
       "    <tr>\n",
       "      <th>195</th>\n",
       "      <td>doppia</td>\n",
       "      <td>M</td>\n",
       "      <td>Irnerio</td>\n",
       "      <td>1</td>\n",
       "      <td>1</td>\n",
       "      <td>0</td>\n",
       "      <td>0</td>\n",
       "      <td>200-225</td>\n",
       "    </tr>\n",
       "    <tr>\n",
       "      <th>196</th>\n",
       "      <td>doppia</td>\n",
       "      <td>M/F</td>\n",
       "      <td>Bolognina</td>\n",
       "      <td>2</td>\n",
       "      <td>1</td>\n",
       "      <td>1</td>\n",
       "      <td>1</td>\n",
       "      <td>225-250</td>\n",
       "    </tr>\n",
       "    <tr>\n",
       "      <th>197</th>\n",
       "      <td>doppia</td>\n",
       "      <td>M/F</td>\n",
       "      <td>Bolognina</td>\n",
       "      <td>1</td>\n",
       "      <td>1</td>\n",
       "      <td>1</td>\n",
       "      <td>1</td>\n",
       "      <td>225-250</td>\n",
       "    </tr>\n",
       "    <tr>\n",
       "      <th>198</th>\n",
       "      <td>singola</td>\n",
       "      <td>M/F</td>\n",
       "      <td>San Donato</td>\n",
       "      <td>1</td>\n",
       "      <td>1</td>\n",
       "      <td>0</td>\n",
       "      <td>0</td>\n",
       "      <td>350-375</td>\n",
       "    </tr>\n",
       "    <tr>\n",
       "      <th>199</th>\n",
       "      <td>singola</td>\n",
       "      <td>M/F</td>\n",
       "      <td>Lame</td>\n",
       "      <td>1</td>\n",
       "      <td>1</td>\n",
       "      <td>0</td>\n",
       "      <td>0</td>\n",
       "      <td>325-350</td>\n",
       "    </tr>\n",
       "  </tbody>\n",
       "</table>\n",
       "<p>200 rows × 8 columns</p>\n",
       "</div>"
      ],
      "text/plain": [
       "    tipologia genere        zona  bagno  cucina  salotto  balcone range euro\n",
       "0      doppia      F       Murri      2       1        0        0    200-225\n",
       "1      doppia      F     Marconi      2       1        1        0    225-250\n",
       "2      doppia    M/F   Bolognina      1       1        1        0    250-275\n",
       "3     singola      F    S.Vitale      1       1        0        1    400-425\n",
       "4     singola      F     Irnerio      1       1        0        1    500-525\n",
       "..        ...    ...         ...    ...     ...      ...      ...        ...\n",
       "195    doppia      M     Irnerio      1       1        0        0    200-225\n",
       "196    doppia    M/F   Bolognina      2       1        1        1    225-250\n",
       "197    doppia    M/F   Bolognina      1       1        1        1    225-250\n",
       "198   singola    M/F  San Donato      1       1        0        0    350-375\n",
       "199   singola    M/F        Lame      1       1        0        0    325-350\n",
       "\n",
       "[200 rows x 8 columns]"
      ]
     },
     "execution_count": 353,
     "metadata": {},
     "output_type": "execute_result"
    }
   ],
   "source": [
    "dataset = dataset.drop(columns = 'Unnamed: 0')\n",
    "dataset"
   ]
  },
  {
   "cell_type": "code",
   "execution_count": 354,
   "metadata": {},
   "outputs": [
    {
     "data": {
      "text/plain": [
       "tipologia     object\n",
       "genere        object\n",
       "zona          object\n",
       "bagno          int64\n",
       "cucina         int64\n",
       "salotto        int64\n",
       "balcone        int64\n",
       "range euro    object\n",
       "dtype: object"
      ]
     },
     "execution_count": 354,
     "metadata": {},
     "output_type": "execute_result"
    }
   ],
   "source": [
    "dataset.dtypes"
   ]
  },
  {
   "cell_type": "markdown",
   "metadata": {},
   "source": [
    "As we can see some of the values are categorical, others are numerical. RFC accepts only numerical values, so we have to do some transformation. "
   ]
  },
  {
   "cell_type": "markdown",
   "metadata": {},
   "source": [
    "## 2. Categorical features transformation"
   ]
  },
  {
   "cell_type": "markdown",
   "metadata": {},
   "source": [
    "We are going to use a One Hot Encoding method for the dataframe for those features that are not numerical ('tipologia', 'genere', 'zona'). This will increase considerably the dimension of our dataset, but it is way quicker than replacing each feature in the rows manually."
   ]
  },
  {
   "cell_type": "code",
   "execution_count": 355,
   "metadata": {},
   "outputs": [
    {
     "data": {
      "text/html": [
       "<div>\n",
       "<style scoped>\n",
       "    .dataframe tbody tr th:only-of-type {\n",
       "        vertical-align: middle;\n",
       "    }\n",
       "\n",
       "    .dataframe tbody tr th {\n",
       "        vertical-align: top;\n",
       "    }\n",
       "\n",
       "    .dataframe thead th {\n",
       "        text-align: right;\n",
       "    }\n",
       "</style>\n",
       "<table border=\"1\" class=\"dataframe\">\n",
       "  <thead>\n",
       "    <tr style=\"text-align: right;\">\n",
       "      <th></th>\n",
       "      <th>bagno</th>\n",
       "      <th>cucina</th>\n",
       "      <th>salotto</th>\n",
       "      <th>balcone</th>\n",
       "      <th>range euro</th>\n",
       "      <th>tipologia_doppia</th>\n",
       "      <th>tipologia_singola</th>\n",
       "      <th>genere_F</th>\n",
       "      <th>genere_M</th>\n",
       "      <th>genere_M/F</th>\n",
       "      <th>...</th>\n",
       "      <th>zona_Lame</th>\n",
       "      <th>zona_Malpighi</th>\n",
       "      <th>zona_Marconi</th>\n",
       "      <th>zona_Mazzini</th>\n",
       "      <th>zona_Murri</th>\n",
       "      <th>zona_S.Ruffillo</th>\n",
       "      <th>zona_S.Viola</th>\n",
       "      <th>zona_S.Vitale</th>\n",
       "      <th>zona_Saffi</th>\n",
       "      <th>zona_San Donato</th>\n",
       "    </tr>\n",
       "  </thead>\n",
       "  <tbody>\n",
       "    <tr>\n",
       "      <th>0</th>\n",
       "      <td>2</td>\n",
       "      <td>1</td>\n",
       "      <td>0</td>\n",
       "      <td>0</td>\n",
       "      <td>200-225</td>\n",
       "      <td>1</td>\n",
       "      <td>0</td>\n",
       "      <td>1</td>\n",
       "      <td>0</td>\n",
       "      <td>0</td>\n",
       "      <td>...</td>\n",
       "      <td>0</td>\n",
       "      <td>0</td>\n",
       "      <td>0</td>\n",
       "      <td>0</td>\n",
       "      <td>1</td>\n",
       "      <td>0</td>\n",
       "      <td>0</td>\n",
       "      <td>0</td>\n",
       "      <td>0</td>\n",
       "      <td>0</td>\n",
       "    </tr>\n",
       "    <tr>\n",
       "      <th>1</th>\n",
       "      <td>2</td>\n",
       "      <td>1</td>\n",
       "      <td>1</td>\n",
       "      <td>0</td>\n",
       "      <td>225-250</td>\n",
       "      <td>1</td>\n",
       "      <td>0</td>\n",
       "      <td>1</td>\n",
       "      <td>0</td>\n",
       "      <td>0</td>\n",
       "      <td>...</td>\n",
       "      <td>0</td>\n",
       "      <td>0</td>\n",
       "      <td>1</td>\n",
       "      <td>0</td>\n",
       "      <td>0</td>\n",
       "      <td>0</td>\n",
       "      <td>0</td>\n",
       "      <td>0</td>\n",
       "      <td>0</td>\n",
       "      <td>0</td>\n",
       "    </tr>\n",
       "    <tr>\n",
       "      <th>2</th>\n",
       "      <td>1</td>\n",
       "      <td>1</td>\n",
       "      <td>1</td>\n",
       "      <td>0</td>\n",
       "      <td>250-275</td>\n",
       "      <td>1</td>\n",
       "      <td>0</td>\n",
       "      <td>0</td>\n",
       "      <td>0</td>\n",
       "      <td>1</td>\n",
       "      <td>...</td>\n",
       "      <td>0</td>\n",
       "      <td>0</td>\n",
       "      <td>0</td>\n",
       "      <td>0</td>\n",
       "      <td>0</td>\n",
       "      <td>0</td>\n",
       "      <td>0</td>\n",
       "      <td>0</td>\n",
       "      <td>0</td>\n",
       "      <td>0</td>\n",
       "    </tr>\n",
       "    <tr>\n",
       "      <th>3</th>\n",
       "      <td>1</td>\n",
       "      <td>1</td>\n",
       "      <td>0</td>\n",
       "      <td>1</td>\n",
       "      <td>400-425</td>\n",
       "      <td>0</td>\n",
       "      <td>1</td>\n",
       "      <td>1</td>\n",
       "      <td>0</td>\n",
       "      <td>0</td>\n",
       "      <td>...</td>\n",
       "      <td>0</td>\n",
       "      <td>0</td>\n",
       "      <td>0</td>\n",
       "      <td>0</td>\n",
       "      <td>0</td>\n",
       "      <td>0</td>\n",
       "      <td>0</td>\n",
       "      <td>1</td>\n",
       "      <td>0</td>\n",
       "      <td>0</td>\n",
       "    </tr>\n",
       "    <tr>\n",
       "      <th>4</th>\n",
       "      <td>1</td>\n",
       "      <td>1</td>\n",
       "      <td>0</td>\n",
       "      <td>1</td>\n",
       "      <td>500-525</td>\n",
       "      <td>0</td>\n",
       "      <td>1</td>\n",
       "      <td>1</td>\n",
       "      <td>0</td>\n",
       "      <td>0</td>\n",
       "      <td>...</td>\n",
       "      <td>0</td>\n",
       "      <td>0</td>\n",
       "      <td>0</td>\n",
       "      <td>0</td>\n",
       "      <td>0</td>\n",
       "      <td>0</td>\n",
       "      <td>0</td>\n",
       "      <td>0</td>\n",
       "      <td>0</td>\n",
       "      <td>0</td>\n",
       "    </tr>\n",
       "    <tr>\n",
       "      <th>...</th>\n",
       "      <td>...</td>\n",
       "      <td>...</td>\n",
       "      <td>...</td>\n",
       "      <td>...</td>\n",
       "      <td>...</td>\n",
       "      <td>...</td>\n",
       "      <td>...</td>\n",
       "      <td>...</td>\n",
       "      <td>...</td>\n",
       "      <td>...</td>\n",
       "      <td>...</td>\n",
       "      <td>...</td>\n",
       "      <td>...</td>\n",
       "      <td>...</td>\n",
       "      <td>...</td>\n",
       "      <td>...</td>\n",
       "      <td>...</td>\n",
       "      <td>...</td>\n",
       "      <td>...</td>\n",
       "      <td>...</td>\n",
       "      <td>...</td>\n",
       "    </tr>\n",
       "    <tr>\n",
       "      <th>195</th>\n",
       "      <td>1</td>\n",
       "      <td>1</td>\n",
       "      <td>0</td>\n",
       "      <td>0</td>\n",
       "      <td>200-225</td>\n",
       "      <td>1</td>\n",
       "      <td>0</td>\n",
       "      <td>0</td>\n",
       "      <td>1</td>\n",
       "      <td>0</td>\n",
       "      <td>...</td>\n",
       "      <td>0</td>\n",
       "      <td>0</td>\n",
       "      <td>0</td>\n",
       "      <td>0</td>\n",
       "      <td>0</td>\n",
       "      <td>0</td>\n",
       "      <td>0</td>\n",
       "      <td>0</td>\n",
       "      <td>0</td>\n",
       "      <td>0</td>\n",
       "    </tr>\n",
       "    <tr>\n",
       "      <th>196</th>\n",
       "      <td>2</td>\n",
       "      <td>1</td>\n",
       "      <td>1</td>\n",
       "      <td>1</td>\n",
       "      <td>225-250</td>\n",
       "      <td>1</td>\n",
       "      <td>0</td>\n",
       "      <td>0</td>\n",
       "      <td>0</td>\n",
       "      <td>1</td>\n",
       "      <td>...</td>\n",
       "      <td>0</td>\n",
       "      <td>0</td>\n",
       "      <td>0</td>\n",
       "      <td>0</td>\n",
       "      <td>0</td>\n",
       "      <td>0</td>\n",
       "      <td>0</td>\n",
       "      <td>0</td>\n",
       "      <td>0</td>\n",
       "      <td>0</td>\n",
       "    </tr>\n",
       "    <tr>\n",
       "      <th>197</th>\n",
       "      <td>1</td>\n",
       "      <td>1</td>\n",
       "      <td>1</td>\n",
       "      <td>1</td>\n",
       "      <td>225-250</td>\n",
       "      <td>1</td>\n",
       "      <td>0</td>\n",
       "      <td>0</td>\n",
       "      <td>0</td>\n",
       "      <td>1</td>\n",
       "      <td>...</td>\n",
       "      <td>0</td>\n",
       "      <td>0</td>\n",
       "      <td>0</td>\n",
       "      <td>0</td>\n",
       "      <td>0</td>\n",
       "      <td>0</td>\n",
       "      <td>0</td>\n",
       "      <td>0</td>\n",
       "      <td>0</td>\n",
       "      <td>0</td>\n",
       "    </tr>\n",
       "    <tr>\n",
       "      <th>198</th>\n",
       "      <td>1</td>\n",
       "      <td>1</td>\n",
       "      <td>0</td>\n",
       "      <td>0</td>\n",
       "      <td>350-375</td>\n",
       "      <td>0</td>\n",
       "      <td>1</td>\n",
       "      <td>0</td>\n",
       "      <td>0</td>\n",
       "      <td>1</td>\n",
       "      <td>...</td>\n",
       "      <td>0</td>\n",
       "      <td>0</td>\n",
       "      <td>0</td>\n",
       "      <td>0</td>\n",
       "      <td>0</td>\n",
       "      <td>0</td>\n",
       "      <td>0</td>\n",
       "      <td>0</td>\n",
       "      <td>0</td>\n",
       "      <td>1</td>\n",
       "    </tr>\n",
       "    <tr>\n",
       "      <th>199</th>\n",
       "      <td>1</td>\n",
       "      <td>1</td>\n",
       "      <td>0</td>\n",
       "      <td>0</td>\n",
       "      <td>325-350</td>\n",
       "      <td>0</td>\n",
       "      <td>1</td>\n",
       "      <td>0</td>\n",
       "      <td>0</td>\n",
       "      <td>1</td>\n",
       "      <td>...</td>\n",
       "      <td>1</td>\n",
       "      <td>0</td>\n",
       "      <td>0</td>\n",
       "      <td>0</td>\n",
       "      <td>0</td>\n",
       "      <td>0</td>\n",
       "      <td>0</td>\n",
       "      <td>0</td>\n",
       "      <td>0</td>\n",
       "      <td>0</td>\n",
       "    </tr>\n",
       "  </tbody>\n",
       "</table>\n",
       "<p>200 rows × 28 columns</p>\n",
       "</div>"
      ],
      "text/plain": [
       "     bagno  cucina  salotto  balcone range euro  tipologia_doppia  \\\n",
       "0        2       1        0        0    200-225                 1   \n",
       "1        2       1        1        0    225-250                 1   \n",
       "2        1       1        1        0    250-275                 1   \n",
       "3        1       1        0        1    400-425                 0   \n",
       "4        1       1        0        1    500-525                 0   \n",
       "..     ...     ...      ...      ...        ...               ...   \n",
       "195      1       1        0        0    200-225                 1   \n",
       "196      2       1        1        1    225-250                 1   \n",
       "197      1       1        1        1    225-250                 1   \n",
       "198      1       1        0        0    350-375                 0   \n",
       "199      1       1        0        0    325-350                 0   \n",
       "\n",
       "     tipologia_singola  genere_F  genere_M  genere_M/F  ...  zona_Lame  \\\n",
       "0                    0         1         0           0  ...          0   \n",
       "1                    0         1         0           0  ...          0   \n",
       "2                    0         0         0           1  ...          0   \n",
       "3                    1         1         0           0  ...          0   \n",
       "4                    1         1         0           0  ...          0   \n",
       "..                 ...       ...       ...         ...  ...        ...   \n",
       "195                  0         0         1           0  ...          0   \n",
       "196                  0         0         0           1  ...          0   \n",
       "197                  0         0         0           1  ...          0   \n",
       "198                  1         0         0           1  ...          0   \n",
       "199                  1         0         0           1  ...          1   \n",
       "\n",
       "     zona_Malpighi  zona_Marconi  zona_Mazzini  zona_Murri  zona_S.Ruffillo  \\\n",
       "0                0             0             0           1                0   \n",
       "1                0             1             0           0                0   \n",
       "2                0             0             0           0                0   \n",
       "3                0             0             0           0                0   \n",
       "4                0             0             0           0                0   \n",
       "..             ...           ...           ...         ...              ...   \n",
       "195              0             0             0           0                0   \n",
       "196              0             0             0           0                0   \n",
       "197              0             0             0           0                0   \n",
       "198              0             0             0           0                0   \n",
       "199              0             0             0           0                0   \n",
       "\n",
       "     zona_S.Viola  zona_S.Vitale  zona_Saffi  zona_San Donato  \n",
       "0               0              0           0                0  \n",
       "1               0              0           0                0  \n",
       "2               0              0           0                0  \n",
       "3               0              1           0                0  \n",
       "4               0              0           0                0  \n",
       "..            ...            ...         ...              ...  \n",
       "195             0              0           0                0  \n",
       "196             0              0           0                0  \n",
       "197             0              0           0                0  \n",
       "198             0              0           0                1  \n",
       "199             0              0           0                0  \n",
       "\n",
       "[200 rows x 28 columns]"
      ]
     },
     "execution_count": 355,
     "metadata": {},
     "output_type": "execute_result"
    }
   ],
   "source": [
    "dummy_dataset = pd.get_dummies(dataset, columns = ['tipologia', 'genere', 'zona'])\n",
    "dummy_dataset"
   ]
  },
  {
   "cell_type": "markdown",
   "metadata": {},
   "source": [
    "Just to split the values in our dataframe  between a features array and a target array we move the 'range euro' column to the end of the dataset."
   ]
  },
  {
   "cell_type": "code",
   "execution_count": 356,
   "metadata": {},
   "outputs": [
    {
     "data": {
      "text/html": [
       "<div>\n",
       "<style scoped>\n",
       "    .dataframe tbody tr th:only-of-type {\n",
       "        vertical-align: middle;\n",
       "    }\n",
       "\n",
       "    .dataframe tbody tr th {\n",
       "        vertical-align: top;\n",
       "    }\n",
       "\n",
       "    .dataframe thead th {\n",
       "        text-align: right;\n",
       "    }\n",
       "</style>\n",
       "<table border=\"1\" class=\"dataframe\">\n",
       "  <thead>\n",
       "    <tr style=\"text-align: right;\">\n",
       "      <th></th>\n",
       "      <th>bagno</th>\n",
       "      <th>cucina</th>\n",
       "      <th>salotto</th>\n",
       "      <th>balcone</th>\n",
       "      <th>tipologia_doppia</th>\n",
       "      <th>tipologia_singola</th>\n",
       "      <th>genere_F</th>\n",
       "      <th>genere_M</th>\n",
       "      <th>genere_M/F</th>\n",
       "      <th>zona_Barca</th>\n",
       "      <th>...</th>\n",
       "      <th>zona_Malpighi</th>\n",
       "      <th>zona_Marconi</th>\n",
       "      <th>zona_Mazzini</th>\n",
       "      <th>zona_Murri</th>\n",
       "      <th>zona_S.Ruffillo</th>\n",
       "      <th>zona_S.Viola</th>\n",
       "      <th>zona_S.Vitale</th>\n",
       "      <th>zona_Saffi</th>\n",
       "      <th>zona_San Donato</th>\n",
       "      <th>range euro</th>\n",
       "    </tr>\n",
       "  </thead>\n",
       "  <tbody>\n",
       "    <tr>\n",
       "      <th>0</th>\n",
       "      <td>2</td>\n",
       "      <td>1</td>\n",
       "      <td>0</td>\n",
       "      <td>0</td>\n",
       "      <td>1</td>\n",
       "      <td>0</td>\n",
       "      <td>1</td>\n",
       "      <td>0</td>\n",
       "      <td>0</td>\n",
       "      <td>0</td>\n",
       "      <td>...</td>\n",
       "      <td>0</td>\n",
       "      <td>0</td>\n",
       "      <td>0</td>\n",
       "      <td>1</td>\n",
       "      <td>0</td>\n",
       "      <td>0</td>\n",
       "      <td>0</td>\n",
       "      <td>0</td>\n",
       "      <td>0</td>\n",
       "      <td>200-225</td>\n",
       "    </tr>\n",
       "    <tr>\n",
       "      <th>1</th>\n",
       "      <td>2</td>\n",
       "      <td>1</td>\n",
       "      <td>1</td>\n",
       "      <td>0</td>\n",
       "      <td>1</td>\n",
       "      <td>0</td>\n",
       "      <td>1</td>\n",
       "      <td>0</td>\n",
       "      <td>0</td>\n",
       "      <td>0</td>\n",
       "      <td>...</td>\n",
       "      <td>0</td>\n",
       "      <td>1</td>\n",
       "      <td>0</td>\n",
       "      <td>0</td>\n",
       "      <td>0</td>\n",
       "      <td>0</td>\n",
       "      <td>0</td>\n",
       "      <td>0</td>\n",
       "      <td>0</td>\n",
       "      <td>225-250</td>\n",
       "    </tr>\n",
       "    <tr>\n",
       "      <th>2</th>\n",
       "      <td>1</td>\n",
       "      <td>1</td>\n",
       "      <td>1</td>\n",
       "      <td>0</td>\n",
       "      <td>1</td>\n",
       "      <td>0</td>\n",
       "      <td>0</td>\n",
       "      <td>0</td>\n",
       "      <td>1</td>\n",
       "      <td>0</td>\n",
       "      <td>...</td>\n",
       "      <td>0</td>\n",
       "      <td>0</td>\n",
       "      <td>0</td>\n",
       "      <td>0</td>\n",
       "      <td>0</td>\n",
       "      <td>0</td>\n",
       "      <td>0</td>\n",
       "      <td>0</td>\n",
       "      <td>0</td>\n",
       "      <td>250-275</td>\n",
       "    </tr>\n",
       "    <tr>\n",
       "      <th>3</th>\n",
       "      <td>1</td>\n",
       "      <td>1</td>\n",
       "      <td>0</td>\n",
       "      <td>1</td>\n",
       "      <td>0</td>\n",
       "      <td>1</td>\n",
       "      <td>1</td>\n",
       "      <td>0</td>\n",
       "      <td>0</td>\n",
       "      <td>0</td>\n",
       "      <td>...</td>\n",
       "      <td>0</td>\n",
       "      <td>0</td>\n",
       "      <td>0</td>\n",
       "      <td>0</td>\n",
       "      <td>0</td>\n",
       "      <td>0</td>\n",
       "      <td>1</td>\n",
       "      <td>0</td>\n",
       "      <td>0</td>\n",
       "      <td>400-425</td>\n",
       "    </tr>\n",
       "    <tr>\n",
       "      <th>4</th>\n",
       "      <td>1</td>\n",
       "      <td>1</td>\n",
       "      <td>0</td>\n",
       "      <td>1</td>\n",
       "      <td>0</td>\n",
       "      <td>1</td>\n",
       "      <td>1</td>\n",
       "      <td>0</td>\n",
       "      <td>0</td>\n",
       "      <td>0</td>\n",
       "      <td>...</td>\n",
       "      <td>0</td>\n",
       "      <td>0</td>\n",
       "      <td>0</td>\n",
       "      <td>0</td>\n",
       "      <td>0</td>\n",
       "      <td>0</td>\n",
       "      <td>0</td>\n",
       "      <td>0</td>\n",
       "      <td>0</td>\n",
       "      <td>500-525</td>\n",
       "    </tr>\n",
       "    <tr>\n",
       "      <th>...</th>\n",
       "      <td>...</td>\n",
       "      <td>...</td>\n",
       "      <td>...</td>\n",
       "      <td>...</td>\n",
       "      <td>...</td>\n",
       "      <td>...</td>\n",
       "      <td>...</td>\n",
       "      <td>...</td>\n",
       "      <td>...</td>\n",
       "      <td>...</td>\n",
       "      <td>...</td>\n",
       "      <td>...</td>\n",
       "      <td>...</td>\n",
       "      <td>...</td>\n",
       "      <td>...</td>\n",
       "      <td>...</td>\n",
       "      <td>...</td>\n",
       "      <td>...</td>\n",
       "      <td>...</td>\n",
       "      <td>...</td>\n",
       "      <td>...</td>\n",
       "    </tr>\n",
       "    <tr>\n",
       "      <th>195</th>\n",
       "      <td>1</td>\n",
       "      <td>1</td>\n",
       "      <td>0</td>\n",
       "      <td>0</td>\n",
       "      <td>1</td>\n",
       "      <td>0</td>\n",
       "      <td>0</td>\n",
       "      <td>1</td>\n",
       "      <td>0</td>\n",
       "      <td>0</td>\n",
       "      <td>...</td>\n",
       "      <td>0</td>\n",
       "      <td>0</td>\n",
       "      <td>0</td>\n",
       "      <td>0</td>\n",
       "      <td>0</td>\n",
       "      <td>0</td>\n",
       "      <td>0</td>\n",
       "      <td>0</td>\n",
       "      <td>0</td>\n",
       "      <td>200-225</td>\n",
       "    </tr>\n",
       "    <tr>\n",
       "      <th>196</th>\n",
       "      <td>2</td>\n",
       "      <td>1</td>\n",
       "      <td>1</td>\n",
       "      <td>1</td>\n",
       "      <td>1</td>\n",
       "      <td>0</td>\n",
       "      <td>0</td>\n",
       "      <td>0</td>\n",
       "      <td>1</td>\n",
       "      <td>0</td>\n",
       "      <td>...</td>\n",
       "      <td>0</td>\n",
       "      <td>0</td>\n",
       "      <td>0</td>\n",
       "      <td>0</td>\n",
       "      <td>0</td>\n",
       "      <td>0</td>\n",
       "      <td>0</td>\n",
       "      <td>0</td>\n",
       "      <td>0</td>\n",
       "      <td>225-250</td>\n",
       "    </tr>\n",
       "    <tr>\n",
       "      <th>197</th>\n",
       "      <td>1</td>\n",
       "      <td>1</td>\n",
       "      <td>1</td>\n",
       "      <td>1</td>\n",
       "      <td>1</td>\n",
       "      <td>0</td>\n",
       "      <td>0</td>\n",
       "      <td>0</td>\n",
       "      <td>1</td>\n",
       "      <td>0</td>\n",
       "      <td>...</td>\n",
       "      <td>0</td>\n",
       "      <td>0</td>\n",
       "      <td>0</td>\n",
       "      <td>0</td>\n",
       "      <td>0</td>\n",
       "      <td>0</td>\n",
       "      <td>0</td>\n",
       "      <td>0</td>\n",
       "      <td>0</td>\n",
       "      <td>225-250</td>\n",
       "    </tr>\n",
       "    <tr>\n",
       "      <th>198</th>\n",
       "      <td>1</td>\n",
       "      <td>1</td>\n",
       "      <td>0</td>\n",
       "      <td>0</td>\n",
       "      <td>0</td>\n",
       "      <td>1</td>\n",
       "      <td>0</td>\n",
       "      <td>0</td>\n",
       "      <td>1</td>\n",
       "      <td>0</td>\n",
       "      <td>...</td>\n",
       "      <td>0</td>\n",
       "      <td>0</td>\n",
       "      <td>0</td>\n",
       "      <td>0</td>\n",
       "      <td>0</td>\n",
       "      <td>0</td>\n",
       "      <td>0</td>\n",
       "      <td>0</td>\n",
       "      <td>1</td>\n",
       "      <td>350-375</td>\n",
       "    </tr>\n",
       "    <tr>\n",
       "      <th>199</th>\n",
       "      <td>1</td>\n",
       "      <td>1</td>\n",
       "      <td>0</td>\n",
       "      <td>0</td>\n",
       "      <td>0</td>\n",
       "      <td>1</td>\n",
       "      <td>0</td>\n",
       "      <td>0</td>\n",
       "      <td>1</td>\n",
       "      <td>0</td>\n",
       "      <td>...</td>\n",
       "      <td>0</td>\n",
       "      <td>0</td>\n",
       "      <td>0</td>\n",
       "      <td>0</td>\n",
       "      <td>0</td>\n",
       "      <td>0</td>\n",
       "      <td>0</td>\n",
       "      <td>0</td>\n",
       "      <td>0</td>\n",
       "      <td>325-350</td>\n",
       "    </tr>\n",
       "  </tbody>\n",
       "</table>\n",
       "<p>200 rows × 28 columns</p>\n",
       "</div>"
      ],
      "text/plain": [
       "     bagno  cucina  salotto  balcone  tipologia_doppia  tipologia_singola  \\\n",
       "0        2       1        0        0                 1                  0   \n",
       "1        2       1        1        0                 1                  0   \n",
       "2        1       1        1        0                 1                  0   \n",
       "3        1       1        0        1                 0                  1   \n",
       "4        1       1        0        1                 0                  1   \n",
       "..     ...     ...      ...      ...               ...                ...   \n",
       "195      1       1        0        0                 1                  0   \n",
       "196      2       1        1        1                 1                  0   \n",
       "197      1       1        1        1                 1                  0   \n",
       "198      1       1        0        0                 0                  1   \n",
       "199      1       1        0        0                 0                  1   \n",
       "\n",
       "     genere_F  genere_M  genere_M/F  zona_Barca  ...  zona_Malpighi  \\\n",
       "0           1         0           0           0  ...              0   \n",
       "1           1         0           0           0  ...              0   \n",
       "2           0         0           1           0  ...              0   \n",
       "3           1         0           0           0  ...              0   \n",
       "4           1         0           0           0  ...              0   \n",
       "..        ...       ...         ...         ...  ...            ...   \n",
       "195         0         1           0           0  ...              0   \n",
       "196         0         0           1           0  ...              0   \n",
       "197         0         0           1           0  ...              0   \n",
       "198         0         0           1           0  ...              0   \n",
       "199         0         0           1           0  ...              0   \n",
       "\n",
       "     zona_Marconi  zona_Mazzini  zona_Murri  zona_S.Ruffillo  zona_S.Viola  \\\n",
       "0               0             0           1                0             0   \n",
       "1               1             0           0                0             0   \n",
       "2               0             0           0                0             0   \n",
       "3               0             0           0                0             0   \n",
       "4               0             0           0                0             0   \n",
       "..            ...           ...         ...              ...           ...   \n",
       "195             0             0           0                0             0   \n",
       "196             0             0           0                0             0   \n",
       "197             0             0           0                0             0   \n",
       "198             0             0           0                0             0   \n",
       "199             0             0           0                0             0   \n",
       "\n",
       "     zona_S.Vitale  zona_Saffi  zona_San Donato  range euro  \n",
       "0                0           0                0     200-225  \n",
       "1                0           0                0     225-250  \n",
       "2                0           0                0     250-275  \n",
       "3                1           0                0     400-425  \n",
       "4                0           0                0     500-525  \n",
       "..             ...         ...              ...         ...  \n",
       "195              0           0                0     200-225  \n",
       "196              0           0                0     225-250  \n",
       "197              0           0                0     225-250  \n",
       "198              0           0                1     350-375  \n",
       "199              0           0                0     325-350  \n",
       "\n",
       "[200 rows x 28 columns]"
      ]
     },
     "execution_count": 356,
     "metadata": {},
     "output_type": "execute_result"
    }
   ],
   "source": [
    "columns = list(dummy_dataset.columns.values)\n",
    "columns.pop(columns.index('range euro')) \n",
    "dummy_dataset = dummy_dataset[columns+['range euro']]\n",
    "dummy_dataset"
   ]
  },
  {
   "cell_type": "markdown",
   "metadata": {},
   "source": [
    "We can double check for correlations between features now, as we have done beafore in 'data_preparation.ipynb'."
   ]
  },
  {
   "cell_type": "code",
   "execution_count": 357,
   "metadata": {},
   "outputs": [
    {
     "data": {
      "image/png": "[encoded data removed]",
      "text/plain": [
       "<Figure size 1080x1080 with 2 Axes>"
      ]
     },
     "metadata": {
      "needs_background": "light"
     },
     "output_type": "display_data"
    }
   ],
   "source": [
    "correlations = dummy_dataset.corr(method='pearson')\n",
    "correlations\n",
    "f = plt.figure(figsize=(15, 15))\n",
    "plt.matshow(correlations, fignum=f.number)\n",
    "plt.xticks(range(dummy_dataset.shape[1]), dummy_dataset.columns, fontsize=14, rotation=90)\n",
    "plt.yticks(range(dummy_dataset.shape[1]), dummy_dataset.columns, fontsize=14)\n",
    "cb = plt.colorbar()\n",
    "cb.ax.tick_params(labelsize=14)"
   ]
  },
  {
   "cell_type": "markdown",
   "metadata": {},
   "source": [
    "It is at least visually evident that there are not strong correlations, apart from those features like kind of bedroom and gender wich are obviously mutually excluding, thus resulting in a strong anti-correlation."
   ]
  },
  {
   "cell_type": "markdown",
   "metadata": {},
   "source": [
    "It will be interesting later to see how the 'range euro' target is correlated with features."
   ]
  },
  {
   "cell_type": "code",
   "execution_count": 358,
   "metadata": {},
   "outputs": [
    {
     "data": {
      "text/plain": [
       "array([[2, 1, 0, ..., 0, 0, 0],\n",
       "       [2, 1, 1, ..., 0, 0, 0],\n",
       "       [1, 1, 1, ..., 0, 0, 0],\n",
       "       ...,\n",
       "       [1, 1, 1, ..., 0, 0, 0],\n",
       "       [1, 1, 0, ..., 0, 0, 1],\n",
       "       [1, 1, 0, ..., 0, 0, 0]], dtype=object)"
      ]
     },
     "execution_count": 358,
     "metadata": {},
     "output_type": "execute_result"
    }
   ],
   "source": [
    "array = dummy_dataset.values\n",
    "X_enc = array[:,0:27]\n",
    "X_enc"
   ]
  },
  {
   "cell_type": "code",
   "execution_count": 359,
   "metadata": {},
   "outputs": [
    {
     "data": {
      "text/plain": [
       "array(['200-225', '225-250', '250-275', '400-425', '500-525', '250-275',\n",
       "       '500-525', '450-475', '325-350', '450-475', '350-375', '275-300',\n",
       "       '225-250', '350-375', '350-375', '200-225', '400-425', '225-250',\n",
       "       '250-275', '275-300', '500-525', '225-250', '300-325', '250-275',\n",
       "       '325-350', '400-425', '325-350', '300-325', '400-425', '250-275',\n",
       "       '225-250', '450-475', '225-250', '350-375', '200-225', '300-325',\n",
       "       '350-375', '275-300', '550-575', '200-225', '250-275', '250-275',\n",
       "       '400-425', '400-425', '350-375', '650-675', '300-325', '275-300',\n",
       "       '375-400', '350-375', '300-325', '400-425', '275-300', '225-250',\n",
       "       '200-225', '400-425', '225-250', '250-275', '550-575', '300-325',\n",
       "       '200-225', '450-475', '350-375', '375-400', '425-450', '275-300',\n",
       "       '275-300', '300-325', '375-400', '375-400', '175-200', '375-400',\n",
       "       '225-250', '350-375', '250-275', '250-275', '400-425', '400-425',\n",
       "       '450-475', '450-475', '300-325', '450-475', '550-575', '400-425',\n",
       "       '350-375', '225-250', '400-425', '450-475', '350-375', '325-350',\n",
       "       '250-275', '375-400', '350-375', '450-475', '325-350', '375-400',\n",
       "       '250-275', '250-275', '275-300', '200-225', '250-275', '525-550',\n",
       "       '375-400', '425-450', '250-275', '300-325', '300-325', '325-350',\n",
       "       '225-250', '300-325', '300-325', '325-350', '275-300', '300-325',\n",
       "       '350-375', '300-325', '300-325', '500-525', '350-375', '400-425',\n",
       "       '400-425', '325-350', '450-475', '450-475', '250-275', '350-375',\n",
       "       '300-325', '450-475', '225-250', '400-425', '275-300', '300-325',\n",
       "       '250-275', '450-475', '425-450', '250-275', '400-425', '200-225',\n",
       "       '500-525', '400-425', '350-375', '500-525', '325-350', '400-425',\n",
       "       '250-275', '325-350', '350-375', '350-375', '325-350', '250-275',\n",
       "       '250-275', '225-250', '200-225', '425-450', '325-350', '400-425',\n",
       "       '350-375', '250-275', '250-275', '250-275', '175-200', '450-475',\n",
       "       '300-325', '450-475', '400-425', '350-375', '225-250', '250-275',\n",
       "       '300-325', '275-300', '350-375', '225-250', '250-275', '275-300',\n",
       "       '300-325', '275-300', '350-375', '175-200', '250-275', '250-275',\n",
       "       '450-475', '225-250', '400-425', '400-425', '225-250', '200-225',\n",
       "       '225-250', '300-325', '350-375', '400-425', '250-275', '250-275',\n",
       "       '325-350', '200-225', '400-425', '200-225', '225-250', '225-250',\n",
       "       '350-375', '325-350'], dtype=object)"
      ]
     },
     "execution_count": 359,
     "metadata": {},
     "output_type": "execute_result"
    }
   ],
   "source": [
    "Y = array[:,27]\n",
    "Y"
   ]
  },
  {
   "cell_type": "markdown",
   "metadata": {},
   "source": [
    "## 3. Target transformation"
   ]
  },
  {
   "cell_type": "markdown",
   "metadata": {},
   "source": [
    "Even the target array has to be transformed in order to pass it to the fit() function, but we are going to use a Label Encoder wich is more suited for target values."
   ]
  },
  {
   "cell_type": "code",
   "execution_count": 360,
   "metadata": {},
   "outputs": [
    {
     "data": {
      "text/plain": [
       "array([ 0,  1,  2,  3,  4,  5,  6,  7,  8,  9, 10, 11, 12, 13, 14, 15, 16,\n",
       "       17, 18, 19, 20])"
      ]
     },
     "execution_count": 360,
     "metadata": {},
     "output_type": "execute_result"
    }
   ],
   "source": [
    "le = preprocessing.LabelEncoder()\n",
    "le.fit_transform(['175-200', '200-225', '225-250', '250-275', '275-300', '300-325', '325-350', '350-375',\n",
    "                  '375-400', '400-425', '425-450', '450-475', '475-500', '500-525', '525-550', '550-575', \n",
    "                 '575-600', '600-625', '625-650', '650-675', '675-700'])"
   ]
  },
  {
   "cell_type": "code",
   "execution_count": 361,
   "metadata": {},
   "outputs": [
    {
     "data": {
      "text/plain": [
       "array([ 1,  2,  3,  9, 13,  3, 13, 11,  6, 11,  7,  4,  2,  7,  7,  1,  9,\n",
       "        2,  3,  4, 13,  2,  5,  3,  6,  9,  6,  5,  9,  3,  2, 11,  2,  7,\n",
       "        1,  5,  7,  4, 15,  1,  3,  3,  9,  9,  7, 19,  5,  4,  8,  7,  5,\n",
       "        9,  4,  2,  1,  9,  2,  3, 15,  5,  1, 11,  7,  8, 10,  4,  4,  5,\n",
       "        8,  8,  0,  8,  2,  7,  3,  3,  9,  9, 11, 11,  5, 11, 15,  9,  7,\n",
       "        2,  9, 11,  7,  6,  3,  8,  7, 11,  6,  8,  3,  3,  4,  1,  3, 14,\n",
       "        8, 10,  3,  5,  5,  6,  2,  5,  5,  6,  4,  5,  7,  5,  5, 13,  7,\n",
       "        9,  9,  6, 11, 11,  3,  7,  5, 11,  2,  9,  4,  5,  3, 11, 10,  3,\n",
       "        9,  1, 13,  9,  7, 13,  6,  9,  3,  6,  7,  7,  6,  3,  3,  2,  1,\n",
       "       10,  6,  9,  7,  3,  3,  3,  0, 11,  5, 11,  9,  7,  2,  3,  5,  4,\n",
       "        7,  2,  3,  4,  5,  4,  7,  0,  3,  3, 11,  2,  9,  9,  2,  1,  2,\n",
       "        5,  7,  9,  3,  3,  6,  1,  9,  1,  2,  2,  7,  6])"
      ]
     },
     "execution_count": 361,
     "metadata": {},
     "output_type": "execute_result"
    }
   ],
   "source": [
    "le.transform(Y)"
   ]
  },
  {
   "cell_type": "code",
   "execution_count": 362,
   "metadata": {},
   "outputs": [],
   "source": [
    "Y_enc = le.transform(Y)"
   ]
  },
  {
   "cell_type": "code",
   "execution_count": 363,
   "metadata": {},
   "outputs": [
    {
     "data": {
      "text/plain": [
       "array([ 1,  2,  3,  9, 13,  3, 13, 11,  6, 11,  7,  4,  2,  7,  7,  1,  9,\n",
       "        2,  3,  4, 13,  2,  5,  3,  6,  9,  6,  5,  9,  3,  2, 11,  2,  7,\n",
       "        1,  5,  7,  4, 15,  1,  3,  3,  9,  9,  7, 19,  5,  4,  8,  7,  5,\n",
       "        9,  4,  2,  1,  9,  2,  3, 15,  5,  1, 11,  7,  8, 10,  4,  4,  5,\n",
       "        8,  8,  0,  8,  2,  7,  3,  3,  9,  9, 11, 11,  5, 11, 15,  9,  7,\n",
       "        2,  9, 11,  7,  6,  3,  8,  7, 11,  6,  8,  3,  3,  4,  1,  3, 14,\n",
       "        8, 10,  3,  5,  5,  6,  2,  5,  5,  6,  4,  5,  7,  5,  5, 13,  7,\n",
       "        9,  9,  6, 11, 11,  3,  7,  5, 11,  2,  9,  4,  5,  3, 11, 10,  3,\n",
       "        9,  1, 13,  9,  7, 13,  6,  9,  3,  6,  7,  7,  6,  3,  3,  2,  1,\n",
       "       10,  6,  9,  7,  3,  3,  3,  0, 11,  5, 11,  9,  7,  2,  3,  5,  4,\n",
       "        7,  2,  3,  4,  5,  4,  7,  0,  3,  3, 11,  2,  9,  9,  2,  1,  2,\n",
       "        5,  7,  9,  3,  3,  6,  1,  9,  1,  2,  2,  7,  6])"
      ]
     },
     "execution_count": 363,
     "metadata": {},
     "output_type": "execute_result"
    }
   ],
   "source": [
    "Y_enc"
   ]
  },
  {
   "cell_type": "markdown",
   "metadata": {},
   "source": [
    "We have now our X and Y encoded arrays with numerical features and targets, we are ready to train our ML algo."
   ]
  },
  {
   "cell_type": "markdown",
   "metadata": {},
   "source": [
    "## 4. Random Forest Classifier"
   ]
  },
  {
   "cell_type": "markdown",
   "metadata": {},
   "source": [
    "The model we are going to use in a first istance is the Random Forest Classifier since it can handle large datasets and uses bootstrap on its own."
   ]
  },
  {
   "cell_type": "markdown",
   "metadata": {},
   "source": [
    "Since we might want to compare more models together we prepare the lists to store the models and their accuracies."
   ]
  },
  {
   "cell_type": "code",
   "execution_count": 364,
   "metadata": {},
   "outputs": [],
   "source": [
    "models = []\n",
    "accuracies = []"
   ]
  },
  {
   "cell_type": "markdown",
   "metadata": {},
   "source": [
    "We split the encoded dataset into train and test arrays for features and targets."
   ]
  },
  {
   "cell_type": "code",
   "execution_count": 365,
   "metadata": {},
   "outputs": [],
   "source": [
    "X_train, X_test, Y_train, Y_test = train_test_split(X_enc, Y_enc, test_size = 0.13, random_state = 843)"
   ]
  },
  {
   "cell_type": "code",
   "execution_count": 366,
   "metadata": {},
   "outputs": [
    {
     "data": {
      "text/plain": [
       "(174, 27)"
      ]
     },
     "execution_count": 366,
     "metadata": {},
     "output_type": "execute_result"
    }
   ],
   "source": [
    "X_train.shape"
   ]
  },
  {
   "cell_type": "code",
   "execution_count": 367,
   "metadata": {},
   "outputs": [
    {
     "data": {
      "text/plain": [
       "(174,)"
      ]
     },
     "execution_count": 367,
     "metadata": {},
     "output_type": "execute_result"
    }
   ],
   "source": [
    "Y_train.shape"
   ]
  },
  {
   "cell_type": "code",
   "execution_count": 368,
   "metadata": {},
   "outputs": [
    {
     "data": {
      "text/plain": [
       "(26, 27)"
      ]
     },
     "execution_count": 368,
     "metadata": {},
     "output_type": "execute_result"
    }
   ],
   "source": [
    "X_test.shape"
   ]
  },
  {
   "cell_type": "code",
   "execution_count": 369,
   "metadata": {},
   "outputs": [
    {
     "data": {
      "text/plain": [
       "(26,)"
      ]
     },
     "execution_count": 369,
     "metadata": {},
     "output_type": "execute_result"
    }
   ],
   "source": [
    "Y_test.shape"
   ]
  },
  {
   "cell_type": "markdown",
   "metadata": {},
   "source": [
    "We build our first classifier almost without touching any of its hyperparameters."
   ]
  },
  {
   "cell_type": "code",
   "execution_count": 370,
   "metadata": {},
   "outputs": [
    {
     "data": {
      "text/plain": [
       "RandomForestClassifier(n_jobs=-1, random_state=299)"
      ]
     },
     "execution_count": 370,
     "metadata": {},
     "output_type": "execute_result"
    }
   ],
   "source": [
    "clf = RandomForestClassifier(random_state = 299, n_jobs = -1)\n",
    "clf.fit(X_train, Y_train)"
   ]
  },
  {
   "cell_type": "code",
   "execution_count": 371,
   "metadata": {},
   "outputs": [],
   "source": [
    "models.append('RandomForestClassifier')"
   ]
  },
  {
   "cell_type": "code",
   "execution_count": 372,
   "metadata": {},
   "outputs": [],
   "source": [
    "Y_pred = clf.predict(X_test)"
   ]
  },
  {
   "cell_type": "code",
   "execution_count": 373,
   "metadata": {},
   "outputs": [
    {
     "data": {
      "text/plain": [
       "array([ 9,  9,  5,  3,  4, 11, 10, 13,  3,  7,  2,  3,  9,  9,  2,  9,  3,\n",
       "        1, 11, 13,  3,  9, 11,  3,  5, 11])"
      ]
     },
     "execution_count": 373,
     "metadata": {},
     "output_type": "execute_result"
    }
   ],
   "source": [
    "Y_pred"
   ]
  },
  {
   "cell_type": "code",
   "execution_count": 374,
   "metadata": {},
   "outputs": [
    {
     "data": {
      "text/plain": [
       "array([ 9,  3, 14,  3,  1, 11,  9,  7,  2,  7,  2,  7,  9,  9,  2,  5,  0,\n",
       "        7,  8, 11,  5,  9,  9,  3,  3, 11])"
      ]
     },
     "execution_count": 374,
     "metadata": {},
     "output_type": "execute_result"
    }
   ],
   "source": [
    "Y_test"
   ]
  },
  {
   "cell_type": "code",
   "execution_count": 375,
   "metadata": {},
   "outputs": [
    {
     "data": {
      "text/plain": [
       "0.4230769230769231"
      ]
     },
     "execution_count": 375,
     "metadata": {},
     "output_type": "execute_result"
    }
   ],
   "source": [
    "accuracy_score(Y_test, Y_pred)"
   ]
  },
  {
   "cell_type": "code",
   "execution_count": 376,
   "metadata": {},
   "outputs": [
    {
     "name": "stdout",
     "output_type": "stream",
     "text": [
      "Accuracy: 42.308%\n"
     ]
    }
   ],
   "source": [
    "clf_accuracy = clf.score(X_test, Y_test)\n",
    "print(\"Accuracy: %.3f%%\" % (clf_accuracy*100.0))"
   ]
  },
  {
   "cell_type": "code",
   "execution_count": 377,
   "metadata": {},
   "outputs": [],
   "source": [
    "accuracies.append(clf_accuracy*100.0)"
   ]
  },
  {
   "cell_type": "markdown",
   "metadata": {},
   "source": [
    "As we can see the accuracy is very low. This is probably due to the natural tendency to overfitting of the RandomForestClassifier, having few (or any) entries for some of the targets does not help for sure in this sense, but it is all we have got."
   ]
  },
  {
   "cell_type": "code",
   "execution_count": 378,
   "metadata": {},
   "outputs": [
    {
     "name": "stderr",
     "output_type": "stream",
     "text": [
      "<ipython-input-378-9451e410fe4a>:2: RuntimeWarning: invalid value encountered in true_divide\n",
      "  matrix = matrix.astype('float') / matrix.sum(axis=1)[:, np.newaxis]\n"
     ]
    },
    {
     "data": {
      "image/png": "[encoded data removed]",
      "text/plain": [
       "<Figure size 1080x1080 with 2 Axes>"
      ]
     },
     "metadata": {
      "needs_background": "light"
     },
     "output_type": "display_data"
    }
   ],
   "source": [
    "matrix = confusion_matrix(Y_test, Y_pred)\n",
    "matrix = matrix.astype('float') / matrix.sum(axis=1)[:, np.newaxis]\n",
    "\n",
    "plt.figure(figsize=(15,15))\n",
    "sn.set(font_scale=1.4)\n",
    "sn.heatmap(matrix, annot=True, annot_kws={'size':10},\n",
    "            cmap=plt.cm.Greens, linewidths=0.2)\n",
    "\n",
    "class_names = ['175-200', '200-225', '225-250', '250-275', '275-300', '300-325', '325-350', '350-375',\n",
    "                  '375-400', '400-425', '425-450', '450-475', '475-500', '500-525', '525-550', '550-575', \n",
    "                 '575-600', '600-625', '625-650', '650-675', '675-700']\n",
    "tick_marks = np.arange(len(class_names))\n",
    "tick_marks2 = tick_marks + 0.5\n",
    "plt.xticks(tick_marks, class_names, rotation=90)\n",
    "plt.yticks(tick_marks2, class_names, rotation=0)\n",
    "plt.xlabel('Predicted label')\n",
    "plt.ylabel('True label')\n",
    "plt.title('Confusion Matrix for Random Forest Model')\n",
    "plt.show()"
   ]
  },
  {
   "cell_type": "code",
   "execution_count": 379,
   "metadata": {},
   "outputs": [
    {
     "name": "stdout",
     "output_type": "stream",
     "text": [
      "              precision    recall  f1-score   support\n",
      "\n",
      "           0       0.00      0.00      0.00         1\n",
      "           1       0.00      0.00      0.00         1\n",
      "           2       1.00      0.67      0.80         3\n",
      "           3       0.33      0.50      0.40         4\n",
      "           4       0.00      0.00      0.00         0\n",
      "           5       0.00      0.00      0.00         2\n",
      "           7       1.00      0.25      0.40         4\n",
      "           8       0.00      0.00      0.00         1\n",
      "           9       0.67      0.67      0.67         6\n",
      "          10       0.00      0.00      0.00         0\n",
      "          11       0.50      0.67      0.57         3\n",
      "          13       0.00      0.00      0.00         0\n",
      "          14       0.00      0.00      0.00         1\n",
      "\n",
      "    accuracy                           0.42        26\n",
      "   macro avg       0.27      0.21      0.22        26\n",
      "weighted avg       0.53      0.42      0.44        26\n",
      "\n"
     ]
    },
    {
     "name": "stderr",
     "output_type": "stream",
     "text": [
      "/home/marco/anaconda3/lib/python3.8/site-packages/sklearn/metrics/_classification.py:1221: UndefinedMetricWarning: Precision and F-score are ill-defined and being set to 0.0 in labels with no predicted samples. Use `zero_division` parameter to control this behavior.\n",
      "  _warn_prf(average, modifier, msg_start, len(result))\n",
      "/home/marco/anaconda3/lib/python3.8/site-packages/sklearn/metrics/_classification.py:1221: UndefinedMetricWarning: Recall and F-score are ill-defined and being set to 0.0 in labels with no true samples. Use `zero_division` parameter to control this behavior.\n",
      "  _warn_prf(average, modifier, msg_start, len(result))\n"
     ]
    }
   ],
   "source": [
    "print(classification_report(Y_test, Y_pred))"
   ]
  },
  {
   "cell_type": "markdown",
   "metadata": {},
   "source": [
    "As confirmed by the report and the confusion matrix there are many predictions that are misclassified."
   ]
  },
  {
   "cell_type": "markdown",
   "metadata": {},
   "source": [
    "## 5. Hyperparameters tuning"
   ]
  },
  {
   "cell_type": "markdown",
   "metadata": {},
   "source": [
    "Since our model can be set with some parameters, we are going to look for the best ones, first with a RandomizedSearchCV and then with a GridSearchCV."
   ]
  },
  {
   "cell_type": "markdown",
   "metadata": {},
   "source": [
    "### 5.1 RandomizedSearchCV"
   ]
  },
  {
   "cell_type": "code",
   "execution_count": 380,
   "metadata": {},
   "outputs": [
    {
     "name": "stdout",
     "output_type": "stream",
     "text": [
      "Parameters currently in use:\n",
      "\n",
      "{'bootstrap': True,\n",
      " 'ccp_alpha': 0.0,\n",
      " 'class_weight': None,\n",
      " 'criterion': 'gini',\n",
      " 'max_depth': None,\n",
      " 'max_features': 'auto',\n",
      " 'max_leaf_nodes': None,\n",
      " 'max_samples': None,\n",
      " 'min_impurity_decrease': 0.0,\n",
      " 'min_impurity_split': None,\n",
      " 'min_samples_leaf': 1,\n",
      " 'min_samples_split': 2,\n",
      " 'min_weight_fraction_leaf': 0.0,\n",
      " 'n_estimators': 100,\n",
      " 'n_jobs': -1,\n",
      " 'oob_score': False,\n",
      " 'random_state': 299,\n",
      " 'verbose': 0,\n",
      " 'warm_start': False}\n"
     ]
    }
   ],
   "source": [
    "print('Parameters currently in use:\\n')\n",
    "pprint(clf.get_params())"
   ]
  },
  {
   "cell_type": "markdown",
   "metadata": {},
   "source": [
    "We define the ranges of the hyperparameters."
   ]
  },
  {
   "cell_type": "code",
   "execution_count": 381,
   "metadata": {},
   "outputs": [],
   "source": [
    "bootstrap = [True, False]\n",
    "ccp_alpha = uniform(0.01, 0.99)\n",
    "criterion = ['gini', 'entropy']\n",
    "max_depth = [int(x) for x in np.linspace(1, 100, num = 100)]\n",
    "max_depth.append(None)\n",
    "max_features = truncnorm(a = 0, b = 1, loc = 0.25, scale = 0.1)\n",
    "max_leaf_nodes = [int(x) for x in np.linspace(1, 100, num = 100)]\n",
    "max_leaf_nodes.append(None)\n",
    "min_impurity_decrease = uniform(0.01, 0.99)\n",
    "min_samples_leaf = randint(1, 20)\n",
    "min_samples_split = uniform(0.01, 0.199)\n",
    "n_estimators = randint(1, 200)\n",
    "oob_score = [True, False]\n",
    "random_state = randint(1, 400)\n",
    "warm_start = [True, False]"
   ]
  },
  {
   "cell_type": "code",
   "execution_count": 382,
   "metadata": {},
   "outputs": [],
   "source": [
    "random_grid = {'bootstrap': bootstrap,\n",
    "               'ccp_alpha': ccp_alpha,\n",
    "               'criterion': criterion,\n",
    "               'max_depth': max_depth,\n",
    "               'max_features': max_features,\n",
    "               'max_leaf_nodes': max_leaf_nodes,\n",
    "               'min_impurity_decrease': min_impurity_decrease,\n",
    "               'min_samples_leaf': min_samples_leaf,\n",
    "               'min_samples_split': min_samples_split,\n",
    "               'n_estimators': n_estimators,\n",
    "               'oob_score': oob_score,\n",
    "               'random_state': random_state,\n",
    "               'warm_start': warm_start}"
   ]
  },
  {
   "cell_type": "code",
   "execution_count": 383,
   "metadata": {},
   "outputs": [],
   "source": [
    "clf_tmp = RandomForestClassifier()"
   ]
  },
  {
   "cell_type": "markdown",
   "metadata": {},
   "source": [
    "We launch the search function and then create a model to evaluate its accuracy."
   ]
  },
  {
   "cell_type": "code",
   "execution_count": 384,
   "metadata": {},
   "outputs": [
    {
     "name": "stderr",
     "output_type": "stream",
     "text": [
      "/home/marco/anaconda3/lib/python3.8/site-packages/sklearn/model_selection/_split.py:670: UserWarning: The least populated class in y has only 1 members, which is less than n_splits=5.\n",
      "  warnings.warn((\"The least populated class in y has only %d\"\n"
     ]
    }
   ],
   "source": [
    "clf_ran = RandomizedSearchCV(clf_tmp, param_distributions = random_grid, n_iter = 100,\n",
    "                             random_state = 42, n_jobs = -1)\n",
    "best_model = clf_ran.fit(X_train, Y_train)"
   ]
  },
  {
   "cell_type": "code",
   "execution_count": 385,
   "metadata": {},
   "outputs": [
    {
     "name": "stdout",
     "output_type": "stream",
     "text": [
      "{'bootstrap': False,\n",
      " 'ccp_alpha': 0.2486152113657516,\n",
      " 'class_weight': None,\n",
      " 'criterion': 'entropy',\n",
      " 'max_depth': 71,\n",
      " 'max_features': array([0.30481896]),\n",
      " 'max_leaf_nodes': 8,\n",
      " 'max_samples': None,\n",
      " 'min_impurity_decrease': 0.044044635904066216,\n",
      " 'min_impurity_split': None,\n",
      " 'min_samples_leaf': 14,\n",
      " 'min_samples_split': 0.08782106090707492,\n",
      " 'min_weight_fraction_leaf': 0.0,\n",
      " 'n_estimators': 50,\n",
      " 'n_jobs': None,\n",
      " 'oob_score': False,\n",
      " 'random_state': 388,\n",
      " 'verbose': 0,\n",
      " 'warm_start': False}\n"
     ]
    }
   ],
   "source": [
    "pprint(best_model.best_estimator_.get_params())"
   ]
  },
  {
   "cell_type": "code",
   "execution_count": 386,
   "metadata": {},
   "outputs": [
    {
     "data": {
      "text/plain": [
       "RandomForestClassifier(bootstrap=False, ccp_alpha=0.2486152113657516,\n",
       "                       criterion='entropy', max_depth=71,\n",
       "                       max_features=0.30481896, max_leaf_nodes=8,\n",
       "                       min_impurity_decrease=0.044044635904066216,\n",
       "                       min_samples_leaf=14,\n",
       "                       min_samples_split=0.08782106090707492, n_jobs=-1,\n",
       "                       random_state=388)"
      ]
     },
     "execution_count": 386,
     "metadata": {},
     "output_type": "execute_result"
    }
   ],
   "source": [
    "temp_model = RandomForestClassifier(bootstrap = False, ccp_alpha = 0.2486152113657516, class_weight =  None,\n",
    "                                    criterion = 'entropy', max_depth = 71, max_features = 0.30481896,\n",
    "                                    max_leaf_nodes = 8, max_samples = None,\n",
    "                                    min_impurity_decrease = 0.044044635904066216, min_impurity_split = None,\n",
    "                                    min_samples_leaf = 14, min_samples_split = 0.08782106090707492,\n",
    "                                    min_weight_fraction_leaf = 0.0, n_estimators = 100, n_jobs = -1,\n",
    "                                    oob_score = False, random_state = 388, verbose = 0, warm_start = False)\n",
    "temp_model.fit(X_train, Y_train)"
   ]
  },
  {
   "cell_type": "code",
   "execution_count": 387,
   "metadata": {},
   "outputs": [],
   "source": [
    "models.append('RandomizedSearchCV')"
   ]
  },
  {
   "cell_type": "code",
   "execution_count": 388,
   "metadata": {},
   "outputs": [],
   "source": [
    "Y_pred_temp = temp_model.predict(X_test)"
   ]
  },
  {
   "cell_type": "code",
   "execution_count": 389,
   "metadata": {},
   "outputs": [
    {
     "data": {
      "text/plain": [
       "array([9, 9, 9, 3, 3, 9, 9, 9, 3, 9, 3, 9, 9, 9, 3, 9, 3, 3, 9, 9, 3, 9,\n",
       "       9, 3, 9, 9])"
      ]
     },
     "execution_count": 389,
     "metadata": {},
     "output_type": "execute_result"
    }
   ],
   "source": [
    "Y_pred_temp"
   ]
  },
  {
   "cell_type": "code",
   "execution_count": 390,
   "metadata": {},
   "outputs": [
    {
     "data": {
      "text/plain": [
       "array([ 9,  3, 14,  3,  1, 11,  9,  7,  2,  7,  2,  7,  9,  9,  2,  5,  0,\n",
       "        7,  8, 11,  5,  9,  9,  3,  3, 11])"
      ]
     },
     "execution_count": 390,
     "metadata": {},
     "output_type": "execute_result"
    }
   ],
   "source": [
    "Y_test"
   ]
  },
  {
   "cell_type": "code",
   "execution_count": 391,
   "metadata": {},
   "outputs": [
    {
     "name": "stdout",
     "output_type": "stream",
     "text": [
      "Accuracy: 30.769%\n"
     ]
    }
   ],
   "source": [
    "temp_accuracy = temp_model.score(X_test, Y_test)\n",
    "print(\"Accuracy: %.3f%%\" % (temp_accuracy*100.0))"
   ]
  },
  {
   "cell_type": "code",
   "execution_count": 392,
   "metadata": {},
   "outputs": [],
   "source": [
    "accuracies.append(temp_accuracy*100.0)"
   ]
  },
  {
   "cell_type": "markdown",
   "metadata": {},
   "source": [
    "Unfortunately our accuracy has become even worse than the previous one."
   ]
  },
  {
   "cell_type": "markdown",
   "metadata": {},
   "source": [
    "### 5.2 GridSearchCV"
   ]
  },
  {
   "cell_type": "markdown",
   "metadata": {},
   "source": [
    "We try now with a different search function on a more restricted range of hyperparameters."
   ]
  },
  {
   "cell_type": "code",
   "execution_count": 393,
   "metadata": {},
   "outputs": [],
   "source": [
    "max_depth = [2, 5, 10, 20, 30]\n",
    "max_depth.append(None)\n",
    "max_features = ['auto', 'log2']\n",
    "max_features.append(None)\n",
    "min_samples_leaf = [1, 2, 3, 4, 5, 6]\n",
    "min_samples_split = [3, 4, 5, 6]"
   ]
  },
  {
   "cell_type": "code",
   "execution_count": 394,
   "metadata": {},
   "outputs": [],
   "source": [
    "param_grid = {'max_depth': max_depth,\n",
    "              'max_features': max_features,\n",
    "              'min_samples_leaf': min_samples_leaf,\n",
    "              'min_samples_split': min_samples_split\n",
    "             }"
   ]
  },
  {
   "cell_type": "code",
   "execution_count": 395,
   "metadata": {},
   "outputs": [],
   "source": [
    "clf_grid = GridSearchCV(clf_tmp, param_grid = param_grid)"
   ]
  },
  {
   "cell_type": "code",
   "execution_count": 396,
   "metadata": {},
   "outputs": [
    {
     "name": "stderr",
     "output_type": "stream",
     "text": [
      "/home/marco/anaconda3/lib/python3.8/site-packages/sklearn/model_selection/_split.py:670: UserWarning: The least populated class in y has only 1 members, which is less than n_splits=5.\n",
      "  warnings.warn((\"The least populated class in y has only %d\"\n"
     ]
    }
   ],
   "source": [
    "best_grid = clf_grid.fit(X_train, Y_train)"
   ]
  },
  {
   "cell_type": "code",
   "execution_count": 397,
   "metadata": {},
   "outputs": [
    {
     "name": "stdout",
     "output_type": "stream",
     "text": [
      "{'bootstrap': True,\n",
      " 'ccp_alpha': 0.0,\n",
      " 'class_weight': None,\n",
      " 'criterion': 'gini',\n",
      " 'max_depth': 2,\n",
      " 'max_features': 'auto',\n",
      " 'max_leaf_nodes': None,\n",
      " 'max_samples': None,\n",
      " 'min_impurity_decrease': 0.0,\n",
      " 'min_impurity_split': None,\n",
      " 'min_samples_leaf': 2,\n",
      " 'min_samples_split': 6,\n",
      " 'min_weight_fraction_leaf': 0.0,\n",
      " 'n_estimators': 100,\n",
      " 'n_jobs': None,\n",
      " 'oob_score': False,\n",
      " 'random_state': None,\n",
      " 'verbose': 0,\n",
      " 'warm_start': False}\n"
     ]
    }
   ],
   "source": [
    "pprint(best_grid.best_estimator_.get_params())"
   ]
  },
  {
   "cell_type": "markdown",
   "metadata": {},
   "source": [
    "As we have done before we are going to evaluate the accuracy of this new model."
   ]
  },
  {
   "cell_type": "code",
   "execution_count": 398,
   "metadata": {},
   "outputs": [
    {
     "data": {
      "text/plain": [
       "RandomForestClassifier(max_depth=2, max_features=17,\n",
       "                       min_impurity_decrease=0.008, min_samples_leaf=6,\n",
       "                       n_jobs=-1, random_state=314)"
      ]
     },
     "execution_count": 398,
     "metadata": {},
     "output_type": "execute_result"
    }
   ],
   "source": [
    "temp_grid = RandomForestClassifier(bootstrap = True, ccp_alpha = 0.0, class_weight =  None,\n",
    "                                    criterion = 'gini', max_depth = 2, max_features = 17,\n",
    "                                    max_leaf_nodes = None, max_samples = None,\n",
    "                                    min_impurity_decrease = 0.008, min_impurity_split = None,\n",
    "                                    min_samples_leaf = 6, min_samples_split = 2,\n",
    "                                    min_weight_fraction_leaf = 0.0, n_estimators = 100, n_jobs = -1,\n",
    "                                    oob_score = False, random_state = 314, verbose = 0, warm_start = False)\n",
    "temp_grid.fit(X_train, Y_train)"
   ]
  },
  {
   "cell_type": "code",
   "execution_count": 399,
   "metadata": {},
   "outputs": [],
   "source": [
    "models.append('GridSearchCV')"
   ]
  },
  {
   "cell_type": "code",
   "execution_count": 400,
   "metadata": {},
   "outputs": [],
   "source": [
    "Y_pred_temp = temp_grid.predict(X_test)"
   ]
  },
  {
   "cell_type": "code",
   "execution_count": 401,
   "metadata": {},
   "outputs": [
    {
     "data": {
      "text/plain": [
       "array([ 9,  9,  9,  3,  3, 11,  9, 11,  3,  9,  3,  9,  9,  9,  3,  9,  3,\n",
       "        3,  9, 11,  3,  9,  9,  3, 11,  9])"
      ]
     },
     "execution_count": 401,
     "metadata": {},
     "output_type": "execute_result"
    }
   ],
   "source": [
    "Y_pred_temp"
   ]
  },
  {
   "cell_type": "code",
   "execution_count": 402,
   "metadata": {},
   "outputs": [
    {
     "data": {
      "text/plain": [
       "array([ 9,  3, 14,  3,  1, 11,  9,  7,  2,  7,  2,  7,  9,  9,  2,  5,  0,\n",
       "        7,  8, 11,  5,  9,  9,  3,  3, 11])"
      ]
     },
     "execution_count": 402,
     "metadata": {},
     "output_type": "execute_result"
    }
   ],
   "source": [
    "Y_test"
   ]
  },
  {
   "cell_type": "code",
   "execution_count": 403,
   "metadata": {},
   "outputs": [
    {
     "name": "stdout",
     "output_type": "stream",
     "text": [
      "Accuracy: 38.462%\n"
     ]
    }
   ],
   "source": [
    "temp_grid_accuracy = temp_grid.score(X_test, Y_test)\n",
    "print(\"Accuracy: %.3f%%\" % (temp_grid_accuracy*100.0))"
   ]
  },
  {
   "cell_type": "code",
   "execution_count": 404,
   "metadata": {},
   "outputs": [],
   "source": [
    "accuracies.append(temp_grid_accuracy*100.0)"
   ]
  },
  {
   "cell_type": "markdown",
   "metadata": {},
   "source": [
    "The accuracy is still very low, even though we have put our efforts in tuning the parameters we are not performing better than a simple RandomForestClassifier. What we have left to do is to compare other classification algos and if none of them is able to perform better we just have to accept that our dataset is poor, and might consider to expand it."
   ]
  },
  {
   "cell_type": "markdown",
   "metadata": {},
   "source": [
    "## 6. Comparing algorithms"
   ]
  },
  {
   "cell_type": "markdown",
   "metadata": {},
   "source": [
    "### 6.1 KNN"
   ]
  },
  {
   "cell_type": "code",
   "execution_count": 405,
   "metadata": {},
   "outputs": [],
   "source": [
    "from sklearn.neighbors import KNeighborsClassifier"
   ]
  },
  {
   "cell_type": "code",
   "execution_count": 406,
   "metadata": {},
   "outputs": [
    {
     "data": {
      "text/plain": [
       "KNeighborsClassifier(algorithm='ball_tree', leaf_size=3)"
      ]
     },
     "execution_count": 406,
     "metadata": {},
     "output_type": "execute_result"
    }
   ],
   "source": [
    "KNN_model = KNeighborsClassifier(n_neighbors = 5, algorithm = 'ball_tree', leaf_size = 3)\n",
    "KNN_model.fit(X_train, Y_train)"
   ]
  },
  {
   "cell_type": "code",
   "execution_count": 407,
   "metadata": {},
   "outputs": [],
   "source": [
    "models.append('KNN')"
   ]
  },
  {
   "cell_type": "code",
   "execution_count": 408,
   "metadata": {},
   "outputs": [
    {
     "name": "stdout",
     "output_type": "stream",
     "text": [
      "Accuracy: 46.154%\n"
     ]
    }
   ],
   "source": [
    "KNN_accuracy = KNN_model.score(X_test, Y_test)\n",
    "print(\"Accuracy: %.3f%%\" % (KNN_accuracy*100.0))"
   ]
  },
  {
   "cell_type": "code",
   "execution_count": 409,
   "metadata": {},
   "outputs": [],
   "source": [
    "accuracies.append(KNN_accuracy*100.0)"
   ]
  },
  {
   "cell_type": "code",
   "execution_count": 410,
   "metadata": {},
   "outputs": [],
   "source": [
    "Y_pred = KNN_model.predict(X_test)"
   ]
  },
  {
   "cell_type": "code",
   "execution_count": 411,
   "metadata": {},
   "outputs": [
    {
     "name": "stdout",
     "output_type": "stream",
     "text": [
      "              precision    recall  f1-score   support\n",
      "\n",
      "           0       0.00      0.00      0.00         1\n",
      "           1       0.00      0.00      0.00         1\n",
      "           2       0.50      0.33      0.40         3\n",
      "           3       0.38      0.75      0.50         4\n",
      "           4       0.00      0.00      0.00         0\n",
      "           5       0.00      0.00      0.00         2\n",
      "           7       0.00      0.00      0.00         4\n",
      "           8       0.00      0.00      0.00         1\n",
      "           9       0.86      1.00      0.92         6\n",
      "          11       0.67      0.67      0.67         3\n",
      "          14       0.00      0.00      0.00         1\n",
      "\n",
      "    accuracy                           0.46        26\n",
      "   macro avg       0.22      0.25      0.23        26\n",
      "weighted avg       0.39      0.46      0.41        26\n",
      "\n"
     ]
    },
    {
     "name": "stderr",
     "output_type": "stream",
     "text": [
      "/home/marco/anaconda3/lib/python3.8/site-packages/sklearn/metrics/_classification.py:1221: UndefinedMetricWarning: Precision and F-score are ill-defined and being set to 0.0 in labels with no predicted samples. Use `zero_division` parameter to control this behavior.\n",
      "  _warn_prf(average, modifier, msg_start, len(result))\n",
      "/home/marco/anaconda3/lib/python3.8/site-packages/sklearn/metrics/_classification.py:1221: UndefinedMetricWarning: Recall and F-score are ill-defined and being set to 0.0 in labels with no true samples. Use `zero_division` parameter to control this behavior.\n",
      "  _warn_prf(average, modifier, msg_start, len(result))\n"
     ]
    }
   ],
   "source": [
    "print(classification_report(Y_test, Y_pred))"
   ]
  },
  {
   "cell_type": "markdown",
   "metadata": {},
   "source": [
    "### 6.2 SVC"
   ]
  },
  {
   "cell_type": "code",
   "execution_count": 412,
   "metadata": {},
   "outputs": [],
   "source": [
    "from sklearn.svm import SVC"
   ]
  },
  {
   "cell_type": "code",
   "execution_count": 413,
   "metadata": {},
   "outputs": [
    {
     "data": {
      "text/plain": [
       "SVC(kernel='linear')"
      ]
     },
     "execution_count": 413,
     "metadata": {},
     "output_type": "execute_result"
    }
   ],
   "source": [
    "SVC_model = SVC(kernel = 'linear')\n",
    "SVC_model.fit(X_train, Y_train)"
   ]
  },
  {
   "cell_type": "code",
   "execution_count": 414,
   "metadata": {},
   "outputs": [],
   "source": [
    "models.append('SVC')"
   ]
  },
  {
   "cell_type": "code",
   "execution_count": 415,
   "metadata": {},
   "outputs": [
    {
     "name": "stdout",
     "output_type": "stream",
     "text": [
      "Accuracy: 46.154%\n"
     ]
    }
   ],
   "source": [
    "SVC_accuracy = SVC_model.score(X_test, Y_test)\n",
    "print(\"Accuracy: %.3f%%\" % (SVC_accuracy*100.0))"
   ]
  },
  {
   "cell_type": "code",
   "execution_count": 416,
   "metadata": {},
   "outputs": [],
   "source": [
    "accuracies.append(SVC_accuracy*100.0)"
   ]
  },
  {
   "cell_type": "code",
   "execution_count": 417,
   "metadata": {},
   "outputs": [],
   "source": [
    "Y_pred = SVC_model.predict(X_test)"
   ]
  },
  {
   "cell_type": "code",
   "execution_count": 418,
   "metadata": {},
   "outputs": [
    {
     "name": "stdout",
     "output_type": "stream",
     "text": [
      "              precision    recall  f1-score   support\n",
      "\n",
      "           0       0.00      0.00      0.00         1\n",
      "           1       0.00      0.00      0.00         1\n",
      "           2       0.67      0.67      0.67         3\n",
      "           3       0.40      0.50      0.44         4\n",
      "           4       0.00      0.00      0.00         0\n",
      "           5       0.00      0.00      0.00         2\n",
      "           7       0.50      0.25      0.33         4\n",
      "           8       0.00      0.00      0.00         1\n",
      "           9       0.56      0.83      0.67         6\n",
      "          11       0.50      0.67      0.57         3\n",
      "          14       0.00      0.00      0.00         1\n",
      "\n",
      "    accuracy                           0.46        26\n",
      "   macro avg       0.24      0.27      0.24        26\n",
      "weighted avg       0.40      0.46      0.42        26\n",
      "\n"
     ]
    },
    {
     "name": "stderr",
     "output_type": "stream",
     "text": [
      "/home/marco/anaconda3/lib/python3.8/site-packages/sklearn/metrics/_classification.py:1221: UndefinedMetricWarning: Precision and F-score are ill-defined and being set to 0.0 in labels with no predicted samples. Use `zero_division` parameter to control this behavior.\n",
      "  _warn_prf(average, modifier, msg_start, len(result))\n",
      "/home/marco/anaconda3/lib/python3.8/site-packages/sklearn/metrics/_classification.py:1221: UndefinedMetricWarning: Recall and F-score are ill-defined and being set to 0.0 in labels with no true samples. Use `zero_division` parameter to control this behavior.\n",
      "  _warn_prf(average, modifier, msg_start, len(result))\n"
     ]
    }
   ],
   "source": [
    "print(classification_report(Y_test, Y_pred))"
   ]
  },
  {
   "cell_type": "markdown",
   "metadata": {},
   "source": [
    "### 6.3 Naive Bayes"
   ]
  },
  {
   "cell_type": "code",
   "execution_count": 419,
   "metadata": {},
   "outputs": [],
   "source": [
    "from sklearn.naive_bayes import MultinomialNB"
   ]
  },
  {
   "cell_type": "code",
   "execution_count": 420,
   "metadata": {},
   "outputs": [
    {
     "data": {
      "text/plain": [
       "MultinomialNB()"
      ]
     },
     "execution_count": 420,
     "metadata": {},
     "output_type": "execute_result"
    }
   ],
   "source": [
    "MNB_model = MultinomialNB()\n",
    "MNB_model.fit(X_train, Y_train)"
   ]
  },
  {
   "cell_type": "code",
   "execution_count": 421,
   "metadata": {},
   "outputs": [],
   "source": [
    "models.append('MultinomialNB')"
   ]
  },
  {
   "cell_type": "code",
   "execution_count": 422,
   "metadata": {},
   "outputs": [
    {
     "name": "stdout",
     "output_type": "stream",
     "text": [
      "Accuracy: 50.000%\n"
     ]
    }
   ],
   "source": [
    "MNB_accuracy = MNB_model.score(X_test, Y_test)\n",
    "print(\"Accuracy: %.3f%%\" % (MNB_accuracy*100.0))"
   ]
  },
  {
   "cell_type": "code",
   "execution_count": 423,
   "metadata": {},
   "outputs": [],
   "source": [
    "accuracies.append(MNB_accuracy*100.0)"
   ]
  },
  {
   "cell_type": "code",
   "execution_count": 424,
   "metadata": {},
   "outputs": [],
   "source": [
    "from sklearn.naive_bayes import GaussianNB"
   ]
  },
  {
   "cell_type": "code",
   "execution_count": 425,
   "metadata": {},
   "outputs": [
    {
     "data": {
      "text/plain": [
       "GaussianNB(var_smoothing=1.057)"
      ]
     },
     "execution_count": 425,
     "metadata": {},
     "output_type": "execute_result"
    }
   ],
   "source": [
    "GNB_model = GaussianNB(var_smoothing = 1.057)\n",
    "GNB_model.fit(X_train, Y_train)"
   ]
  },
  {
   "cell_type": "code",
   "execution_count": 426,
   "metadata": {},
   "outputs": [],
   "source": [
    "models.append('GaussianNB')"
   ]
  },
  {
   "cell_type": "code",
   "execution_count": 427,
   "metadata": {},
   "outputs": [
    {
     "name": "stdout",
     "output_type": "stream",
     "text": [
      "Accuracy: 53.846%\n"
     ]
    }
   ],
   "source": [
    "GNB_accuracy = GNB_model.score(X_test, Y_test)\n",
    "print(\"Accuracy: %.3f%%\" % (GNB_accuracy*100.0))"
   ]
  },
  {
   "cell_type": "code",
   "execution_count": 428,
   "metadata": {},
   "outputs": [],
   "source": [
    "accuracies.append(GNB_accuracy*100.0)"
   ]
  },
  {
   "cell_type": "markdown",
   "metadata": {},
   "source": [
    "### 6.4 Logistic Regression"
   ]
  },
  {
   "cell_type": "code",
   "execution_count": 429,
   "metadata": {},
   "outputs": [],
   "source": [
    "from sklearn.linear_model import LogisticRegression"
   ]
  },
  {
   "cell_type": "code",
   "execution_count": 430,
   "metadata": {},
   "outputs": [
    {
     "data": {
      "text/plain": [
       "LogisticRegression(multi_class='ovr')"
      ]
     },
     "execution_count": 430,
     "metadata": {},
     "output_type": "execute_result"
    }
   ],
   "source": [
    "LR_model = LogisticRegression(multi_class = 'ovr')\n",
    "LR_model.fit(X_train, Y_train)"
   ]
  },
  {
   "cell_type": "code",
   "execution_count": 431,
   "metadata": {},
   "outputs": [],
   "source": [
    "models.append('LogisticRegression')"
   ]
  },
  {
   "cell_type": "code",
   "execution_count": 432,
   "metadata": {},
   "outputs": [
    {
     "name": "stdout",
     "output_type": "stream",
     "text": [
      "Accuracy: 46.154%\n"
     ]
    }
   ],
   "source": [
    "LR_accuracy = LR_model.score(X_test, Y_test)\n",
    "print(\"Accuracy: %.3f%%\" % (LR_accuracy*100.0))"
   ]
  },
  {
   "cell_type": "code",
   "execution_count": 433,
   "metadata": {},
   "outputs": [],
   "source": [
    "accuracies.append(LR_accuracy*100.0)"
   ]
  },
  {
   "cell_type": "markdown",
   "metadata": {},
   "source": [
    "### 6.5 One vs Rest Classifier"
   ]
  },
  {
   "cell_type": "code",
   "execution_count": 434,
   "metadata": {},
   "outputs": [],
   "source": [
    "from sklearn.multiclass import OneVsRestClassifier"
   ]
  },
  {
   "cell_type": "code",
   "execution_count": 435,
   "metadata": {},
   "outputs": [
    {
     "data": {
      "text/plain": [
       "OneVsRestClassifier(estimator=MultinomialNB())"
      ]
     },
     "execution_count": 435,
     "metadata": {},
     "output_type": "execute_result"
    }
   ],
   "source": [
    "OVR_model = OneVsRestClassifier(MultinomialNB())\n",
    "OVR_model.fit(X_train, Y_train)"
   ]
  },
  {
   "cell_type": "code",
   "execution_count": 436,
   "metadata": {},
   "outputs": [],
   "source": [
    "models.append('OneVsRestClassifier')"
   ]
  },
  {
   "cell_type": "code",
   "execution_count": 437,
   "metadata": {},
   "outputs": [
    {
     "name": "stdout",
     "output_type": "stream",
     "text": [
      "Accuracy: 50.000%\n"
     ]
    }
   ],
   "source": [
    "OVR_accuracy = OVR_model.score(X_test, Y_test)\n",
    "print(\"Accuracy: %.3f%%\" % (OVR_accuracy*100.0))"
   ]
  },
  {
   "cell_type": "code",
   "execution_count": 438,
   "metadata": {},
   "outputs": [],
   "source": [
    "accuracies.append(OVR_accuracy*100.0)"
   ]
  },
  {
   "cell_type": "markdown",
   "metadata": {},
   "source": [
    "### 6.6 Ridge Classifier"
   ]
  },
  {
   "cell_type": "code",
   "execution_count": 439,
   "metadata": {},
   "outputs": [],
   "source": [
    "from sklearn.linear_model import RidgeClassifier"
   ]
  },
  {
   "cell_type": "code",
   "execution_count": 440,
   "metadata": {},
   "outputs": [
    {
     "data": {
      "text/plain": [
       "RidgeClassifier()"
      ]
     },
     "execution_count": 440,
     "metadata": {},
     "output_type": "execute_result"
    }
   ],
   "source": [
    "R_model = RidgeClassifier()\n",
    "R_model.fit(X_train, Y_train)"
   ]
  },
  {
   "cell_type": "code",
   "execution_count": 441,
   "metadata": {},
   "outputs": [],
   "source": [
    "models.append('RidgeClassifier')"
   ]
  },
  {
   "cell_type": "code",
   "execution_count": 442,
   "metadata": {},
   "outputs": [
    {
     "name": "stdout",
     "output_type": "stream",
     "text": [
      "Accuracy: 46.154%\n"
     ]
    }
   ],
   "source": [
    "R_accuracy = R_model.score(X_test, Y_test)\n",
    "print(\"Accuracy: %.3f%%\" % (R_accuracy*100.0))"
   ]
  },
  {
   "cell_type": "code",
   "execution_count": 443,
   "metadata": {},
   "outputs": [],
   "source": [
    "accuracies.append(R_accuracy*100.0)"
   ]
  },
  {
   "cell_type": "markdown",
   "metadata": {},
   "source": [
    "### 6.7 Passive Aggressive Classifier"
   ]
  },
  {
   "cell_type": "code",
   "execution_count": 444,
   "metadata": {},
   "outputs": [],
   "source": [
    "from sklearn.linear_model import PassiveAggressiveClassifier"
   ]
  },
  {
   "cell_type": "code",
   "execution_count": 445,
   "metadata": {},
   "outputs": [
    {
     "data": {
      "text/plain": [
       "PassiveAggressiveClassifier(random_state=90)"
      ]
     },
     "execution_count": 445,
     "metadata": {},
     "output_type": "execute_result"
    }
   ],
   "source": [
    "PA_model = PassiveAggressiveClassifier(random_state = 90)\n",
    "PA_model.fit(X_train, Y_train)"
   ]
  },
  {
   "cell_type": "code",
   "execution_count": 446,
   "metadata": {},
   "outputs": [],
   "source": [
    "models.append('PassiveAggressiveClassifier')"
   ]
  },
  {
   "cell_type": "code",
   "execution_count": 447,
   "metadata": {},
   "outputs": [
    {
     "name": "stdout",
     "output_type": "stream",
     "text": [
      "Accuracy: 53.846%\n"
     ]
    }
   ],
   "source": [
    "PA_accuracy = PA_model.score(X_test, Y_test)\n",
    "print(\"Accuracy: %.3f%%\" % (PA_accuracy*100.0))"
   ]
  },
  {
   "cell_type": "code",
   "execution_count": 448,
   "metadata": {},
   "outputs": [],
   "source": [
    "accuracies.append(PA_accuracy*100.0)"
   ]
  },
  {
   "cell_type": "markdown",
   "metadata": {},
   "source": [
    "### 6.8 Bagging Classifier"
   ]
  },
  {
   "cell_type": "code",
   "execution_count": 449,
   "metadata": {},
   "outputs": [],
   "source": [
    "from sklearn.ensemble import BaggingClassifier"
   ]
  },
  {
   "cell_type": "code",
   "execution_count": 450,
   "metadata": {},
   "outputs": [
    {
     "data": {
      "text/plain": [
       "BaggingClassifier(n_estimators=99, random_state=4)"
      ]
     },
     "execution_count": 450,
     "metadata": {},
     "output_type": "execute_result"
    }
   ],
   "source": [
    "B_model = BaggingClassifier(random_state = 4, n_estimators = 99)\n",
    "B_model.fit(X_train, Y_train)"
   ]
  },
  {
   "cell_type": "code",
   "execution_count": 451,
   "metadata": {},
   "outputs": [],
   "source": [
    "models.append('BaggingClassifier')"
   ]
  },
  {
   "cell_type": "code",
   "execution_count": 452,
   "metadata": {},
   "outputs": [
    {
     "name": "stdout",
     "output_type": "stream",
     "text": [
      "Accuracy: 42.308%\n"
     ]
    }
   ],
   "source": [
    "B_accuracy = B_model.score(X_test, Y_test)\n",
    "print(\"Accuracy: %.3f%%\" % (B_accuracy*100.0))"
   ]
  },
  {
   "cell_type": "code",
   "execution_count": 453,
   "metadata": {},
   "outputs": [],
   "source": [
    "accuracies.append(B_accuracy*100.0)"
   ]
  },
  {
   "cell_type": "markdown",
   "metadata": {},
   "source": [
    "### 6.9 Gradient Boosting Classifier"
   ]
  },
  {
   "cell_type": "code",
   "execution_count": 454,
   "metadata": {},
   "outputs": [],
   "source": [
    "from sklearn.ensemble import GradientBoostingClassifier"
   ]
  },
  {
   "cell_type": "code",
   "execution_count": 455,
   "metadata": {},
   "outputs": [
    {
     "data": {
      "text/plain": [
       "GradientBoostingClassifier(learning_rate=0.021)"
      ]
     },
     "execution_count": 455,
     "metadata": {},
     "output_type": "execute_result"
    }
   ],
   "source": [
    "GB_model = GradientBoostingClassifier(learning_rate = 0.021)\n",
    "GB_model.fit(X_train, Y_train)"
   ]
  },
  {
   "cell_type": "code",
   "execution_count": 456,
   "metadata": {},
   "outputs": [],
   "source": [
    "models.append('GradientBoostingClassifier')"
   ]
  },
  {
   "cell_type": "code",
   "execution_count": 457,
   "metadata": {},
   "outputs": [
    {
     "name": "stdout",
     "output_type": "stream",
     "text": [
      "Accuracy: 42.308%\n"
     ]
    }
   ],
   "source": [
    "GB_accuracy = GB_model.score(X_test, Y_test)\n",
    "print(\"Accuracy: %.3f%%\" % (GB_accuracy*100.0))"
   ]
  },
  {
   "cell_type": "code",
   "execution_count": 458,
   "metadata": {},
   "outputs": [],
   "source": [
    "accuracies.append(GB_accuracy*100.0)"
   ]
  },
  {
   "cell_type": "markdown",
   "metadata": {},
   "source": [
    "### 6.10 AdaBoost Classifier"
   ]
  },
  {
   "cell_type": "code",
   "execution_count": 459,
   "metadata": {},
   "outputs": [],
   "source": [
    "from sklearn.ensemble import AdaBoostClassifier"
   ]
  },
  {
   "cell_type": "code",
   "execution_count": 460,
   "metadata": {},
   "outputs": [
    {
     "data": {
      "text/plain": [
       "AdaBoostClassifier(learning_rate=0.19, random_state=24)"
      ]
     },
     "execution_count": 460,
     "metadata": {},
     "output_type": "execute_result"
    }
   ],
   "source": [
    "A_model = AdaBoostClassifier(random_state = 24, learning_rate = 0.190)\n",
    "A_model.fit(X_train, Y_train)"
   ]
  },
  {
   "cell_type": "code",
   "execution_count": 461,
   "metadata": {},
   "outputs": [],
   "source": [
    "models.append('AdaBoostClassifier')"
   ]
  },
  {
   "cell_type": "code",
   "execution_count": 462,
   "metadata": {},
   "outputs": [
    {
     "name": "stdout",
     "output_type": "stream",
     "text": [
      "Accuracy: 42.308%\n"
     ]
    }
   ],
   "source": [
    "A_accuracy = A_model.score(X_test, Y_test)\n",
    "print(\"Accuracy: %.3f%%\" % (A_accuracy*100.0))"
   ]
  },
  {
   "cell_type": "code",
   "execution_count": 463,
   "metadata": {},
   "outputs": [],
   "source": [
    "accuracies.append(A_accuracy*100.0)"
   ]
  },
  {
   "cell_type": "markdown",
   "metadata": {},
   "source": [
    "## 7. Summary"
   ]
  },
  {
   "cell_type": "markdown",
   "metadata": {},
   "source": [
    "Let's have a look to all the models we have trained so far and the try to make our conclusions."
   ]
  },
  {
   "cell_type": "code",
   "execution_count": 464,
   "metadata": {},
   "outputs": [
    {
     "name": "stdout",
     "output_type": "stream",
     "text": [
      "Model: RandomForestClassifier\n",
      "Accuracy: 42.308%\n",
      "\n",
      "Model: RandomizedSearchCV\n",
      "Accuracy: 30.769%\n",
      "\n",
      "Model: GridSearchCV\n",
      "Accuracy: 38.462%\n",
      "\n",
      "Model: KNN\n",
      "Accuracy: 46.154%\n",
      "\n",
      "Model: SVC\n",
      "Accuracy: 46.154%\n",
      "\n",
      "Model: MultinomialNB\n",
      "Accuracy: 50.000%\n",
      "\n",
      "Model: GaussianNB\n",
      "Accuracy: 53.846%\n",
      "\n",
      "Model: LogisticRegression\n",
      "Accuracy: 46.154%\n",
      "\n",
      "Model: OneVsRestClassifier\n",
      "Accuracy: 50.000%\n",
      "\n",
      "Model: RidgeClassifier\n",
      "Accuracy: 46.154%\n",
      "\n",
      "Model: PassiveAggressiveClassifier\n",
      "Accuracy: 53.846%\n",
      "\n",
      "Model: BaggingClassifier\n",
      "Accuracy: 42.308%\n",
      "\n",
      "Model: GradientBoostingClassifier\n",
      "Accuracy: 42.308%\n",
      "\n"
     ]
    }
   ],
   "source": [
    "for i in range(0, 13):\n",
    "    print(\"Model: \" + models[i] + '\\n' + \"Accuracy: %.3f%%\" % accuracies[i] + '\\n')"
   ]
  },
  {
   "cell_type": "markdown",
   "metadata": {},
   "source": [
    "It is clear now that whichever model we are considering we cannot gain such a great accuracy. All we have to do is to work on our data."
   ]
  },
  {
   "cell_type": "markdown",
   "metadata": {},
   "source": [
    "## 8. Feature scaling"
   ]
  },
  {
   "cell_type": "markdown",
   "metadata": {},
   "source": [
    "Maybe we have understimated the power of feature scaling, just give it a try."
   ]
  },
  {
   "cell_type": "code",
   "execution_count": 465,
   "metadata": {},
   "outputs": [],
   "source": [
    "from sklearn.preprocessing import StandardScaler, scale"
   ]
  },
  {
   "cell_type": "code",
   "execution_count": 466,
   "metadata": {},
   "outputs": [
    {
     "data": {
      "text/plain": [
       "array([[-0.43792787, -0.10783277,  1.4327008 , ..., -0.21952852,\n",
       "        -0.27216553, -0.38044296],\n",
       "       [-0.43792787, -0.10783277, -0.69798244, ..., -0.21952852,\n",
       "        -0.27216553, -0.38044296],\n",
       "       [-0.43792787, -0.10783277, -0.69798244, ..., -0.21952852,\n",
       "        -0.27216553, -0.38044296],\n",
       "       ...,\n",
       "       [-0.43792787, -0.10783277, -0.69798244, ..., -0.21952852,\n",
       "        -0.27216553, -0.38044296],\n",
       "       [ 2.28348105, -0.10783277,  1.4327008 , ..., -0.21952852,\n",
       "        -0.27216553,  2.62851496],\n",
       "       [-0.43792787, -0.10783277, -0.69798244, ..., -0.21952852,\n",
       "        -0.27216553,  2.62851496]])"
      ]
     },
     "execution_count": 466,
     "metadata": {},
     "output_type": "execute_result"
    }
   ],
   "source": [
    "X_train_scal = scale(X_train)\n",
    "X_train_scal"
   ]
  },
  {
   "cell_type": "code",
   "execution_count": 467,
   "metadata": {},
   "outputs": [],
   "source": [
    "scaler = StandardScaler().fit(X_train)"
   ]
  },
  {
   "cell_type": "code",
   "execution_count": 468,
   "metadata": {},
   "outputs": [
    {
     "data": {
      "text/plain": [
       "array([[ 2.28348105, -0.10783277, -0.69798244, -0.74228325, -1.04708431,\n",
       "         1.04708431, -0.79130792, -0.35011519,  0.98857105, -0.10783277,\n",
       "        -0.30714756, -0.07602859, -0.10783277, -0.13245324, -0.29580399,\n",
       "        -0.17200523, -0.38044296, -0.20473438, -0.20473438, -0.35011519,\n",
       "        -0.29580399, -0.31822291, -0.13245324, -0.10783277,  4.55521679,\n",
       "        -0.27216553, -0.38044296],\n",
       "       [-0.43792787, -0.10783277, -0.69798244,  0.97981389, -1.04708431,\n",
       "         1.04708431,  1.26373056, -0.35011519, -1.01156108, -0.10783277,\n",
       "        -0.30714756, -0.07602859, -0.10783277, -0.13245324, -0.29580399,\n",
       "        -0.17200523, -0.38044296, -0.20473438, -0.20473438, -0.35011519,\n",
       "         3.38061702, -0.31822291, -0.13245324, -0.10783277, -0.21952852,\n",
       "        -0.27216553, -0.38044296],\n",
       "       [-0.43792787, -0.10783277, -0.69798244, -0.74228325, -1.04708431,\n",
       "         1.04708431, -0.79130792, -0.35011519,  0.98857105, -0.10783277,\n",
       "        -0.30714756, -0.07602859, -0.10783277, -0.13245324, -0.29580399,\n",
       "        -0.17200523, -0.38044296, -0.20473438, -0.20473438, -0.35011519,\n",
       "        -0.29580399,  3.14245127, -0.13245324, -0.10783277, -0.21952852,\n",
       "        -0.27216553, -0.38044296],\n",
       "       [ 2.28348105, -0.10783277,  1.4327008 , -0.74228325,  0.95503294,\n",
       "        -0.95503294, -0.79130792, -0.35011519,  0.98857105, -0.10783277,\n",
       "        -0.30714756, -0.07602859, -0.10783277, -0.13245324, -0.29580399,\n",
       "         5.81377674, -0.38044296, -0.20473438, -0.20473438, -0.35011519,\n",
       "        -0.29580399, -0.31822291, -0.13245324, -0.10783277, -0.21952852,\n",
       "        -0.27216553, -0.38044296],\n",
       "       [-0.43792787, -0.10783277, -0.69798244,  0.97981389,  0.95503294,\n",
       "        -0.95503294,  1.26373056, -0.35011519, -1.01156108, -0.10783277,\n",
       "        -0.30714756, -0.07602859, -0.10783277, -0.13245324, -0.29580399,\n",
       "        -0.17200523, -0.38044296,  4.88437743, -0.20473438, -0.35011519,\n",
       "        -0.29580399, -0.31822291, -0.13245324, -0.10783277, -0.21952852,\n",
       "        -0.27216553, -0.38044296],\n",
       "       [-0.43792787, -0.10783277, -0.69798244, -0.74228325, -1.04708431,\n",
       "         1.04708431, -0.79130792, -0.35011519,  0.98857105, -0.10783277,\n",
       "        -0.30714756, -0.07602859, -0.10783277, -0.13245324, -0.29580399,\n",
       "        -0.17200523, -0.38044296, -0.20473438, -0.20473438,  2.85620285,\n",
       "        -0.29580399, -0.31822291, -0.13245324, -0.10783277, -0.21952852,\n",
       "        -0.27216553, -0.38044296],\n",
       "       [-0.43792787, -0.10783277, -0.69798244, -0.74228325, -1.04708431,\n",
       "         1.04708431,  1.26373056, -0.35011519, -1.01156108, -0.10783277,\n",
       "         3.25576412, -0.07602859, -0.10783277, -0.13245324, -0.29580399,\n",
       "        -0.17200523, -0.38044296, -0.20473438, -0.20473438, -0.35011519,\n",
       "        -0.29580399, -0.31822291, -0.13245324, -0.10783277, -0.21952852,\n",
       "        -0.27216553, -0.38044296],\n",
       "       [-0.43792787, -0.10783277, -0.69798244, -0.74228325, -1.04708431,\n",
       "         1.04708431, -0.79130792, -0.35011519,  0.98857105, -0.10783277,\n",
       "        -0.30714756, -0.07602859, -0.10783277, -0.13245324, -0.29580399,\n",
       "        -0.17200523, -0.38044296, -0.20473438, -0.20473438, -0.35011519,\n",
       "        -0.29580399, -0.31822291, -0.13245324, -0.10783277, -0.21952852,\n",
       "        -0.27216553,  2.62851496],\n",
       "       [-0.43792787, -0.10783277,  1.4327008 ,  0.97981389,  0.95503294,\n",
       "        -0.95503294,  1.26373056, -0.35011519, -1.01156108, -0.10783277,\n",
       "        -0.30714756, -0.07602859, -0.10783277, -0.13245324, -0.29580399,\n",
       "        -0.17200523, -0.38044296, -0.20473438, -0.20473438, -0.35011519,\n",
       "         3.38061702, -0.31822291, -0.13245324, -0.10783277, -0.21952852,\n",
       "        -0.27216553, -0.38044296],\n",
       "       [-0.43792787, -0.10783277, -0.69798244, -0.74228325, -1.04708431,\n",
       "         1.04708431, -0.79130792, -0.35011519,  0.98857105, -0.10783277,\n",
       "        -0.30714756, -0.07602859, -0.10783277,  7.54983444, -0.29580399,\n",
       "        -0.17200523, -0.38044296, -0.20473438, -0.20473438, -0.35011519,\n",
       "        -0.29580399, -0.31822291, -0.13245324, -0.10783277, -0.21952852,\n",
       "        -0.27216553, -0.38044296],\n",
       "       [ 2.28348105, -0.10783277,  1.4327008 ,  0.97981389,  0.95503294,\n",
       "        -0.95503294, -0.79130792, -0.35011519,  0.98857105, -0.10783277,\n",
       "         3.25576412, -0.07602859, -0.10783277, -0.13245324, -0.29580399,\n",
       "        -0.17200523, -0.38044296, -0.20473438, -0.20473438, -0.35011519,\n",
       "        -0.29580399, -0.31822291, -0.13245324, -0.10783277, -0.21952852,\n",
       "        -0.27216553, -0.38044296],\n",
       "       [-0.43792787, -0.10783277, -0.69798244,  0.97981389, -1.04708431,\n",
       "         1.04708431, -0.79130792, -0.35011519,  0.98857105, -0.10783277,\n",
       "        -0.30714756, -0.07602859, -0.10783277, -0.13245324, -0.29580399,\n",
       "        -0.17200523, -0.38044296, -0.20473438, -0.20473438, -0.35011519,\n",
       "        -0.29580399, -0.31822291, -0.13245324, -0.10783277, -0.21952852,\n",
       "         3.67423461, -0.38044296],\n",
       "       [ 2.28348105, -0.10783277, -0.69798244,  0.97981389, -1.04708431,\n",
       "         1.04708431, -0.79130792, -0.35011519,  0.98857105, -0.10783277,\n",
       "        -0.30714756, -0.07602859, -0.10783277, -0.13245324, -0.29580399,\n",
       "        -0.17200523, -0.38044296, -0.20473438, -0.20473438, -0.35011519,\n",
       "        -0.29580399, -0.31822291, -0.13245324, -0.10783277,  4.55521679,\n",
       "        -0.27216553, -0.38044296],\n",
       "       [ 5.00488998,  9.2736185 , -0.69798244,  4.42400818, -1.04708431,\n",
       "         1.04708431, -0.79130792,  2.85620285, -1.01156108, -0.10783277,\n",
       "         3.25576412, -0.07602859, -0.10783277, -0.13245324, -0.29580399,\n",
       "        -0.17200523, -0.38044296, -0.20473438, -0.20473438, -0.35011519,\n",
       "        -0.29580399, -0.31822291, -0.13245324, -0.10783277, -0.21952852,\n",
       "        -0.27216553, -0.38044296],\n",
       "       [-0.43792787, -0.10783277, -0.69798244, -0.74228325,  0.95503294,\n",
       "        -0.95503294, -0.79130792, -0.35011519,  0.98857105, -0.10783277,\n",
       "         3.25576412, -0.07602859, -0.10783277, -0.13245324, -0.29580399,\n",
       "        -0.17200523, -0.38044296, -0.20473438, -0.20473438, -0.35011519,\n",
       "        -0.29580399, -0.31822291, -0.13245324, -0.10783277, -0.21952852,\n",
       "        -0.27216553, -0.38044296],\n",
       "       [-0.43792787, -0.10783277, -0.69798244, -0.74228325, -1.04708431,\n",
       "         1.04708431, -0.79130792, -0.35011519,  0.98857105, -0.10783277,\n",
       "        -0.30714756, -0.07602859, -0.10783277, -0.13245324, -0.29580399,\n",
       "        -0.17200523,  2.62851496, -0.20473438, -0.20473438, -0.35011519,\n",
       "        -0.29580399, -0.31822291, -0.13245324, -0.10783277, -0.21952852,\n",
       "        -0.27216553, -0.38044296],\n",
       "       [-0.43792787, -0.10783277,  1.4327008 ,  0.97981389,  0.95503294,\n",
       "        -0.95503294, -0.79130792, -0.35011519,  0.98857105, -0.10783277,\n",
       "        -0.30714756, -0.07602859, -0.10783277, -0.13245324, -0.29580399,\n",
       "        -0.17200523, -0.38044296, -0.20473438,  4.88437743, -0.35011519,\n",
       "        -0.29580399, -0.31822291, -0.13245324, -0.10783277, -0.21952852,\n",
       "        -0.27216553, -0.38044296],\n",
       "       [-0.43792787, -0.10783277, -0.69798244,  0.97981389,  0.95503294,\n",
       "        -0.95503294, -0.79130792, -0.35011519,  0.98857105, -0.10783277,\n",
       "         3.25576412, -0.07602859, -0.10783277, -0.13245324, -0.29580399,\n",
       "        -0.17200523, -0.38044296, -0.20473438, -0.20473438, -0.35011519,\n",
       "        -0.29580399, -0.31822291, -0.13245324, -0.10783277, -0.21952852,\n",
       "        -0.27216553, -0.38044296],\n",
       "       [-0.43792787, -0.10783277,  1.4327008 ,  0.97981389, -1.04708431,\n",
       "         1.04708431, -0.79130792, -0.35011519,  0.98857105, -0.10783277,\n",
       "        -0.30714756, -0.07602859, -0.10783277, -0.13245324, -0.29580399,\n",
       "        -0.17200523, -0.38044296, -0.20473438, -0.20473438, -0.35011519,\n",
       "        -0.29580399, -0.31822291, -0.13245324, -0.10783277, -0.21952852,\n",
       "        -0.27216553,  2.62851496],\n",
       "       [-0.43792787, -0.10783277, -0.69798244, -0.74228325, -1.04708431,\n",
       "         1.04708431, -0.79130792, -0.35011519,  0.98857105, -0.10783277,\n",
       "        -0.30714756, -0.07602859, -0.10783277, -0.13245324, -0.29580399,\n",
       "        -0.17200523, -0.38044296, -0.20473438, -0.20473438, -0.35011519,\n",
       "        -0.29580399, -0.31822291, -0.13245324, -0.10783277, -0.21952852,\n",
       "        -0.27216553,  2.62851496],\n",
       "       [-0.43792787, -0.10783277, -0.69798244, -0.74228325,  0.95503294,\n",
       "        -0.95503294, -0.79130792, -0.35011519,  0.98857105, -0.10783277,\n",
       "        -0.30714756, -0.07602859, -0.10783277, -0.13245324, -0.29580399,\n",
       "        -0.17200523, -0.38044296, -0.20473438, -0.20473438, -0.35011519,\n",
       "         3.38061702, -0.31822291, -0.13245324, -0.10783277, -0.21952852,\n",
       "        -0.27216553, -0.38044296],\n",
       "       [-0.43792787, -0.10783277, -0.69798244, -0.74228325, -1.04708431,\n",
       "         1.04708431,  1.26373056, -0.35011519, -1.01156108, -0.10783277,\n",
       "        -0.30714756, -0.07602859, -0.10783277, -0.13245324, -0.29580399,\n",
       "        -0.17200523, -0.38044296, -0.20473438, -0.20473438, -0.35011519,\n",
       "        -0.29580399, -0.31822291, -0.13245324, -0.10783277, -0.21952852,\n",
       "         3.67423461, -0.38044296],\n",
       "       [-0.43792787, -0.10783277, -0.69798244, -0.74228325, -1.04708431,\n",
       "         1.04708431,  1.26373056, -0.35011519, -1.01156108, -0.10783277,\n",
       "        -0.30714756, -0.07602859, -0.10783277, -0.13245324, -0.29580399,\n",
       "        -0.17200523, -0.38044296, -0.20473438, -0.20473438, -0.35011519,\n",
       "        -0.29580399, -0.31822291, -0.13245324, -0.10783277,  4.55521679,\n",
       "        -0.27216553, -0.38044296],\n",
       "       [-0.43792787, -0.10783277, -0.69798244, -0.74228325,  0.95503294,\n",
       "        -0.95503294, -0.79130792, -0.35011519,  0.98857105, -0.10783277,\n",
       "        -0.30714756, -0.07602859, -0.10783277, -0.13245324, -0.29580399,\n",
       "        -0.17200523, -0.38044296, -0.20473438, -0.20473438, -0.35011519,\n",
       "        -0.29580399, -0.31822291, -0.13245324, -0.10783277,  4.55521679,\n",
       "        -0.27216553, -0.38044296],\n",
       "       [ 2.28348105, -0.10783277,  1.4327008 , -0.74228325, -1.04708431,\n",
       "         1.04708431, -0.79130792,  2.85620285, -1.01156108, -0.10783277,\n",
       "        -0.30714756, -0.07602859, -0.10783277, -0.13245324, -0.29580399,\n",
       "        -0.17200523, -0.38044296, -0.20473438,  4.88437743, -0.35011519,\n",
       "        -0.29580399, -0.31822291, -0.13245324, -0.10783277, -0.21952852,\n",
       "        -0.27216553, -0.38044296],\n",
       "       [-0.43792787, -0.10783277, -0.69798244, -0.74228325, -1.04708431,\n",
       "         1.04708431,  1.26373056, -0.35011519, -1.01156108, -0.10783277,\n",
       "        -0.30714756, -0.07602859, -0.10783277, -0.13245324,  3.38061702,\n",
       "        -0.17200523, -0.38044296, -0.20473438, -0.20473438, -0.35011519,\n",
       "        -0.29580399, -0.31822291, -0.13245324, -0.10783277, -0.21952852,\n",
       "        -0.27216553, -0.38044296]])"
      ]
     },
     "execution_count": 468,
     "metadata": {},
     "output_type": "execute_result"
    }
   ],
   "source": [
    "X_test_scal = scaler.transform(X_test)\n",
    "X_test_scal"
   ]
  },
  {
   "cell_type": "markdown",
   "metadata": {},
   "source": [
    "Let's prepare few new models to train with both unscaled and scaled features."
   ]
  },
  {
   "cell_type": "code",
   "execution_count": 469,
   "metadata": {},
   "outputs": [],
   "source": [
    "KNN_m = KNeighborsClassifier()\n",
    "SVC_m = SVC(kernel = 'linear')\n",
    "GNB_m = GaussianNB()\n",
    "LR_m = LogisticRegression()\n",
    "R_m = RidgeClassifier()\n",
    "PA_m = PassiveAggressiveClassifier()\n",
    "B_m = BaggingClassifier()\n",
    "GB_m = GradientBoostingClassifier()\n",
    "A_m = AdaBoostClassifier()"
   ]
  },
  {
   "cell_type": "code",
   "execution_count": 470,
   "metadata": {},
   "outputs": [
    {
     "data": {
      "text/plain": [
       "[KNeighborsClassifier(),\n",
       " SVC(kernel='linear'),\n",
       " GaussianNB(),\n",
       " LogisticRegression(),\n",
       " RidgeClassifier(),\n",
       " PassiveAggressiveClassifier(),\n",
       " BaggingClassifier(),\n",
       " GradientBoostingClassifier(),\n",
       " AdaBoostClassifier()]"
      ]
     },
     "execution_count": 470,
     "metadata": {},
     "output_type": "execute_result"
    }
   ],
   "source": [
    "scal_models = [KNN_m, SVC_m, GNB_m, LR_m, R_m, PA_m, B_m, GB_m, A_m]\n",
    "scal_models"
   ]
  },
  {
   "cell_type": "code",
   "execution_count": 471,
   "metadata": {},
   "outputs": [
    {
     "name": "stdout",
     "output_type": "stream",
     "text": [
      "Model: KNeighborsClassifier()\n",
      "Accuracy: 42.308%\n",
      "Accuracy scaled: 26.923%\n",
      "\n",
      "Model: SVC(kernel='linear')\n",
      "Accuracy: 46.154%\n",
      "Accuracy scaled: 38.462%\n",
      "\n",
      "Model: GaussianNB()\n",
      "Accuracy: 7.692%\n",
      "Accuracy scaled: 7.692%\n",
      "\n",
      "Model: LogisticRegression()\n",
      "Accuracy: 42.308%\n",
      "Accuracy scaled: 38.462%\n",
      "\n",
      "Model: RidgeClassifier()\n",
      "Accuracy: 46.154%\n",
      "Accuracy scaled: 42.308%\n",
      "\n",
      "Model: PassiveAggressiveClassifier()\n",
      "Accuracy: 23.077%\n",
      "Accuracy scaled: 7.692%\n",
      "\n",
      "Model: BaggingClassifier()\n",
      "Accuracy: 30.769%\n",
      "Accuracy scaled: 26.923%\n",
      "\n",
      "Model: GradientBoostingClassifier()\n",
      "Accuracy: 26.923%\n",
      "Accuracy scaled: 19.231%\n",
      "\n",
      "Model: AdaBoostClassifier()\n",
      "Accuracy: 26.923%\n",
      "Accuracy scaled: 23.077%\n",
      "\n"
     ]
    }
   ],
   "source": [
    "accuracies_not_scaled = []\n",
    "accuracies_sacaled = []\n",
    "\n",
    "for model in scal_models:\n",
    "    model.fit(X_train, Y_train)\n",
    "    accuracy = model.score(X_test, Y_test)\n",
    "    accuracies_not_scaled.append(accuracy)\n",
    "    model.fit(X_train_scal, Y_train)\n",
    "    accuracy_scal = model.score(X_test_scal, Y_test)\n",
    "    accuracies_scaled.append(accuracy_scal)\n",
    "    print(\"Model: \" + str(model) + '\\n' + \"Accuracy: %.3f%%\" % (accuracy*100.0) + '\\n' +\n",
    "          \"Accuracy scaled: %.3f%%\" % (accuracy_scal*100.0) + '\\n')"
   ]
  },
  {
   "cell_type": "markdown",
   "metadata": {},
   "source": [
    "As we can see algos with scaled features perform even worse in this case. There is not very much left to do, apart from increasing our dataset."
   ]
  }
 ],
 "metadata": {
  "kernelspec": {
   "display_name": "Python 3",
   "language": "python",
   "name": "python3"
  },
  "language_info": {
   "codemirror_mode": {
    "name": "ipython",
    "version": 3
   },
   "file_extension": ".py",
   "mimetype": "text/x-python",
   "name": "python",
   "nbconvert_exporter": "python",
   "pygments_lexer": "ipython3",
   "version": "3.8.3"
  }
 },
 "nbformat": 4,
 "nbformat_minor": 4
}
