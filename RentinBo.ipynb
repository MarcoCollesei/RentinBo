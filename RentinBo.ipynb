{
 "cells": [
  {
   "cell_type": "code",
   "execution_count": 1,
   "metadata": {},
   "outputs": [],
   "source": [
    "import pandas as pd"
   ]
  },
  {
   "cell_type": "code",
   "execution_count": 56,
   "metadata": {},
   "outputs": [],
   "source": [
    "dataset = pd.read_csv('ready_dataset.csv')"
   ]
  },
  {
   "cell_type": "code",
   "execution_count": 61,
   "metadata": {},
   "outputs": [
    {
     "data": {
      "text/html": [
       "<div>\n",
       "<style scoped>\n",
       "    .dataframe tbody tr th:only-of-type {\n",
       "        vertical-align: middle;\n",
       "    }\n",
       "\n",
       "    .dataframe tbody tr th {\n",
       "        vertical-align: top;\n",
       "    }\n",
       "\n",
       "    .dataframe thead th {\n",
       "        text-align: right;\n",
       "    }\n",
       "</style>\n",
       "<table border=\"1\" class=\"dataframe\">\n",
       "  <thead>\n",
       "    <tr style=\"text-align: right;\">\n",
       "      <th></th>\n",
       "      <th>tipologia</th>\n",
       "      <th>genere</th>\n",
       "      <th>zona</th>\n",
       "      <th>bagno</th>\n",
       "      <th>cucina</th>\n",
       "      <th>salotto</th>\n",
       "      <th>balcone</th>\n",
       "      <th>range euro</th>\n",
       "    </tr>\n",
       "  </thead>\n",
       "  <tbody>\n",
       "    <tr>\n",
       "      <th>0</th>\n",
       "      <td>doppia</td>\n",
       "      <td>M/F</td>\n",
       "      <td>Bolognina</td>\n",
       "      <td>1</td>\n",
       "      <td>1</td>\n",
       "      <td>0</td>\n",
       "      <td>0</td>\n",
       "      <td>225-250</td>\n",
       "    </tr>\n",
       "    <tr>\n",
       "      <th>1</th>\n",
       "      <td>doppia</td>\n",
       "      <td>F</td>\n",
       "      <td>Galvani</td>\n",
       "      <td>1</td>\n",
       "      <td>1</td>\n",
       "      <td>0</td>\n",
       "      <td>0</td>\n",
       "      <td>300-325</td>\n",
       "    </tr>\n",
       "    <tr>\n",
       "      <th>2</th>\n",
       "      <td>singola</td>\n",
       "      <td>M/F</td>\n",
       "      <td>Bolognina</td>\n",
       "      <td>2</td>\n",
       "      <td>1</td>\n",
       "      <td>0</td>\n",
       "      <td>1</td>\n",
       "      <td>350-375</td>\n",
       "    </tr>\n",
       "    <tr>\n",
       "      <th>3</th>\n",
       "      <td>doppia</td>\n",
       "      <td>M</td>\n",
       "      <td>Mazzini</td>\n",
       "      <td>1</td>\n",
       "      <td>1</td>\n",
       "      <td>1</td>\n",
       "      <td>1</td>\n",
       "      <td>275-300</td>\n",
       "    </tr>\n",
       "    <tr>\n",
       "      <th>4</th>\n",
       "      <td>singola</td>\n",
       "      <td>M</td>\n",
       "      <td>San Donato</td>\n",
       "      <td>1</td>\n",
       "      <td>1</td>\n",
       "      <td>0</td>\n",
       "      <td>1</td>\n",
       "      <td>350-375</td>\n",
       "    </tr>\n",
       "    <tr>\n",
       "      <th>...</th>\n",
       "      <td>...</td>\n",
       "      <td>...</td>\n",
       "      <td>...</td>\n",
       "      <td>...</td>\n",
       "      <td>...</td>\n",
       "      <td>...</td>\n",
       "      <td>...</td>\n",
       "      <td>...</td>\n",
       "    </tr>\n",
       "    <tr>\n",
       "      <th>195</th>\n",
       "      <td>singola</td>\n",
       "      <td>M/F</td>\n",
       "      <td>San Donato</td>\n",
       "      <td>1</td>\n",
       "      <td>1</td>\n",
       "      <td>1</td>\n",
       "      <td>0</td>\n",
       "      <td>450-475</td>\n",
       "    </tr>\n",
       "    <tr>\n",
       "      <th>196</th>\n",
       "      <td>doppia</td>\n",
       "      <td>F</td>\n",
       "      <td>San Donato</td>\n",
       "      <td>1</td>\n",
       "      <td>1</td>\n",
       "      <td>0</td>\n",
       "      <td>1</td>\n",
       "      <td>200-225</td>\n",
       "    </tr>\n",
       "    <tr>\n",
       "      <th>197</th>\n",
       "      <td>doppia</td>\n",
       "      <td>F</td>\n",
       "      <td>Saffi</td>\n",
       "      <td>1</td>\n",
       "      <td>1</td>\n",
       "      <td>1</td>\n",
       "      <td>0</td>\n",
       "      <td>225-250</td>\n",
       "    </tr>\n",
       "    <tr>\n",
       "      <th>198</th>\n",
       "      <td>doppia</td>\n",
       "      <td>F</td>\n",
       "      <td>Mazzini</td>\n",
       "      <td>1</td>\n",
       "      <td>1</td>\n",
       "      <td>1</td>\n",
       "      <td>0</td>\n",
       "      <td>250-275</td>\n",
       "    </tr>\n",
       "    <tr>\n",
       "      <th>199</th>\n",
       "      <td>singola</td>\n",
       "      <td>F</td>\n",
       "      <td>Irnerio</td>\n",
       "      <td>1</td>\n",
       "      <td>1</td>\n",
       "      <td>0</td>\n",
       "      <td>0</td>\n",
       "      <td>450-475</td>\n",
       "    </tr>\n",
       "  </tbody>\n",
       "</table>\n",
       "<p>200 rows × 8 columns</p>\n",
       "</div>"
      ],
      "text/plain": [
       "    tipologia genere        zona  bagno  cucina  salotto  balcone range euro\n",
       "0      doppia    M/F   Bolognina      1       1        0        0    225-250\n",
       "1      doppia      F     Galvani      1       1        0        0    300-325\n",
       "2     singola    M/F   Bolognina      2       1        0        1    350-375\n",
       "3      doppia      M     Mazzini      1       1        1        1    275-300\n",
       "4     singola      M  San Donato      1       1        0        1    350-375\n",
       "..        ...    ...         ...    ...     ...      ...      ...        ...\n",
       "195   singola    M/F  San Donato      1       1        1        0    450-475\n",
       "196    doppia      F  San Donato      1       1        0        1    200-225\n",
       "197    doppia      F       Saffi      1       1        1        0    225-250\n",
       "198    doppia      F     Mazzini      1       1        1        0    250-275\n",
       "199   singola      F     Irnerio      1       1        0        0    450-475\n",
       "\n",
       "[200 rows x 8 columns]"
      ]
     },
     "execution_count": 61,
     "metadata": {},
     "output_type": "execute_result"
    }
   ],
   "source": [
    "dataset.drop(columns = 'Unnamed: 0')"
   ]
  },
  {
   "cell_type": "code",
   "execution_count": 74,
   "metadata": {},
   "outputs": [
    {
     "data": {
      "text/plain": [
       "array([[0, 'doppia', 'M/F', ..., 1, 0, 0],\n",
       "       [1, 'doppia', 'F', ..., 1, 0, 0],\n",
       "       [2, 'singola', 'M/F', ..., 1, 0, 1],\n",
       "       ...,\n",
       "       [197, 'doppia', 'F', ..., 1, 1, 0],\n",
       "       [198, 'doppia', 'F', ..., 1, 1, 0],\n",
       "       [199, 'singola', 'F', ..., 1, 0, 0]], dtype=object)"
      ]
     },
     "execution_count": 74,
     "metadata": {},
     "output_type": "execute_result"
    }
   ],
   "source": [
    "array = dataset.values\n",
    "X = array[:,0:8]\n",
    "X"
   ]
  },
  {
   "cell_type": "code",
   "execution_count": 98,
   "metadata": {},
   "outputs": [
    {
     "data": {
      "text/plain": [
       "array(['225-250', '300-325', '350-375', '275-300', '350-375', '400-425',\n",
       "       '250-275', '450-475', '325-350', '400-425', '275-300', '275-300',\n",
       "       '325-350', '425-450', '350-375', '350-375', '550-575', '300-325',\n",
       "       '250-275', '450-475', '250-275', '225-250', '300-325', '450-475',\n",
       "       '225-250', '400-425', '350-375', '225-250', '450-475', '300-325',\n",
       "       '250-275', '400-425', '375-400', '400-425', '325-350', '200-225',\n",
       "       '325-350', '350-375', '250-275', '250-275', '300-325', '200-225',\n",
       "       '325-350', '250-275', '500-525', '225-250', '350-375', '200-225',\n",
       "       '450-475', '325-350', '400-425', '225-250', '425-450', '225-250',\n",
       "       '350-375', '400-425', '425-450', '300-325', '275-300', '275-300',\n",
       "       '350-375', '500-525', '450-475', '225-250', '325-350', '300-325',\n",
       "       '350-375', '400-425', '350-375', '275-300', '350-375', '200-225',\n",
       "       '250-275', '400-425', '400-425', '300-325', '275-300', '225-250',\n",
       "       '350-375', '225-250', '400-425', '300-325', '425-450', '200-225',\n",
       "       '325-350', '375-400', '400-425', '400-425', '375-400', '350-375',\n",
       "       '350-375', '300-325', '225-250', '250-275', '300-325', '225-250',\n",
       "       '350-375', '650-675', '400-425', '250-275', '200-225', '450-475',\n",
       "       '450-475', '350-375', '275-300', '400-425', '300-325', '275-300',\n",
       "       '400-425', '250-275', '375-400', '250-275', '250-275', '450-475',\n",
       "       '350-375', '400-425', '225-250', '450-475', '250-275', '350-375',\n",
       "       '200-225', '300-325', '375-400', '450-475', '325-350', '325-350',\n",
       "       '200-225', '400-425', '225-250', '250-275', '300-325', '500-525',\n",
       "       '200-225', '300-325', '200-225', '225-250', '250-275', '250-275',\n",
       "       '400-425', '275-300', '350-375', '250-275', '300-325', '550-575',\n",
       "       '250-275', '300-325', '250-275', '250-275', '250-275', '225-250',\n",
       "       '250-275', '450-475', '325-350', '400-425', '250-275', '400-425',\n",
       "       '450-475', '275-300', '325-350', '250-275', '300-325', '275-300',\n",
       "       '300-325', '400-425', '175-200', '300-325', '225-250', '175-200',\n",
       "       '500-525', '250-275', '350-375', '325-350', '250-275', '375-400',\n",
       "       '375-400', '275-300', '500-525', '250-275', '450-475', '325-350',\n",
       "       '500-525', '350-375', '350-375', '250-275', '225-250', '225-250',\n",
       "       '350-375', '200-225', '400-425', '400-425', '525-550', '175-200',\n",
       "       '550-575', '300-325', '375-400', '450-475', '200-225', '225-250',\n",
       "       '250-275', '450-475'], dtype=object)"
      ]
     },
     "execution_count": 98,
     "metadata": {},
     "output_type": "execute_result"
    }
   ],
   "source": [
    "Y = array[:,8]\n",
    "Y"
   ]
  },
  {
   "cell_type": "code",
   "execution_count": 105,
   "metadata": {},
   "outputs": [],
   "source": [
    "tipologia = ['singola', 'doppia']\n",
    "genere = ['F', 'M', 'M/F']\n",
    "zona = ['Barca', 'Bolognina', 'Borgo Panigale', 'Colli', 'Corticella', 'Costa Saragozza', 'Galvani', 'Irnerio', 'Lame', 'Malpighi', 'Marconi', 'Mazzini', 'Murri', 'S.Ruffillo', 'S.Viola', 'S.Vitale', 'Saffi', 'San Donato']"
   ]
  },
  {
   "cell_type": "code",
   "execution_count": 106,
   "metadata": {},
   "outputs": [
    {
     "data": {
      "text/plain": [
       "['singola', 'doppia']"
      ]
     },
     "execution_count": 106,
     "metadata": {},
     "output_type": "execute_result"
    }
   ],
   "source": [
    "tipologia"
   ]
  },
  {
   "cell_type": "code",
   "execution_count": 107,
   "metadata": {},
   "outputs": [
    {
     "data": {
      "text/plain": [
       "['F', 'M', 'M/F']"
      ]
     },
     "execution_count": 107,
     "metadata": {},
     "output_type": "execute_result"
    }
   ],
   "source": [
    "genere"
   ]
  },
  {
   "cell_type": "code",
   "execution_count": 110,
   "metadata": {},
   "outputs": [
    {
     "data": {
      "text/plain": [
       "['Barca',\n",
       " 'Bolognina',\n",
       " 'Borgo Panigale',\n",
       " 'Colli',\n",
       " 'Corticella',\n",
       " 'Costa Saragozza',\n",
       " 'Galvani',\n",
       " 'Irnerio',\n",
       " 'Lame',\n",
       " 'Malpighi',\n",
       " 'Marconi',\n",
       " 'Mazzini',\n",
       " 'Murri',\n",
       " 'S.Ruffillo',\n",
       " 'S.Viola',\n",
       " 'S.Vitale',\n",
       " 'Saffi',\n",
       " 'San Donato']"
      ]
     },
     "execution_count": 110,
     "metadata": {},
     "output_type": "execute_result"
    }
   ],
   "source": [
    "zona"
   ]
  },
  {
   "cell_type": "code",
   "execution_count": 112,
   "metadata": {},
   "outputs": [],
   "source": [
    ">>> from sklearn.preprocessing import OneHotEncoder\n",
    "enc = OneHotEncoder()"
   ]
  },
  {
   "cell_type": "code",
   "execution_count": 109,
   "metadata": {},
   "outputs": [],
   "source": [
    "from sklearn.ensemble import RandomForestClassifier\n",
    "from sklearn.model_selection import cross_val_score"
   ]
  }
 ],
 "metadata": {
  "kernelspec": {
   "display_name": "Python 3",
   "language": "python",
   "name": "python3"
  },
  "language_info": {
   "codemirror_mode": {
    "name": "ipython",
    "version": 3
   },
   "file_extension": ".py",
   "mimetype": "text/x-python",
   "name": "python",
   "nbconvert_exporter": "python",
   "pygments_lexer": "ipython3",
   "version": "3.8.3"
  }
 },
 "nbformat": 4,
 "nbformat_minor": 4
}
