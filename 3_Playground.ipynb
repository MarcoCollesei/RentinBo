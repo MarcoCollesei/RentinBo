{
 "cells": [
  {
   "cell_type": "markdown",
   "metadata": {},
   "source": [
    "Let's load the dataset."
   ]
  },
  {
   "cell_type": "code",
   "execution_count": 533,
   "metadata": {},
   "outputs": [],
   "source": [
    "import numpy as np\n",
    "import pandas as pd\n",
    "from sklearn.model_selection import train_test_split\n",
    "from sklearn.naive_bayes import GaussianNB\n",
    "from sklearn import preprocessing\n",
    "from __future__ import print_function\n",
    "from ipywidgets import interact, interactive, fixed, interact_manual\n",
    "import ipywidgets as widgets"
   ]
  },
  {
   "cell_type": "code",
   "execution_count": 534,
   "metadata": {},
   "outputs": [
    {
     "data": {
      "text/html": [
       "<div>\n",
       "<style scoped>\n",
       "    .dataframe tbody tr th:only-of-type {\n",
       "        vertical-align: middle;\n",
       "    }\n",
       "\n",
       "    .dataframe tbody tr th {\n",
       "        vertical-align: top;\n",
       "    }\n",
       "\n",
       "    .dataframe thead th {\n",
       "        text-align: right;\n",
       "    }\n",
       "</style>\n",
       "<table border=\"1\" class=\"dataframe\">\n",
       "  <thead>\n",
       "    <tr style=\"text-align: right;\">\n",
       "      <th></th>\n",
       "      <th>tipologia</th>\n",
       "      <th>genere</th>\n",
       "      <th>zona</th>\n",
       "      <th>bagno</th>\n",
       "      <th>cucina</th>\n",
       "      <th>salotto</th>\n",
       "      <th>balcone</th>\n",
       "      <th>range euro</th>\n",
       "    </tr>\n",
       "  </thead>\n",
       "  <tbody>\n",
       "    <tr>\n",
       "      <th>0</th>\n",
       "      <td>doppia</td>\n",
       "      <td>F</td>\n",
       "      <td>Murri</td>\n",
       "      <td>2</td>\n",
       "      <td>1</td>\n",
       "      <td>0</td>\n",
       "      <td>0</td>\n",
       "      <td>200-225</td>\n",
       "    </tr>\n",
       "    <tr>\n",
       "      <th>1</th>\n",
       "      <td>doppia</td>\n",
       "      <td>F</td>\n",
       "      <td>Marconi</td>\n",
       "      <td>2</td>\n",
       "      <td>1</td>\n",
       "      <td>1</td>\n",
       "      <td>0</td>\n",
       "      <td>225-250</td>\n",
       "    </tr>\n",
       "    <tr>\n",
       "      <th>2</th>\n",
       "      <td>doppia</td>\n",
       "      <td>M/F</td>\n",
       "      <td>Bolognina</td>\n",
       "      <td>1</td>\n",
       "      <td>1</td>\n",
       "      <td>1</td>\n",
       "      <td>0</td>\n",
       "      <td>250-275</td>\n",
       "    </tr>\n",
       "    <tr>\n",
       "      <th>3</th>\n",
       "      <td>singola</td>\n",
       "      <td>F</td>\n",
       "      <td>S.Vitale</td>\n",
       "      <td>1</td>\n",
       "      <td>1</td>\n",
       "      <td>0</td>\n",
       "      <td>1</td>\n",
       "      <td>400-425</td>\n",
       "    </tr>\n",
       "    <tr>\n",
       "      <th>4</th>\n",
       "      <td>singola</td>\n",
       "      <td>F</td>\n",
       "      <td>Irnerio</td>\n",
       "      <td>1</td>\n",
       "      <td>1</td>\n",
       "      <td>0</td>\n",
       "      <td>1</td>\n",
       "      <td>500-525</td>\n",
       "    </tr>\n",
       "    <tr>\n",
       "      <th>...</th>\n",
       "      <td>...</td>\n",
       "      <td>...</td>\n",
       "      <td>...</td>\n",
       "      <td>...</td>\n",
       "      <td>...</td>\n",
       "      <td>...</td>\n",
       "      <td>...</td>\n",
       "      <td>...</td>\n",
       "    </tr>\n",
       "    <tr>\n",
       "      <th>195</th>\n",
       "      <td>doppia</td>\n",
       "      <td>M</td>\n",
       "      <td>Irnerio</td>\n",
       "      <td>1</td>\n",
       "      <td>1</td>\n",
       "      <td>0</td>\n",
       "      <td>0</td>\n",
       "      <td>200-225</td>\n",
       "    </tr>\n",
       "    <tr>\n",
       "      <th>196</th>\n",
       "      <td>doppia</td>\n",
       "      <td>M/F</td>\n",
       "      <td>Bolognina</td>\n",
       "      <td>2</td>\n",
       "      <td>1</td>\n",
       "      <td>1</td>\n",
       "      <td>1</td>\n",
       "      <td>225-250</td>\n",
       "    </tr>\n",
       "    <tr>\n",
       "      <th>197</th>\n",
       "      <td>doppia</td>\n",
       "      <td>M/F</td>\n",
       "      <td>Bolognina</td>\n",
       "      <td>1</td>\n",
       "      <td>1</td>\n",
       "      <td>1</td>\n",
       "      <td>1</td>\n",
       "      <td>225-250</td>\n",
       "    </tr>\n",
       "    <tr>\n",
       "      <th>198</th>\n",
       "      <td>singola</td>\n",
       "      <td>M/F</td>\n",
       "      <td>San Donato</td>\n",
       "      <td>1</td>\n",
       "      <td>1</td>\n",
       "      <td>0</td>\n",
       "      <td>0</td>\n",
       "      <td>350-375</td>\n",
       "    </tr>\n",
       "    <tr>\n",
       "      <th>199</th>\n",
       "      <td>singola</td>\n",
       "      <td>M/F</td>\n",
       "      <td>Lame</td>\n",
       "      <td>1</td>\n",
       "      <td>1</td>\n",
       "      <td>0</td>\n",
       "      <td>0</td>\n",
       "      <td>325-350</td>\n",
       "    </tr>\n",
       "  </tbody>\n",
       "</table>\n",
       "<p>200 rows × 8 columns</p>\n",
       "</div>"
      ],
      "text/plain": [
       "    tipologia genere        zona  bagno  cucina  salotto  balcone range euro\n",
       "0      doppia      F       Murri      2       1        0        0    200-225\n",
       "1      doppia      F     Marconi      2       1        1        0    225-250\n",
       "2      doppia    M/F   Bolognina      1       1        1        0    250-275\n",
       "3     singola      F    S.Vitale      1       1        0        1    400-425\n",
       "4     singola      F     Irnerio      1       1        0        1    500-525\n",
       "..        ...    ...         ...    ...     ...      ...      ...        ...\n",
       "195    doppia      M     Irnerio      1       1        0        0    200-225\n",
       "196    doppia    M/F   Bolognina      2       1        1        1    225-250\n",
       "197    doppia    M/F   Bolognina      1       1        1        1    225-250\n",
       "198   singola    M/F  San Donato      1       1        0        0    350-375\n",
       "199   singola    M/F        Lame      1       1        0        0    325-350\n",
       "\n",
       "[200 rows x 8 columns]"
      ]
     },
     "execution_count": 534,
     "metadata": {},
     "output_type": "execute_result"
    }
   ],
   "source": [
    "dataset = pd.read_csv('play_dataset.csv')\n",
    "dataset = dataset.drop(columns = 'Unnamed: 0')\n",
    "dataset"
   ]
  },
  {
   "cell_type": "code",
   "execution_count": 535,
   "metadata": {},
   "outputs": [
    {
     "data": {
      "text/html": [
       "<div>\n",
       "<style scoped>\n",
       "    .dataframe tbody tr th:only-of-type {\n",
       "        vertical-align: middle;\n",
       "    }\n",
       "\n",
       "    .dataframe tbody tr th {\n",
       "        vertical-align: top;\n",
       "    }\n",
       "\n",
       "    .dataframe thead th {\n",
       "        text-align: right;\n",
       "    }\n",
       "</style>\n",
       "<table border=\"1\" class=\"dataframe\">\n",
       "  <thead>\n",
       "    <tr style=\"text-align: right;\">\n",
       "      <th></th>\n",
       "      <th>bagno</th>\n",
       "      <th>cucina</th>\n",
       "      <th>salotto</th>\n",
       "      <th>balcone</th>\n",
       "      <th>tipologia_doppia</th>\n",
       "      <th>tipologia_singola</th>\n",
       "      <th>genere_F</th>\n",
       "      <th>genere_M</th>\n",
       "      <th>genere_M/F</th>\n",
       "      <th>zona_Barca</th>\n",
       "      <th>...</th>\n",
       "      <th>zona_Malpighi</th>\n",
       "      <th>zona_Marconi</th>\n",
       "      <th>zona_Mazzini</th>\n",
       "      <th>zona_Murri</th>\n",
       "      <th>zona_S.Ruffillo</th>\n",
       "      <th>zona_S.Viola</th>\n",
       "      <th>zona_S.Vitale</th>\n",
       "      <th>zona_Saffi</th>\n",
       "      <th>zona_San Donato</th>\n",
       "      <th>range euro</th>\n",
       "    </tr>\n",
       "  </thead>\n",
       "  <tbody>\n",
       "    <tr>\n",
       "      <th>0</th>\n",
       "      <td>2</td>\n",
       "      <td>1</td>\n",
       "      <td>0</td>\n",
       "      <td>0</td>\n",
       "      <td>1</td>\n",
       "      <td>0</td>\n",
       "      <td>1</td>\n",
       "      <td>0</td>\n",
       "      <td>0</td>\n",
       "      <td>0</td>\n",
       "      <td>...</td>\n",
       "      <td>0</td>\n",
       "      <td>0</td>\n",
       "      <td>0</td>\n",
       "      <td>1</td>\n",
       "      <td>0</td>\n",
       "      <td>0</td>\n",
       "      <td>0</td>\n",
       "      <td>0</td>\n",
       "      <td>0</td>\n",
       "      <td>200-225</td>\n",
       "    </tr>\n",
       "    <tr>\n",
       "      <th>1</th>\n",
       "      <td>2</td>\n",
       "      <td>1</td>\n",
       "      <td>1</td>\n",
       "      <td>0</td>\n",
       "      <td>1</td>\n",
       "      <td>0</td>\n",
       "      <td>1</td>\n",
       "      <td>0</td>\n",
       "      <td>0</td>\n",
       "      <td>0</td>\n",
       "      <td>...</td>\n",
       "      <td>0</td>\n",
       "      <td>1</td>\n",
       "      <td>0</td>\n",
       "      <td>0</td>\n",
       "      <td>0</td>\n",
       "      <td>0</td>\n",
       "      <td>0</td>\n",
       "      <td>0</td>\n",
       "      <td>0</td>\n",
       "      <td>225-250</td>\n",
       "    </tr>\n",
       "    <tr>\n",
       "      <th>2</th>\n",
       "      <td>1</td>\n",
       "      <td>1</td>\n",
       "      <td>1</td>\n",
       "      <td>0</td>\n",
       "      <td>1</td>\n",
       "      <td>0</td>\n",
       "      <td>0</td>\n",
       "      <td>0</td>\n",
       "      <td>1</td>\n",
       "      <td>0</td>\n",
       "      <td>...</td>\n",
       "      <td>0</td>\n",
       "      <td>0</td>\n",
       "      <td>0</td>\n",
       "      <td>0</td>\n",
       "      <td>0</td>\n",
       "      <td>0</td>\n",
       "      <td>0</td>\n",
       "      <td>0</td>\n",
       "      <td>0</td>\n",
       "      <td>250-275</td>\n",
       "    </tr>\n",
       "    <tr>\n",
       "      <th>3</th>\n",
       "      <td>1</td>\n",
       "      <td>1</td>\n",
       "      <td>0</td>\n",
       "      <td>1</td>\n",
       "      <td>0</td>\n",
       "      <td>1</td>\n",
       "      <td>1</td>\n",
       "      <td>0</td>\n",
       "      <td>0</td>\n",
       "      <td>0</td>\n",
       "      <td>...</td>\n",
       "      <td>0</td>\n",
       "      <td>0</td>\n",
       "      <td>0</td>\n",
       "      <td>0</td>\n",
       "      <td>0</td>\n",
       "      <td>0</td>\n",
       "      <td>1</td>\n",
       "      <td>0</td>\n",
       "      <td>0</td>\n",
       "      <td>400-425</td>\n",
       "    </tr>\n",
       "    <tr>\n",
       "      <th>4</th>\n",
       "      <td>1</td>\n",
       "      <td>1</td>\n",
       "      <td>0</td>\n",
       "      <td>1</td>\n",
       "      <td>0</td>\n",
       "      <td>1</td>\n",
       "      <td>1</td>\n",
       "      <td>0</td>\n",
       "      <td>0</td>\n",
       "      <td>0</td>\n",
       "      <td>...</td>\n",
       "      <td>0</td>\n",
       "      <td>0</td>\n",
       "      <td>0</td>\n",
       "      <td>0</td>\n",
       "      <td>0</td>\n",
       "      <td>0</td>\n",
       "      <td>0</td>\n",
       "      <td>0</td>\n",
       "      <td>0</td>\n",
       "      <td>500-525</td>\n",
       "    </tr>\n",
       "    <tr>\n",
       "      <th>...</th>\n",
       "      <td>...</td>\n",
       "      <td>...</td>\n",
       "      <td>...</td>\n",
       "      <td>...</td>\n",
       "      <td>...</td>\n",
       "      <td>...</td>\n",
       "      <td>...</td>\n",
       "      <td>...</td>\n",
       "      <td>...</td>\n",
       "      <td>...</td>\n",
       "      <td>...</td>\n",
       "      <td>...</td>\n",
       "      <td>...</td>\n",
       "      <td>...</td>\n",
       "      <td>...</td>\n",
       "      <td>...</td>\n",
       "      <td>...</td>\n",
       "      <td>...</td>\n",
       "      <td>...</td>\n",
       "      <td>...</td>\n",
       "      <td>...</td>\n",
       "    </tr>\n",
       "    <tr>\n",
       "      <th>195</th>\n",
       "      <td>1</td>\n",
       "      <td>1</td>\n",
       "      <td>0</td>\n",
       "      <td>0</td>\n",
       "      <td>1</td>\n",
       "      <td>0</td>\n",
       "      <td>0</td>\n",
       "      <td>1</td>\n",
       "      <td>0</td>\n",
       "      <td>0</td>\n",
       "      <td>...</td>\n",
       "      <td>0</td>\n",
       "      <td>0</td>\n",
       "      <td>0</td>\n",
       "      <td>0</td>\n",
       "      <td>0</td>\n",
       "      <td>0</td>\n",
       "      <td>0</td>\n",
       "      <td>0</td>\n",
       "      <td>0</td>\n",
       "      <td>200-225</td>\n",
       "    </tr>\n",
       "    <tr>\n",
       "      <th>196</th>\n",
       "      <td>2</td>\n",
       "      <td>1</td>\n",
       "      <td>1</td>\n",
       "      <td>1</td>\n",
       "      <td>1</td>\n",
       "      <td>0</td>\n",
       "      <td>0</td>\n",
       "      <td>0</td>\n",
       "      <td>1</td>\n",
       "      <td>0</td>\n",
       "      <td>...</td>\n",
       "      <td>0</td>\n",
       "      <td>0</td>\n",
       "      <td>0</td>\n",
       "      <td>0</td>\n",
       "      <td>0</td>\n",
       "      <td>0</td>\n",
       "      <td>0</td>\n",
       "      <td>0</td>\n",
       "      <td>0</td>\n",
       "      <td>225-250</td>\n",
       "    </tr>\n",
       "    <tr>\n",
       "      <th>197</th>\n",
       "      <td>1</td>\n",
       "      <td>1</td>\n",
       "      <td>1</td>\n",
       "      <td>1</td>\n",
       "      <td>1</td>\n",
       "      <td>0</td>\n",
       "      <td>0</td>\n",
       "      <td>0</td>\n",
       "      <td>1</td>\n",
       "      <td>0</td>\n",
       "      <td>...</td>\n",
       "      <td>0</td>\n",
       "      <td>0</td>\n",
       "      <td>0</td>\n",
       "      <td>0</td>\n",
       "      <td>0</td>\n",
       "      <td>0</td>\n",
       "      <td>0</td>\n",
       "      <td>0</td>\n",
       "      <td>0</td>\n",
       "      <td>225-250</td>\n",
       "    </tr>\n",
       "    <tr>\n",
       "      <th>198</th>\n",
       "      <td>1</td>\n",
       "      <td>1</td>\n",
       "      <td>0</td>\n",
       "      <td>0</td>\n",
       "      <td>0</td>\n",
       "      <td>1</td>\n",
       "      <td>0</td>\n",
       "      <td>0</td>\n",
       "      <td>1</td>\n",
       "      <td>0</td>\n",
       "      <td>...</td>\n",
       "      <td>0</td>\n",
       "      <td>0</td>\n",
       "      <td>0</td>\n",
       "      <td>0</td>\n",
       "      <td>0</td>\n",
       "      <td>0</td>\n",
       "      <td>0</td>\n",
       "      <td>0</td>\n",
       "      <td>1</td>\n",
       "      <td>350-375</td>\n",
       "    </tr>\n",
       "    <tr>\n",
       "      <th>199</th>\n",
       "      <td>1</td>\n",
       "      <td>1</td>\n",
       "      <td>0</td>\n",
       "      <td>0</td>\n",
       "      <td>0</td>\n",
       "      <td>1</td>\n",
       "      <td>0</td>\n",
       "      <td>0</td>\n",
       "      <td>1</td>\n",
       "      <td>0</td>\n",
       "      <td>...</td>\n",
       "      <td>0</td>\n",
       "      <td>0</td>\n",
       "      <td>0</td>\n",
       "      <td>0</td>\n",
       "      <td>0</td>\n",
       "      <td>0</td>\n",
       "      <td>0</td>\n",
       "      <td>0</td>\n",
       "      <td>0</td>\n",
       "      <td>325-350</td>\n",
       "    </tr>\n",
       "  </tbody>\n",
       "</table>\n",
       "<p>200 rows × 28 columns</p>\n",
       "</div>"
      ],
      "text/plain": [
       "     bagno  cucina  salotto  balcone  tipologia_doppia  tipologia_singola  \\\n",
       "0        2       1        0        0                 1                  0   \n",
       "1        2       1        1        0                 1                  0   \n",
       "2        1       1        1        0                 1                  0   \n",
       "3        1       1        0        1                 0                  1   \n",
       "4        1       1        0        1                 0                  1   \n",
       "..     ...     ...      ...      ...               ...                ...   \n",
       "195      1       1        0        0                 1                  0   \n",
       "196      2       1        1        1                 1                  0   \n",
       "197      1       1        1        1                 1                  0   \n",
       "198      1       1        0        0                 0                  1   \n",
       "199      1       1        0        0                 0                  1   \n",
       "\n",
       "     genere_F  genere_M  genere_M/F  zona_Barca  ...  zona_Malpighi  \\\n",
       "0           1         0           0           0  ...              0   \n",
       "1           1         0           0           0  ...              0   \n",
       "2           0         0           1           0  ...              0   \n",
       "3           1         0           0           0  ...              0   \n",
       "4           1         0           0           0  ...              0   \n",
       "..        ...       ...         ...         ...  ...            ...   \n",
       "195         0         1           0           0  ...              0   \n",
       "196         0         0           1           0  ...              0   \n",
       "197         0         0           1           0  ...              0   \n",
       "198         0         0           1           0  ...              0   \n",
       "199         0         0           1           0  ...              0   \n",
       "\n",
       "     zona_Marconi  zona_Mazzini  zona_Murri  zona_S.Ruffillo  zona_S.Viola  \\\n",
       "0               0             0           1                0             0   \n",
       "1               1             0           0                0             0   \n",
       "2               0             0           0                0             0   \n",
       "3               0             0           0                0             0   \n",
       "4               0             0           0                0             0   \n",
       "..            ...           ...         ...              ...           ...   \n",
       "195             0             0           0                0             0   \n",
       "196             0             0           0                0             0   \n",
       "197             0             0           0                0             0   \n",
       "198             0             0           0                0             0   \n",
       "199             0             0           0                0             0   \n",
       "\n",
       "     zona_S.Vitale  zona_Saffi  zona_San Donato  range euro  \n",
       "0                0           0                0     200-225  \n",
       "1                0           0                0     225-250  \n",
       "2                0           0                0     250-275  \n",
       "3                1           0                0     400-425  \n",
       "4                0           0                0     500-525  \n",
       "..             ...         ...              ...         ...  \n",
       "195              0           0                0     200-225  \n",
       "196              0           0                0     225-250  \n",
       "197              0           0                0     225-250  \n",
       "198              0           0                1     350-375  \n",
       "199              0           0                0     325-350  \n",
       "\n",
       "[200 rows x 28 columns]"
      ]
     },
     "execution_count": 535,
     "metadata": {},
     "output_type": "execute_result"
    }
   ],
   "source": [
    "dummy_dataset = pd.get_dummies(dataset, columns = ['tipologia', 'genere', 'zona'])\n",
    "columns = list(dummy_dataset.columns.values)\n",
    "columns.pop(columns.index('range euro')) \n",
    "dummy_dataset = dummy_dataset[columns+['range euro']]\n",
    "dummy_dataset"
   ]
  },
  {
   "cell_type": "code",
   "execution_count": 536,
   "metadata": {},
   "outputs": [],
   "source": [
    "array = dummy_dataset.values\n",
    "X_enc = array[:,0:27]\n",
    "Y = array[:,27]"
   ]
  },
  {
   "cell_type": "code",
   "execution_count": 537,
   "metadata": {},
   "outputs": [
    {
     "data": {
      "text/plain": [
       "array([ 0,  1,  2,  3,  4,  5,  6,  7,  8,  9, 10, 11, 12, 13, 14, 15, 16,\n",
       "       17, 18, 19, 20])"
      ]
     },
     "execution_count": 537,
     "metadata": {},
     "output_type": "execute_result"
    }
   ],
   "source": [
    "le = preprocessing.LabelEncoder()\n",
    "le.fit_transform(['175-200', '200-225', '225-250', '250-275', '275-300', '300-325', '325-350', '350-375',\n",
    "                  '375-400', '400-425', '425-450', '450-475', '475-500', '500-525', '525-550', '550-575', \n",
    "                 '575-600', '600-625', '625-650', '650-675', '675-700'])"
   ]
  },
  {
   "cell_type": "code",
   "execution_count": 538,
   "metadata": {},
   "outputs": [],
   "source": [
    "Y_enc = le.transform(Y)"
   ]
  },
  {
   "cell_type": "code",
   "execution_count": 539,
   "metadata": {},
   "outputs": [],
   "source": [
    "X_train, X_test, Y_train, Y_test = train_test_split(X_enc, Y_enc, test_size = 0.13, random_state = 843)"
   ]
  },
  {
   "cell_type": "code",
   "execution_count": 540,
   "metadata": {},
   "outputs": [
    {
     "data": {
      "text/plain": [
       "array([[2, 1, 0, 0, 0, 1, 0, 0, 1, 0, 0, 0, 0, 0, 0, 0, 0, 0, 0, 0, 0, 0,\n",
       "        0, 0, 1, 0, 0],\n",
       "       [1, 1, 0, 1, 0, 1, 1, 0, 0, 0, 0, 0, 0, 0, 0, 0, 0, 0, 0, 0, 1, 0,\n",
       "        0, 0, 0, 0, 0],\n",
       "       [1, 1, 0, 0, 0, 1, 0, 0, 1, 0, 0, 0, 0, 0, 0, 0, 0, 0, 0, 0, 0, 1,\n",
       "        0, 0, 0, 0, 0],\n",
       "       [2, 1, 1, 0, 1, 0, 0, 0, 1, 0, 0, 0, 0, 0, 0, 1, 0, 0, 0, 0, 0, 0,\n",
       "        0, 0, 0, 0, 0],\n",
       "       [1, 1, 0, 1, 1, 0, 1, 0, 0, 0, 0, 0, 0, 0, 0, 0, 0, 1, 0, 0, 0, 0,\n",
       "        0, 0, 0, 0, 0],\n",
       "       [1, 1, 0, 0, 0, 1, 0, 0, 1, 0, 0, 0, 0, 0, 0, 0, 0, 0, 0, 1, 0, 0,\n",
       "        0, 0, 0, 0, 0],\n",
       "       [1, 1, 0, 0, 0, 1, 1, 0, 0, 0, 1, 0, 0, 0, 0, 0, 0, 0, 0, 0, 0, 0,\n",
       "        0, 0, 0, 0, 0],\n",
       "       [1, 1, 0, 0, 0, 1, 0, 0, 1, 0, 0, 0, 0, 0, 0, 0, 0, 0, 0, 0, 0, 0,\n",
       "        0, 0, 0, 0, 1],\n",
       "       [1, 1, 1, 1, 1, 0, 1, 0, 0, 0, 0, 0, 0, 0, 0, 0, 0, 0, 0, 0, 1, 0,\n",
       "        0, 0, 0, 0, 0],\n",
       "       [1, 1, 0, 0, 0, 1, 0, 0, 1, 0, 0, 0, 0, 1, 0, 0, 0, 0, 0, 0, 0, 0,\n",
       "        0, 0, 0, 0, 0],\n",
       "       [2, 1, 1, 1, 1, 0, 0, 0, 1, 0, 1, 0, 0, 0, 0, 0, 0, 0, 0, 0, 0, 0,\n",
       "        0, 0, 0, 0, 0],\n",
       "       [1, 1, 0, 1, 0, 1, 0, 0, 1, 0, 0, 0, 0, 0, 0, 0, 0, 0, 0, 0, 0, 0,\n",
       "        0, 0, 0, 1, 0],\n",
       "       [2, 1, 0, 1, 0, 1, 0, 0, 1, 0, 0, 0, 0, 0, 0, 0, 0, 0, 0, 0, 0, 0,\n",
       "        0, 0, 1, 0, 0],\n",
       "       [3, 2, 0, 3, 0, 1, 0, 1, 0, 0, 1, 0, 0, 0, 0, 0, 0, 0, 0, 0, 0, 0,\n",
       "        0, 0, 0, 0, 0],\n",
       "       [1, 1, 0, 0, 1, 0, 0, 0, 1, 0, 1, 0, 0, 0, 0, 0, 0, 0, 0, 0, 0, 0,\n",
       "        0, 0, 0, 0, 0],\n",
       "       [1, 1, 0, 0, 0, 1, 0, 0, 1, 0, 0, 0, 0, 0, 0, 0, 1, 0, 0, 0, 0, 0,\n",
       "        0, 0, 0, 0, 0],\n",
       "       [1, 1, 1, 1, 1, 0, 0, 0, 1, 0, 0, 0, 0, 0, 0, 0, 0, 0, 1, 0, 0, 0,\n",
       "        0, 0, 0, 0, 0],\n",
       "       [1, 1, 0, 1, 1, 0, 0, 0, 1, 0, 1, 0, 0, 0, 0, 0, 0, 0, 0, 0, 0, 0,\n",
       "        0, 0, 0, 0, 0],\n",
       "       [1, 1, 1, 1, 0, 1, 0, 0, 1, 0, 0, 0, 0, 0, 0, 0, 0, 0, 0, 0, 0, 0,\n",
       "        0, 0, 0, 0, 1],\n",
       "       [1, 1, 0, 0, 0, 1, 0, 0, 1, 0, 0, 0, 0, 0, 0, 0, 0, 0, 0, 0, 0, 0,\n",
       "        0, 0, 0, 0, 1],\n",
       "       [1, 1, 0, 0, 1, 0, 0, 0, 1, 0, 0, 0, 0, 0, 0, 0, 0, 0, 0, 0, 1, 0,\n",
       "        0, 0, 0, 0, 0],\n",
       "       [1, 1, 0, 0, 0, 1, 1, 0, 0, 0, 0, 0, 0, 0, 0, 0, 0, 0, 0, 0, 0, 0,\n",
       "        0, 0, 0, 1, 0],\n",
       "       [1, 1, 0, 0, 0, 1, 1, 0, 0, 0, 0, 0, 0, 0, 0, 0, 0, 0, 0, 0, 0, 0,\n",
       "        0, 0, 1, 0, 0],\n",
       "       [1, 1, 0, 0, 1, 0, 0, 0, 1, 0, 0, 0, 0, 0, 0, 0, 0, 0, 0, 0, 0, 0,\n",
       "        0, 0, 1, 0, 0],\n",
       "       [2, 1, 1, 0, 0, 1, 0, 1, 0, 0, 0, 0, 0, 0, 0, 0, 0, 0, 1, 0, 0, 0,\n",
       "        0, 0, 0, 0, 0],\n",
       "       [1, 1, 0, 0, 0, 1, 1, 0, 0, 0, 0, 0, 0, 0, 1, 0, 0, 0, 0, 0, 0, 0,\n",
       "        0, 0, 0, 0, 0]], dtype=object)"
      ]
     },
     "execution_count": 540,
     "metadata": {},
     "output_type": "execute_result"
    }
   ],
   "source": [
    "X_test"
   ]
  },
  {
   "cell_type": "markdown",
   "metadata": {},
   "source": [
    "Let's play."
   ]
  },
  {
   "cell_type": "code",
   "execution_count": 541,
   "metadata": {},
   "outputs": [
    {
     "data": {
      "text/plain": [
       "GaussianNB(var_smoothing=1.057)"
      ]
     },
     "execution_count": 541,
     "metadata": {},
     "output_type": "execute_result"
    }
   ],
   "source": [
    "GNB_model = GaussianNB(var_smoothing = 1.057)\n",
    "GNB_model.fit(X_train, Y_train)"
   ]
  },
  {
   "cell_type": "code",
   "execution_count": 542,
   "metadata": {},
   "outputs": [
    {
     "name": "stdout",
     "output_type": "stream",
     "text": [
      "Accuracy: 53.846%\n"
     ]
    }
   ],
   "source": [
    "GNB_accuracy = GNB_model.score(X_test, Y_test)\n",
    "print(\"Accuracy: %.3f%%\" % (GNB_accuracy*100.0))"
   ]
  },
  {
   "cell_type": "code",
   "execution_count": 543,
   "metadata": {},
   "outputs": [],
   "source": [
    "from IPython.display import display"
   ]
  },
  {
   "cell_type": "code",
   "execution_count": 544,
   "metadata": {},
   "outputs": [],
   "source": [
    "def features(bagno, cucina, salotto, balcone, tipologia, genere, zona):\n",
    "    return bagno, cucina, salotto, balcone, tipologia, genere, zona"
   ]
  },
  {
   "cell_type": "code",
   "execution_count": 545,
   "metadata": {},
   "outputs": [],
   "source": [
    "w = interactive(features, bagno = (0,3,1) , cucina = (0,3,1) , salotto = (0,3,1), balcone = (0,3,1),\n",
    "                tipologia = ['singola', 'doppia'], genere = ['F', 'M', 'M/F'], \n",
    "               zona = ['Barca', 'Bolognina', 'Borgo Panigale', 'Colli', 'Corticella', 'Costa Saragozza', 'Galvani',\n",
    "                      'Irnerio', 'Lame', 'Malpighi', 'Marconi', 'Mazzini', 'Murri', 'S.Ruffillo', 'S.Viola',\n",
    "                      'S.Vitale', 'Saffi', 'San Donato'])"
   ]
  },
  {
   "cell_type": "code",
   "execution_count": 546,
   "metadata": {},
   "outputs": [
    {
     "data": {
      "application/vnd.jupyter.widget-view+json": {
       "model_id": "79e2759413e34ecb97739db92bfaf3f1",
       "version_major": 2,
       "version_minor": 0
      },
      "text/plain": [
       "interactive(children=(IntSlider(value=1, description='bagno', max=3), IntSlider(value=1, description='cucina',…"
      ]
     },
     "metadata": {},
     "output_type": "display_data"
    }
   ],
   "source": [
    "display(w)"
   ]
  },
  {
   "cell_type": "code",
   "execution_count": 547,
   "metadata": {},
   "outputs": [
    {
     "data": {
      "text/plain": [
       "(1, 1, 1, 1, 'singola', 'F', 'Barca')"
      ]
     },
     "execution_count": 547,
     "metadata": {},
     "output_type": "execute_result"
    }
   ],
   "source": [
    "w.result"
   ]
  },
  {
   "cell_type": "code",
   "execution_count": 548,
   "metadata": {},
   "outputs": [],
   "source": [
    "X_new_test = []\n",
    "\n",
    "for i in range(0, 7):\n",
    "    if(i<4):\n",
    "        X_new_test.append(w.result[i])\n",
    "    else:\n",
    "        if(w.result[i] == 'singola' or w.result[i] == 'doppia'):\n",
    "            if(w.result[i] == 'singola'):\n",
    "                X_new_test.append(0)\n",
    "                X_new_test.append(1)\n",
    "            if(w.result[i] == 'doppia'):\n",
    "                X_new_test.append(1)\n",
    "                X_new_test.append(0)\n",
    "        if(w.result[i] == 'F' or w.result[i] == 'M' or w.result[i] == 'M/F'):\n",
    "            if(w.result[i] == 'F'):\n",
    "                X_new_test.append(1)\n",
    "                X_new_test.append(0)\n",
    "                X_new_test.append(0)\n",
    "            if(w.result[i] == 'M'):\n",
    "                X_new_test.append(0)\n",
    "                X_new_test.append(1)\n",
    "                X_new_test.append(0)\n",
    "            if(w.result[i] == 'M/F'):\n",
    "                X_new_test.append(0)\n",
    "                X_new_test.append(0)\n",
    "                X_new_test.append(1)\n",
    "        if(w.result[i] == 'Barca' or w.result[i] == 'Bolognina' or w.result[i] == 'Borgo Panigale' or\n",
    "          w.result[i] == 'Colli' or w.result[i] == 'Corticella' or w.result[i] == 'Costa Saragozza'\n",
    "           or w.result[i] == 'Galvani' or w.result[i] == 'Irnerio' or w.result[i] == 'Lame'\n",
    "           or w.result[i] == 'Malpighi' or w.result[i] == 'Marconi' or w.result[i] == 'Mazzini'\n",
    "           or w.result[i] == 'Murri' or w.result[i] == 'S.Ruffillo' or w.result[i] == 'S.Viola'\n",
    "           or w.result[i] == 'S.Vitale' or w.result[i] == 'Saffi' or w.result[i] == 'San Donato'):\n",
    "            if(w.result[i] == 'Barca'):\n",
    "                X_new_test.append(1)\n",
    "                for o in range(0,17):\n",
    "                    X_new_test.append(0)\n",
    "            if(w.result[i] == 'Bolognina'):\n",
    "                X_new_test.append(0)\n",
    "                X_new_test.append(1)\n",
    "                for o in range(0,16):\n",
    "                    X_new_test.append(0)\n",
    "            if(w.result[i] == 'Borgo Panigale'):\n",
    "                for o in range(0,2):\n",
    "                    X_new_test.append(0)\n",
    "                X_new_test.append(1)\n",
    "                for o in range (0,15):\n",
    "                    X_new_test.append(0)\n",
    "            if(w.result[i] == 'Colli'):\n",
    "                for o in range(0,3):\n",
    "                    X_new_test.append(0)\n",
    "                X_new_test.append(1)\n",
    "                for o in range (0,14):\n",
    "                    X_new_test.append(0)\n",
    "            if(w.result[i] == 'Corticella'):\n",
    "                for o in range(0,4):\n",
    "                    X_new_test.append(0)\n",
    "                X_new_test.append(1)\n",
    "                for o in range (0,13):\n",
    "                    X_new_test.append(0)\n",
    "            if(w.result[i] == 'Costa Saragozza'):\n",
    "                for o in range(0,5):\n",
    "                    X_new_test.append(0)\n",
    "                X_new_test.append(1)\n",
    "                for o in range (0,12):\n",
    "                    X_new_test.append(0)\n",
    "            if(w.result[i] == 'Galvani'):\n",
    "                for o in range(0,6):\n",
    "                    X_new_test.append(0)\n",
    "                X_new_test.append(1)\n",
    "                for o in range (0,11):\n",
    "                    X_new_test.append(0)\n",
    "            if(w.result[i] == 'Irnerio'):\n",
    "                for o in range(0,7):\n",
    "                    X_new_test.append(0)\n",
    "                X_new_test.append(1)\n",
    "                for o in range (0,10):\n",
    "                    X_new_test.append(0)\n",
    "            if(w.result[i] == 'Lame'):\n",
    "                for o in range(0,8):\n",
    "                    X_new_test.append(0)\n",
    "                X_new_test.append(1)\n",
    "                for o in range (0,9):\n",
    "                    X_new_test.append(0)\n",
    "            if(w.result[i] == 'Malpighi'):\n",
    "                for o in range(0,9):\n",
    "                    X_new_test.append(0)\n",
    "                X_new_test.append(1)\n",
    "                for o in range (0,8):\n",
    "                    X_new_test.append(0)\n",
    "            if(w.result[i] == 'Marconi'):\n",
    "                for o in range(0,10):\n",
    "                    X_new_test.append(0)\n",
    "                X_new_test.append(1)\n",
    "                for o in range (0,7):\n",
    "                    X_new_test.append(0)\n",
    "            if(w.result[i] == 'Mazzini'):\n",
    "                for o in range(0,11):\n",
    "                    X_new_test.append(0)\n",
    "                X_new_test.append(1)\n",
    "                for o in range (0,6):\n",
    "                    X_new_test.append(0)\n",
    "            if(w.result[i] == 'Murri'):\n",
    "                for o in range(0,12):\n",
    "                    X_new_test.append(0)\n",
    "                X_new_test.append(1)\n",
    "                for o in range (0,5):\n",
    "                    X_new_test.append(0)\n",
    "            if(w.result[i] == 'S.Ruffillo'):\n",
    "                for o in range(0,13):\n",
    "                    X_new_test.append(0)\n",
    "                X_new_test.append(1)\n",
    "                for o in range (0,4):\n",
    "                    X_new_test.append(0)\n",
    "            if(w.result[i] == 'S.Viola'):\n",
    "                for o in range(0,14):\n",
    "                    X_new_test.append(0)\n",
    "                X_new_test.append(1)\n",
    "                for o in range (0,3):\n",
    "                    X_new_test.append(0)\n",
    "            if(w.result[i] == 'S.Vitale'):\n",
    "                for o in range(0,15):\n",
    "                    X_new_test.append(0)\n",
    "                X_new_test.append(1)\n",
    "                for o in range (0,2):\n",
    "                    X_new_test.append(0)\n",
    "            if(w.result[i] == 'Saffi'):\n",
    "                for o in range(0,16):\n",
    "                    X_new_test.append(0)\n",
    "                X_new_test.append(1)\n",
    "                X_new_test.append(0)\n",
    "            if(w.result[i] == 'San Donato'):\n",
    "                for o in range(0,17):\n",
    "                    X_new_test.append(0)\n",
    "                X_new_test.append(1)       "
   ]
  },
  {
   "cell_type": "code",
   "execution_count": 549,
   "metadata": {},
   "outputs": [
    {
     "data": {
      "text/plain": [
       "[1,\n",
       " 1,\n",
       " 1,\n",
       " 1,\n",
       " 0,\n",
       " 1,\n",
       " 1,\n",
       " 0,\n",
       " 0,\n",
       " 1,\n",
       " 0,\n",
       " 0,\n",
       " 0,\n",
       " 0,\n",
       " 0,\n",
       " 0,\n",
       " 0,\n",
       " 0,\n",
       " 0,\n",
       " 0,\n",
       " 0,\n",
       " 0,\n",
       " 0,\n",
       " 0,\n",
       " 0,\n",
       " 0,\n",
       " 0]"
      ]
     },
     "execution_count": 549,
     "metadata": {},
     "output_type": "execute_result"
    }
   ],
   "source": [
    "X_new_test"
   ]
  },
  {
   "cell_type": "code",
   "execution_count": 550,
   "metadata": {},
   "outputs": [
    {
     "data": {
      "text/plain": [
       "(27,)"
      ]
     },
     "execution_count": 550,
     "metadata": {},
     "output_type": "execute_result"
    }
   ],
   "source": [
    "np.shape(X_new_test)"
   ]
  },
  {
   "cell_type": "code",
   "execution_count": 551,
   "metadata": {},
   "outputs": [],
   "source": [
    "X_new_test = np.transpose(X_new_test)"
   ]
  },
  {
   "cell_type": "code",
   "execution_count": 552,
   "metadata": {},
   "outputs": [
    {
     "data": {
      "text/plain": [
       "array([1, 1, 1, 1, 0, 1, 1, 0, 0, 1, 0, 0, 0, 0, 0, 0, 0, 0, 0, 0, 0, 0,\n",
       "       0, 0, 0, 0, 0])"
      ]
     },
     "execution_count": 552,
     "metadata": {},
     "output_type": "execute_result"
    }
   ],
   "source": [
    "X_new_test"
   ]
  },
  {
   "cell_type": "code",
   "execution_count": 553,
   "metadata": {},
   "outputs": [
    {
     "data": {
      "text/plain": [
       "array([[1, 1, 1, ..., 0, 0, 0],\n",
       "       [1, 1, 0, ..., 0, 0, 0],\n",
       "       [1, 1, 0, ..., 0, 0, 0],\n",
       "       ...,\n",
       "       [1, 1, 0, ..., 0, 0, 0],\n",
       "       [2, 1, 1, ..., 0, 0, 1],\n",
       "       [1, 1, 0, ..., 0, 0, 1]], dtype=object)"
      ]
     },
     "execution_count": 553,
     "metadata": {},
     "output_type": "execute_result"
    }
   ],
   "source": [
    "X_train"
   ]
  },
  {
   "cell_type": "code",
   "execution_count": 554,
   "metadata": {},
   "outputs": [
    {
     "data": {
      "text/plain": [
       "(174, 27)"
      ]
     },
     "execution_count": 554,
     "metadata": {},
     "output_type": "execute_result"
    }
   ],
   "source": [
    "X_train.shape"
   ]
  },
  {
   "cell_type": "code",
   "execution_count": 555,
   "metadata": {},
   "outputs": [
    {
     "data": {
      "text/plain": [
       "dtype('O')"
      ]
     },
     "execution_count": 555,
     "metadata": {},
     "output_type": "execute_result"
    }
   ],
   "source": [
    "X_train.dtype"
   ]
  },
  {
   "cell_type": "code",
   "execution_count": 557,
   "metadata": {},
   "outputs": [
    {
     "data": {
      "text/plain": [
       "numpy.ndarray"
      ]
     },
     "execution_count": 557,
     "metadata": {},
     "output_type": "execute_result"
    }
   ],
   "source": [
    "type(X_train)"
   ]
  },
  {
   "cell_type": "code",
   "execution_count": 558,
   "metadata": {},
   "outputs": [
    {
     "data": {
      "text/plain": [
       "numpy.ndarray"
      ]
     },
     "execution_count": 558,
     "metadata": {},
     "output_type": "execute_result"
    }
   ],
   "source": [
    "type(X_test)"
   ]
  },
  {
   "cell_type": "code",
   "execution_count": 561,
   "metadata": {},
   "outputs": [],
   "source": [
    "X_train = np.vstack([X_train, X_new_test])"
   ]
  },
  {
   "cell_type": "code",
   "execution_count": 562,
   "metadata": {},
   "outputs": [
    {
     "data": {
      "text/plain": [
       "(175, 27)"
      ]
     },
     "execution_count": 562,
     "metadata": {},
     "output_type": "execute_result"
    }
   ],
   "source": [
    "X_train.shape"
   ]
  },
  {
   "cell_type": "code",
   "execution_count": null,
   "metadata": {},
   "outputs": [],
   "source": []
  }
 ],
 "metadata": {
  "kernelspec": {
   "display_name": "Python 3",
   "language": "python",
   "name": "python3"
  },
  "language_info": {
   "codemirror_mode": {
    "name": "ipython",
    "version": 3
   },
   "file_extension": ".py",
   "mimetype": "text/x-python",
   "name": "python",
   "nbconvert_exporter": "python",
   "pygments_lexer": "ipython3",
   "version": "3.8.3"
  },
  "widgets": {
   "application/vnd.jupyter.widget-state+json": {
    "state": {
     "07ab212fb9a1420b8588a831992b77da": {
      "model_module": "@jupyter-widgets/base",
      "model_module_version": "1.2.0",
      "model_name": "LayoutModel",
      "state": {}
     },
     "0aab75bd05e445d8ab1fbeedfd6361ad": {
      "model_module": "@jupyter-widgets/controls",
      "model_module_version": "1.5.0",
      "model_name": "SliderStyleModel",
      "state": {
       "description_width": ""
      }
     },
     "35fbfe0869e74843b6300c029c00c65b": {
      "model_module": "@jupyter-widgets/base",
      "model_module_version": "1.2.0",
      "model_name": "LayoutModel",
      "state": {}
     },
     "3b47756da4ac4e3a8b318295e0aa27c7": {
      "model_module": "@jupyter-widgets/controls",
      "model_module_version": "1.5.0",
      "model_name": "VBoxModel",
      "state": {
       "_dom_classes": [
        "widget-interact"
       ],
       "children": [
        "IPY_MODEL_cebc88dcced740308cd884a18d6d21c0",
        "IPY_MODEL_b7aa95e9e18248abb09183461d97c8a5"
       ],
       "layout": "IPY_MODEL_e89f2de6c33e43f481bfd8a04de9c4ec"
      }
     },
     "40f21c0c87f04c81a05c82b60ca766c5": {
      "model_module": "@jupyter-widgets/controls",
      "model_module_version": "1.5.0",
      "model_name": "IntSliderModel",
      "state": {
       "description": "x",
       "layout": "IPY_MODEL_9fa460fb32eb411ea88cb967e4aa6095",
       "max": 30,
       "min": -10,
       "style": "IPY_MODEL_d1f6adefaabd4ab8bf7c2bc557ca653d",
       "value": 10
      }
     },
     "4b88f04d54b14f298f2aca198c462e61": {
      "model_module": "@jupyter-widgets/controls",
      "model_module_version": "1.5.0",
      "model_name": "SliderStyleModel",
      "state": {
       "description_width": ""
      }
     },
     "6144b2df09dc4c338eefd40026db11c3": {
      "model_module": "@jupyter-widgets/output",
      "model_module_version": "1.0.0",
      "model_name": "OutputModel",
      "state": {
       "layout": "IPY_MODEL_7b6269b7f3bd4725b76664353f0a8ab6",
       "outputs": [
        {
         "data": {
          "text/plain": "10"
         },
         "metadata": {},
         "output_type": "display_data"
        }
       ]
      }
     },
     "681ec0360f16416ba8b17d52101a005c": {
      "model_module": "@jupyter-widgets/output",
      "model_module_version": "1.0.0",
      "model_name": "OutputModel",
      "state": {
       "layout": "IPY_MODEL_07ab212fb9a1420b8588a831992b77da",
       "outputs": [
        {
         "data": {
          "text/plain": "10"
         },
         "metadata": {},
         "output_type": "display_data"
        }
       ]
      }
     },
     "70a4bd6b7d2949249417f62bb3923cdb": {
      "model_module": "@jupyter-widgets/base",
      "model_module_version": "1.2.0",
      "model_name": "LayoutModel",
      "state": {}
     },
     "73317607dc2749a7a5c5be409b62791a": {
      "model_module": "@jupyter-widgets/base",
      "model_module_version": "1.2.0",
      "model_name": "LayoutModel",
      "state": {}
     },
     "7b6269b7f3bd4725b76664353f0a8ab6": {
      "model_module": "@jupyter-widgets/base",
      "model_module_version": "1.2.0",
      "model_name": "LayoutModel",
      "state": {}
     },
     "8f5534615a664781b15c8bcaa286ae04": {
      "model_module": "@jupyter-widgets/controls",
      "model_module_version": "1.5.0",
      "model_name": "VBoxModel",
      "state": {
       "_dom_classes": [
        "widget-interact"
       ],
       "children": [
        "IPY_MODEL_a0aee6f42e214ffd81f1936b4eb755df",
        "IPY_MODEL_6144b2df09dc4c338eefd40026db11c3"
       ],
       "layout": "IPY_MODEL_c250b15f5d6c4e348220b3250cbc0592"
      }
     },
     "98d348595dd04f56b9cfdc592a7b3b46": {
      "model_module": "@jupyter-widgets/controls",
      "model_module_version": "1.5.0",
      "model_name": "VBoxModel",
      "state": {
       "_dom_classes": [
        "widget-interact"
       ],
       "children": [
        "IPY_MODEL_40f21c0c87f04c81a05c82b60ca766c5",
        "IPY_MODEL_681ec0360f16416ba8b17d52101a005c"
       ],
       "layout": "IPY_MODEL_73317607dc2749a7a5c5be409b62791a"
      }
     },
     "9fa460fb32eb411ea88cb967e4aa6095": {
      "model_module": "@jupyter-widgets/base",
      "model_module_version": "1.2.0",
      "model_name": "LayoutModel",
      "state": {}
     },
     "a0aee6f42e214ffd81f1936b4eb755df": {
      "model_module": "@jupyter-widgets/controls",
      "model_module_version": "1.5.0",
      "model_name": "IntSliderModel",
      "state": {
       "description": "x",
       "layout": "IPY_MODEL_70a4bd6b7d2949249417f62bb3923cdb",
       "max": 30,
       "min": -10,
       "style": "IPY_MODEL_0aab75bd05e445d8ab1fbeedfd6361ad",
       "value": 10
      }
     },
     "b7aa95e9e18248abb09183461d97c8a5": {
      "model_module": "@jupyter-widgets/output",
      "model_module_version": "1.0.0",
      "model_name": "OutputModel",
      "state": {
       "layout": "IPY_MODEL_dd8b10b0280d416a9cca32e8540ee89b",
       "outputs": [
        {
         "data": {
          "text/plain": "10"
         },
         "metadata": {},
         "output_type": "display_data"
        }
       ]
      }
     },
     "c250b15f5d6c4e348220b3250cbc0592": {
      "model_module": "@jupyter-widgets/base",
      "model_module_version": "1.2.0",
      "model_name": "LayoutModel",
      "state": {}
     },
     "cebc88dcced740308cd884a18d6d21c0": {
      "model_module": "@jupyter-widgets/controls",
      "model_module_version": "1.5.0",
      "model_name": "IntSliderModel",
      "state": {
       "description": "x",
       "layout": "IPY_MODEL_35fbfe0869e74843b6300c029c00c65b",
       "max": 30,
       "min": -10,
       "style": "IPY_MODEL_4b88f04d54b14f298f2aca198c462e61",
       "value": 10
      }
     },
     "d1f6adefaabd4ab8bf7c2bc557ca653d": {
      "model_module": "@jupyter-widgets/controls",
      "model_module_version": "1.5.0",
      "model_name": "SliderStyleModel",
      "state": {
       "description_width": ""
      }
     },
     "dd8b10b0280d416a9cca32e8540ee89b": {
      "model_module": "@jupyter-widgets/base",
      "model_module_version": "1.2.0",
      "model_name": "LayoutModel",
      "state": {}
     },
     "e89f2de6c33e43f481bfd8a04de9c4ec": {
      "model_module": "@jupyter-widgets/base",
      "model_module_version": "1.2.0",
      "model_name": "LayoutModel",
      "state": {}
     }
    },
    "version_major": 2,
    "version_minor": 0
   }
  }
 },
 "nbformat": 4,
 "nbformat_minor": 4
}
