{
 "cells": [
  {
   "cell_type": "markdown",
   "metadata": {},
   "source": [
    "# Playground"
   ]
  },
  {
   "cell_type": "markdown",
   "metadata": {},
   "source": [
    "Having tried many different classification alogorithms without gaining a satisfying accuracy, we are now going to grow the dataset."
   ]
  },
  {
   "cell_type": "markdown",
   "metadata": {},
   "source": [
    "Instead of searching for new data from renting sites as \"Subito.it\" et al. here it is proposed an interactive function to simulate the collection of new ads."
   ]
  },
  {
   "cell_type": "markdown",
   "metadata": {},
   "source": [
    "In particular the user will have the opportunity to select new combinations of features and choose wether the target prediction of the algorithm is right or wrong. In the latter case he could pick the true range and store the fresh new informations."
   ]
  },
  {
   "cell_type": "markdown",
   "metadata": {},
   "source": [
    "The idea behind is that by doing so the algorithm trained on larger and larger dataset would get more accurate."
   ]
  },
  {
   "cell_type": "markdown",
   "metadata": {},
   "source": [
    "## 1. Loading dataset"
   ]
  },
  {
   "cell_type": "markdown",
   "metadata": {},
   "source": [
    "As done before in \"2_RentinBo\" we import the dataset and manipulate it to pass it to a classification algorithm, Gaussian Naive Bayes classifier in this case."
   ]
  },
  {
   "cell_type": "code",
   "execution_count": 1,
   "metadata": {},
   "outputs": [],
   "source": [
    "import sys\n",
    "import numpy as np\n",
    "import pandas as pd\n",
    "from sklearn.model_selection import train_test_split\n",
    "from sklearn.naive_bayes import GaussianNB\n",
    "from sklearn import preprocessing\n",
    "from ipywidgets import interact, interactive, fixed, interact_manual\n",
    "from IPython.display import display\n",
    "import ipywidgets as widgets\n",
    "import functools\n",
    "ipython = get_ipython()\n",
    "method_name = \"showtraceback\"\n",
    "setattr(\n",
    "    ipython,\n",
    "    method_name,\n",
    "    functools.partial(\n",
    "        getattr(ipython, method_name),\n",
    "        exception_only=True\n",
    "    )\n",
    ")"
   ]
  },
  {
   "cell_type": "code",
   "execution_count": 2,
   "metadata": {},
   "outputs": [
    {
     "data": {
      "text/html": [
       "<div>\n",
       "<style scoped>\n",
       "    .dataframe tbody tr th:only-of-type {\n",
       "        vertical-align: middle;\n",
       "    }\n",
       "\n",
       "    .dataframe tbody tr th {\n",
       "        vertical-align: top;\n",
       "    }\n",
       "\n",
       "    .dataframe thead th {\n",
       "        text-align: right;\n",
       "    }\n",
       "</style>\n",
       "<table border=\"1\" class=\"dataframe\">\n",
       "  <thead>\n",
       "    <tr style=\"text-align: right;\">\n",
       "      <th></th>\n",
       "      <th>tipologia</th>\n",
       "      <th>genere</th>\n",
       "      <th>zona</th>\n",
       "      <th>bagno</th>\n",
       "      <th>cucina</th>\n",
       "      <th>salotto</th>\n",
       "      <th>balcone</th>\n",
       "      <th>range euro</th>\n",
       "    </tr>\n",
       "  </thead>\n",
       "  <tbody>\n",
       "    <tr>\n",
       "      <th>0</th>\n",
       "      <td>doppia</td>\n",
       "      <td>F</td>\n",
       "      <td>Murri</td>\n",
       "      <td>2</td>\n",
       "      <td>1</td>\n",
       "      <td>0</td>\n",
       "      <td>0</td>\n",
       "      <td>200-225</td>\n",
       "    </tr>\n",
       "    <tr>\n",
       "      <th>1</th>\n",
       "      <td>doppia</td>\n",
       "      <td>F</td>\n",
       "      <td>Marconi</td>\n",
       "      <td>2</td>\n",
       "      <td>1</td>\n",
       "      <td>1</td>\n",
       "      <td>0</td>\n",
       "      <td>225-250</td>\n",
       "    </tr>\n",
       "    <tr>\n",
       "      <th>2</th>\n",
       "      <td>doppia</td>\n",
       "      <td>M/F</td>\n",
       "      <td>Bolognina</td>\n",
       "      <td>1</td>\n",
       "      <td>1</td>\n",
       "      <td>1</td>\n",
       "      <td>0</td>\n",
       "      <td>250-275</td>\n",
       "    </tr>\n",
       "    <tr>\n",
       "      <th>3</th>\n",
       "      <td>singola</td>\n",
       "      <td>F</td>\n",
       "      <td>S.Vitale</td>\n",
       "      <td>1</td>\n",
       "      <td>1</td>\n",
       "      <td>0</td>\n",
       "      <td>1</td>\n",
       "      <td>400-425</td>\n",
       "    </tr>\n",
       "    <tr>\n",
       "      <th>4</th>\n",
       "      <td>singola</td>\n",
       "      <td>F</td>\n",
       "      <td>Irnerio</td>\n",
       "      <td>1</td>\n",
       "      <td>1</td>\n",
       "      <td>0</td>\n",
       "      <td>1</td>\n",
       "      <td>500-525</td>\n",
       "    </tr>\n",
       "    <tr>\n",
       "      <th>...</th>\n",
       "      <td>...</td>\n",
       "      <td>...</td>\n",
       "      <td>...</td>\n",
       "      <td>...</td>\n",
       "      <td>...</td>\n",
       "      <td>...</td>\n",
       "      <td>...</td>\n",
       "      <td>...</td>\n",
       "    </tr>\n",
       "    <tr>\n",
       "      <th>195</th>\n",
       "      <td>doppia</td>\n",
       "      <td>M</td>\n",
       "      <td>Irnerio</td>\n",
       "      <td>1</td>\n",
       "      <td>1</td>\n",
       "      <td>0</td>\n",
       "      <td>0</td>\n",
       "      <td>200-225</td>\n",
       "    </tr>\n",
       "    <tr>\n",
       "      <th>196</th>\n",
       "      <td>doppia</td>\n",
       "      <td>M/F</td>\n",
       "      <td>Bolognina</td>\n",
       "      <td>2</td>\n",
       "      <td>1</td>\n",
       "      <td>1</td>\n",
       "      <td>1</td>\n",
       "      <td>225-250</td>\n",
       "    </tr>\n",
       "    <tr>\n",
       "      <th>197</th>\n",
       "      <td>doppia</td>\n",
       "      <td>M/F</td>\n",
       "      <td>Bolognina</td>\n",
       "      <td>1</td>\n",
       "      <td>1</td>\n",
       "      <td>1</td>\n",
       "      <td>1</td>\n",
       "      <td>225-250</td>\n",
       "    </tr>\n",
       "    <tr>\n",
       "      <th>198</th>\n",
       "      <td>singola</td>\n",
       "      <td>M/F</td>\n",
       "      <td>San Donato</td>\n",
       "      <td>1</td>\n",
       "      <td>1</td>\n",
       "      <td>0</td>\n",
       "      <td>0</td>\n",
       "      <td>350-375</td>\n",
       "    </tr>\n",
       "    <tr>\n",
       "      <th>199</th>\n",
       "      <td>singola</td>\n",
       "      <td>M/F</td>\n",
       "      <td>Lame</td>\n",
       "      <td>1</td>\n",
       "      <td>1</td>\n",
       "      <td>0</td>\n",
       "      <td>0</td>\n",
       "      <td>325-350</td>\n",
       "    </tr>\n",
       "  </tbody>\n",
       "</table>\n",
       "<p>200 rows × 8 columns</p>\n",
       "</div>"
      ],
      "text/plain": [
       "    tipologia genere        zona  bagno  cucina  salotto  balcone range euro\n",
       "0      doppia      F       Murri      2       1        0        0    200-225\n",
       "1      doppia      F     Marconi      2       1        1        0    225-250\n",
       "2      doppia    M/F   Bolognina      1       1        1        0    250-275\n",
       "3     singola      F    S.Vitale      1       1        0        1    400-425\n",
       "4     singola      F     Irnerio      1       1        0        1    500-525\n",
       "..        ...    ...         ...    ...     ...      ...      ...        ...\n",
       "195    doppia      M     Irnerio      1       1        0        0    200-225\n",
       "196    doppia    M/F   Bolognina      2       1        1        1    225-250\n",
       "197    doppia    M/F   Bolognina      1       1        1        1    225-250\n",
       "198   singola    M/F  San Donato      1       1        0        0    350-375\n",
       "199   singola    M/F        Lame      1       1        0        0    325-350\n",
       "\n",
       "[200 rows x 8 columns]"
      ]
     },
     "execution_count": 2,
     "metadata": {},
     "output_type": "execute_result"
    }
   ],
   "source": [
    "dataset = pd.read_csv('play_dataset.csv')\n",
    "dataset = dataset.drop(columns = 'Unnamed: 0')\n",
    "dataset"
   ]
  },
  {
   "cell_type": "code",
   "execution_count": 3,
   "metadata": {},
   "outputs": [
    {
     "data": {
      "text/html": [
       "<div>\n",
       "<style scoped>\n",
       "    .dataframe tbody tr th:only-of-type {\n",
       "        vertical-align: middle;\n",
       "    }\n",
       "\n",
       "    .dataframe tbody tr th {\n",
       "        vertical-align: top;\n",
       "    }\n",
       "\n",
       "    .dataframe thead th {\n",
       "        text-align: right;\n",
       "    }\n",
       "</style>\n",
       "<table border=\"1\" class=\"dataframe\">\n",
       "  <thead>\n",
       "    <tr style=\"text-align: right;\">\n",
       "      <th></th>\n",
       "      <th>bagno</th>\n",
       "      <th>cucina</th>\n",
       "      <th>salotto</th>\n",
       "      <th>balcone</th>\n",
       "      <th>tipologia_doppia</th>\n",
       "      <th>tipologia_singola</th>\n",
       "      <th>genere_F</th>\n",
       "      <th>genere_M</th>\n",
       "      <th>genere_M/F</th>\n",
       "      <th>zona_Barca</th>\n",
       "      <th>...</th>\n",
       "      <th>zona_Malpighi</th>\n",
       "      <th>zona_Marconi</th>\n",
       "      <th>zona_Mazzini</th>\n",
       "      <th>zona_Murri</th>\n",
       "      <th>zona_S.Ruffillo</th>\n",
       "      <th>zona_S.Viola</th>\n",
       "      <th>zona_S.Vitale</th>\n",
       "      <th>zona_Saffi</th>\n",
       "      <th>zona_San Donato</th>\n",
       "      <th>range euro</th>\n",
       "    </tr>\n",
       "  </thead>\n",
       "  <tbody>\n",
       "    <tr>\n",
       "      <th>0</th>\n",
       "      <td>2</td>\n",
       "      <td>1</td>\n",
       "      <td>0</td>\n",
       "      <td>0</td>\n",
       "      <td>1</td>\n",
       "      <td>0</td>\n",
       "      <td>1</td>\n",
       "      <td>0</td>\n",
       "      <td>0</td>\n",
       "      <td>0</td>\n",
       "      <td>...</td>\n",
       "      <td>0</td>\n",
       "      <td>0</td>\n",
       "      <td>0</td>\n",
       "      <td>1</td>\n",
       "      <td>0</td>\n",
       "      <td>0</td>\n",
       "      <td>0</td>\n",
       "      <td>0</td>\n",
       "      <td>0</td>\n",
       "      <td>200-225</td>\n",
       "    </tr>\n",
       "    <tr>\n",
       "      <th>1</th>\n",
       "      <td>2</td>\n",
       "      <td>1</td>\n",
       "      <td>1</td>\n",
       "      <td>0</td>\n",
       "      <td>1</td>\n",
       "      <td>0</td>\n",
       "      <td>1</td>\n",
       "      <td>0</td>\n",
       "      <td>0</td>\n",
       "      <td>0</td>\n",
       "      <td>...</td>\n",
       "      <td>0</td>\n",
       "      <td>1</td>\n",
       "      <td>0</td>\n",
       "      <td>0</td>\n",
       "      <td>0</td>\n",
       "      <td>0</td>\n",
       "      <td>0</td>\n",
       "      <td>0</td>\n",
       "      <td>0</td>\n",
       "      <td>225-250</td>\n",
       "    </tr>\n",
       "    <tr>\n",
       "      <th>2</th>\n",
       "      <td>1</td>\n",
       "      <td>1</td>\n",
       "      <td>1</td>\n",
       "      <td>0</td>\n",
       "      <td>1</td>\n",
       "      <td>0</td>\n",
       "      <td>0</td>\n",
       "      <td>0</td>\n",
       "      <td>1</td>\n",
       "      <td>0</td>\n",
       "      <td>...</td>\n",
       "      <td>0</td>\n",
       "      <td>0</td>\n",
       "      <td>0</td>\n",
       "      <td>0</td>\n",
       "      <td>0</td>\n",
       "      <td>0</td>\n",
       "      <td>0</td>\n",
       "      <td>0</td>\n",
       "      <td>0</td>\n",
       "      <td>250-275</td>\n",
       "    </tr>\n",
       "    <tr>\n",
       "      <th>3</th>\n",
       "      <td>1</td>\n",
       "      <td>1</td>\n",
       "      <td>0</td>\n",
       "      <td>1</td>\n",
       "      <td>0</td>\n",
       "      <td>1</td>\n",
       "      <td>1</td>\n",
       "      <td>0</td>\n",
       "      <td>0</td>\n",
       "      <td>0</td>\n",
       "      <td>...</td>\n",
       "      <td>0</td>\n",
       "      <td>0</td>\n",
       "      <td>0</td>\n",
       "      <td>0</td>\n",
       "      <td>0</td>\n",
       "      <td>0</td>\n",
       "      <td>1</td>\n",
       "      <td>0</td>\n",
       "      <td>0</td>\n",
       "      <td>400-425</td>\n",
       "    </tr>\n",
       "    <tr>\n",
       "      <th>4</th>\n",
       "      <td>1</td>\n",
       "      <td>1</td>\n",
       "      <td>0</td>\n",
       "      <td>1</td>\n",
       "      <td>0</td>\n",
       "      <td>1</td>\n",
       "      <td>1</td>\n",
       "      <td>0</td>\n",
       "      <td>0</td>\n",
       "      <td>0</td>\n",
       "      <td>...</td>\n",
       "      <td>0</td>\n",
       "      <td>0</td>\n",
       "      <td>0</td>\n",
       "      <td>0</td>\n",
       "      <td>0</td>\n",
       "      <td>0</td>\n",
       "      <td>0</td>\n",
       "      <td>0</td>\n",
       "      <td>0</td>\n",
       "      <td>500-525</td>\n",
       "    </tr>\n",
       "    <tr>\n",
       "      <th>...</th>\n",
       "      <td>...</td>\n",
       "      <td>...</td>\n",
       "      <td>...</td>\n",
       "      <td>...</td>\n",
       "      <td>...</td>\n",
       "      <td>...</td>\n",
       "      <td>...</td>\n",
       "      <td>...</td>\n",
       "      <td>...</td>\n",
       "      <td>...</td>\n",
       "      <td>...</td>\n",
       "      <td>...</td>\n",
       "      <td>...</td>\n",
       "      <td>...</td>\n",
       "      <td>...</td>\n",
       "      <td>...</td>\n",
       "      <td>...</td>\n",
       "      <td>...</td>\n",
       "      <td>...</td>\n",
       "      <td>...</td>\n",
       "      <td>...</td>\n",
       "    </tr>\n",
       "    <tr>\n",
       "      <th>195</th>\n",
       "      <td>1</td>\n",
       "      <td>1</td>\n",
       "      <td>0</td>\n",
       "      <td>0</td>\n",
       "      <td>1</td>\n",
       "      <td>0</td>\n",
       "      <td>0</td>\n",
       "      <td>1</td>\n",
       "      <td>0</td>\n",
       "      <td>0</td>\n",
       "      <td>...</td>\n",
       "      <td>0</td>\n",
       "      <td>0</td>\n",
       "      <td>0</td>\n",
       "      <td>0</td>\n",
       "      <td>0</td>\n",
       "      <td>0</td>\n",
       "      <td>0</td>\n",
       "      <td>0</td>\n",
       "      <td>0</td>\n",
       "      <td>200-225</td>\n",
       "    </tr>\n",
       "    <tr>\n",
       "      <th>196</th>\n",
       "      <td>2</td>\n",
       "      <td>1</td>\n",
       "      <td>1</td>\n",
       "      <td>1</td>\n",
       "      <td>1</td>\n",
       "      <td>0</td>\n",
       "      <td>0</td>\n",
       "      <td>0</td>\n",
       "      <td>1</td>\n",
       "      <td>0</td>\n",
       "      <td>...</td>\n",
       "      <td>0</td>\n",
       "      <td>0</td>\n",
       "      <td>0</td>\n",
       "      <td>0</td>\n",
       "      <td>0</td>\n",
       "      <td>0</td>\n",
       "      <td>0</td>\n",
       "      <td>0</td>\n",
       "      <td>0</td>\n",
       "      <td>225-250</td>\n",
       "    </tr>\n",
       "    <tr>\n",
       "      <th>197</th>\n",
       "      <td>1</td>\n",
       "      <td>1</td>\n",
       "      <td>1</td>\n",
       "      <td>1</td>\n",
       "      <td>1</td>\n",
       "      <td>0</td>\n",
       "      <td>0</td>\n",
       "      <td>0</td>\n",
       "      <td>1</td>\n",
       "      <td>0</td>\n",
       "      <td>...</td>\n",
       "      <td>0</td>\n",
       "      <td>0</td>\n",
       "      <td>0</td>\n",
       "      <td>0</td>\n",
       "      <td>0</td>\n",
       "      <td>0</td>\n",
       "      <td>0</td>\n",
       "      <td>0</td>\n",
       "      <td>0</td>\n",
       "      <td>225-250</td>\n",
       "    </tr>\n",
       "    <tr>\n",
       "      <th>198</th>\n",
       "      <td>1</td>\n",
       "      <td>1</td>\n",
       "      <td>0</td>\n",
       "      <td>0</td>\n",
       "      <td>0</td>\n",
       "      <td>1</td>\n",
       "      <td>0</td>\n",
       "      <td>0</td>\n",
       "      <td>1</td>\n",
       "      <td>0</td>\n",
       "      <td>...</td>\n",
       "      <td>0</td>\n",
       "      <td>0</td>\n",
       "      <td>0</td>\n",
       "      <td>0</td>\n",
       "      <td>0</td>\n",
       "      <td>0</td>\n",
       "      <td>0</td>\n",
       "      <td>0</td>\n",
       "      <td>1</td>\n",
       "      <td>350-375</td>\n",
       "    </tr>\n",
       "    <tr>\n",
       "      <th>199</th>\n",
       "      <td>1</td>\n",
       "      <td>1</td>\n",
       "      <td>0</td>\n",
       "      <td>0</td>\n",
       "      <td>0</td>\n",
       "      <td>1</td>\n",
       "      <td>0</td>\n",
       "      <td>0</td>\n",
       "      <td>1</td>\n",
       "      <td>0</td>\n",
       "      <td>...</td>\n",
       "      <td>0</td>\n",
       "      <td>0</td>\n",
       "      <td>0</td>\n",
       "      <td>0</td>\n",
       "      <td>0</td>\n",
       "      <td>0</td>\n",
       "      <td>0</td>\n",
       "      <td>0</td>\n",
       "      <td>0</td>\n",
       "      <td>325-350</td>\n",
       "    </tr>\n",
       "  </tbody>\n",
       "</table>\n",
       "<p>200 rows × 28 columns</p>\n",
       "</div>"
      ],
      "text/plain": [
       "     bagno  cucina  salotto  balcone  tipologia_doppia  tipologia_singola  \\\n",
       "0        2       1        0        0                 1                  0   \n",
       "1        2       1        1        0                 1                  0   \n",
       "2        1       1        1        0                 1                  0   \n",
       "3        1       1        0        1                 0                  1   \n",
       "4        1       1        0        1                 0                  1   \n",
       "..     ...     ...      ...      ...               ...                ...   \n",
       "195      1       1        0        0                 1                  0   \n",
       "196      2       1        1        1                 1                  0   \n",
       "197      1       1        1        1                 1                  0   \n",
       "198      1       1        0        0                 0                  1   \n",
       "199      1       1        0        0                 0                  1   \n",
       "\n",
       "     genere_F  genere_M  genere_M/F  zona_Barca  ...  zona_Malpighi  \\\n",
       "0           1         0           0           0  ...              0   \n",
       "1           1         0           0           0  ...              0   \n",
       "2           0         0           1           0  ...              0   \n",
       "3           1         0           0           0  ...              0   \n",
       "4           1         0           0           0  ...              0   \n",
       "..        ...       ...         ...         ...  ...            ...   \n",
       "195         0         1           0           0  ...              0   \n",
       "196         0         0           1           0  ...              0   \n",
       "197         0         0           1           0  ...              0   \n",
       "198         0         0           1           0  ...              0   \n",
       "199         0         0           1           0  ...              0   \n",
       "\n",
       "     zona_Marconi  zona_Mazzini  zona_Murri  zona_S.Ruffillo  zona_S.Viola  \\\n",
       "0               0             0           1                0             0   \n",
       "1               1             0           0                0             0   \n",
       "2               0             0           0                0             0   \n",
       "3               0             0           0                0             0   \n",
       "4               0             0           0                0             0   \n",
       "..            ...           ...         ...              ...           ...   \n",
       "195             0             0           0                0             0   \n",
       "196             0             0           0                0             0   \n",
       "197             0             0           0                0             0   \n",
       "198             0             0           0                0             0   \n",
       "199             0             0           0                0             0   \n",
       "\n",
       "     zona_S.Vitale  zona_Saffi  zona_San Donato  range euro  \n",
       "0                0           0                0     200-225  \n",
       "1                0           0                0     225-250  \n",
       "2                0           0                0     250-275  \n",
       "3                1           0                0     400-425  \n",
       "4                0           0                0     500-525  \n",
       "..             ...         ...              ...         ...  \n",
       "195              0           0                0     200-225  \n",
       "196              0           0                0     225-250  \n",
       "197              0           0                0     225-250  \n",
       "198              0           0                1     350-375  \n",
       "199              0           0                0     325-350  \n",
       "\n",
       "[200 rows x 28 columns]"
      ]
     },
     "execution_count": 3,
     "metadata": {},
     "output_type": "execute_result"
    }
   ],
   "source": [
    "dummy_dataset = pd.get_dummies(dataset, columns = ['tipologia', 'genere', 'zona'])\n",
    "columns = list(dummy_dataset.columns.values)\n",
    "columns.pop(columns.index('range euro')) \n",
    "dummy_dataset = dummy_dataset[columns+['range euro']]\n",
    "dummy_dataset"
   ]
  },
  {
   "cell_type": "code",
   "execution_count": 4,
   "metadata": {},
   "outputs": [
    {
     "name": "stdout",
     "output_type": "stream",
     "text": [
      "Accuracy: 53.846%\n"
     ]
    }
   ],
   "source": [
    "array = dummy_dataset.values\n",
    "X_enc = array[:,0:27]\n",
    "Y = array[:,27]\n",
    "\n",
    "le = preprocessing.LabelEncoder()\n",
    "le.fit_transform(['175-200', '200-225', '225-250', '250-275', '275-300', '300-325', '325-350', '350-375',\n",
    "                  '375-400', '400-425', '425-450', '450-475', '475-500', '500-525', '525-550', '550-575', \n",
    "                 '575-600', '600-625', '625-650', '650-675', '675-700'])\n",
    "\n",
    "Y_enc = le.transform(Y)\n",
    "\n",
    "X_train, X_test, Y_train, Y_test = train_test_split(X_enc, Y_enc, test_size = 0.13, random_state = 843)\n",
    "\n",
    "GNB_model = GaussianNB(var_smoothing = 1.057)\n",
    "GNB_model.fit(X_train, Y_train)\n",
    "\n",
    "GNB_accuracy = GNB_model.score(X_test, Y_test)\n",
    "print(\"Accuracy: %.3f%%\" % (GNB_accuracy*100.0))"
   ]
  },
  {
   "cell_type": "markdown",
   "metadata": {},
   "source": [
    "## 2. Let's play"
   ]
  },
  {
   "cell_type": "markdown",
   "metadata": {},
   "source": [
    "The following function will let the user select all the characteristics of a new ad and then have in response the range of the renting price."
   ]
  },
  {
   "cell_type": "markdown",
   "metadata": {},
   "source": [
    "Here will be stored new data."
   ]
  },
  {
   "cell_type": "code",
   "execution_count": 5,
   "metadata": {},
   "outputs": [],
   "source": [
    "moredata_X = []\n",
    "moredata_Y = []"
   ]
  },
  {
   "cell_type": "markdown",
   "metadata": {},
   "source": [
    "Here are created the interactive widgets."
   ]
  },
  {
   "cell_type": "code",
   "execution_count": 6,
   "metadata": {},
   "outputs": [],
   "source": [
    "bagno = widgets.Dropdown(description = 'bagno', options = [0, 1, 2, 3, '-'] , value = '-',\n",
    "                         continous_update = True)\n",
    "cucina = widgets.Dropdown(description = 'cucina', options = [0, 1, 2, 3, '-'] , value = '-',\n",
    "                          continous_update = True)\n",
    "salotto = widgets.Dropdown(description = 'salotto', options = [0, 1, 2, 3, '-'] , value = '-',\n",
    "                           continous_update = True)\n",
    "balcone = widgets.Dropdown(description = 'balcone', options = [0, 1, 2, 3, '-'] , value = '-',\n",
    "                           continous_update = True)\n",
    "tipologia = widgets.Dropdown(description = 'tipologia', options = ['singola', 'doppia', '-'], value = '-',\n",
    "                            continous_update = True)\n",
    "genere = widgets.Dropdown(description = 'genere', options = ['F', 'M', 'M/F', '-'], value = '-',\n",
    "                         continous_update = True)\n",
    "zona = widgets.Dropdown(description = 'zona', options = ['Barca', 'Bolognina', 'Borgo Panigale',\n",
    "                                                         'Colli', 'Corticella', 'Costa Saragozza',\n",
    "                                                         'Galvani', 'Irnerio', 'Lame',\n",
    "                                                         'Malpighi', 'Marconi', 'Mazzini',\n",
    "                                                         'Murri', 'S.Ruffillo', 'S.Viola',\n",
    "                                                         'S.Vitale', 'Saffi', 'San Donato', '-'], value = '-',\n",
    "                       continous_update = True)\n",
    "\n",
    "y_n = widgets.Dropdown(description = 'Hai scelto?', options = ['Sì', 'No', '-'], value = '-',\n",
    "                       continous_update = True)\n",
    "risp = widgets.Dropdown(description = 'È corretto?', options = ['Sì', 'No', '-'], value = '-',\n",
    "                        continous_update = True)\n",
    "regi = widgets.Dropdown(description = 'Registra?', options = ['Sì', 'No', '-'], value = '-',\n",
    "                        continous_update = True)\n",
    "valu = widgets.Dropdown(description = 'Range', options = ['175-200', '200-225', '225-250', '250-275',\n",
    "                                                          '275-300', '300-325', '325-350', '350-375',\n",
    "                                                          '375-400', '400-425', '425-450', '450-475',\n",
    "                                                          '475-500', '500-525', '525-550', '550-575',\n",
    "                                                          '575-600', '600-625', '625-650', '650-675',\n",
    "                                                          '675-700', '-'],\n",
    "                       value = '-', continous_update = True)\n",
    "term = widgets.Dropdown(description = 'Terminato?', options = ['Sì', 'No'], value = 'No',\n",
    "                        continous_update = True)"
   ]
  },
  {
   "cell_type": "markdown",
   "metadata": {},
   "source": [
    "This is the core of the program, the main function."
   ]
  },
  {
   "cell_type": "code",
   "execution_count": 7,
   "metadata": {},
   "outputs": [],
   "source": [
    "def features(bagno, cucina, salotto, balcone, tipologia, genere, zona, y_n, risp, valu, regi, term):\n",
    "    print('bagno:{} \\ncucina:{} \\nsalotto:{} \\nbalcone:{} \\ntipologia:{} \\ngenere:{} \\nzona:{}'\n",
    "          .format(bagno, cucina, salotto, balcone, tipologia, genere, zona))\n",
    "    features = [bagno, cucina, salotto, balcone, tipologia, genere, zona]\n",
    "    new_X_test = []\n",
    "    for i in range(0, 7):\n",
    "        if(i<4):\n",
    "            new_X_test.append(features[i])\n",
    "        else:\n",
    "            if(features[i] == 'singola' or features[i] == 'doppia'):\n",
    "                if(features[i] == 'singola'):\n",
    "                    new_X_test.append(0)\n",
    "                    new_X_test.append(1)\n",
    "                if(features[i] == 'doppia'):\n",
    "                    new_X_test.append(1)\n",
    "                    new_X_test.append(0)\n",
    "            if(features[i] == 'F' or features[i] == 'M' or features[i] == 'M/F'):\n",
    "                if(features[i] == 'F'):\n",
    "                    new_X_test.append(1)\n",
    "                    new_X_test.append(0)\n",
    "                    new_X_test.append(0)\n",
    "                if(features[i] == 'M'):\n",
    "                    new_X_test.append(0)\n",
    "                    new_X_test.append(1)\n",
    "                    new_X_test.append(0)\n",
    "                if(features[i] == 'M/F'):\n",
    "                    new_X_test.append(0)\n",
    "                    new_X_test.append(0)\n",
    "                    new_X_test.append(1)\n",
    "            if(features[i] == 'Barca' or features[i] == 'Bolognina' or features[i] == 'Borgo Panigale' or\n",
    "                features[i] == 'Colli' or features[i] == 'Corticella' or features[i] == 'Costa Saragozza' or\n",
    "                features[i] == 'Galvani' or features[i] == 'Irnerio' or features[i] == 'Lame' or\n",
    "                features[i] == 'Malpighi' or features[i] == 'Marconi' or features[i] == 'Mazzini' or\n",
    "                features[i] == 'Murri' or features[i] == 'S.Ruffillo' or features[i] == 'S.Viola' or\n",
    "                features[i] == 'S.Vitale' or features[i] == 'Saffi' or features[i] == 'San Donato'):\n",
    "                if(features[i] == 'Barca'):\n",
    "                    new_X_test.append(1)\n",
    "                    for o in range(0,17):\n",
    "                        new_X_test.append(0)\n",
    "                if(features[i] == 'Bolognina'):\n",
    "                    new_X_test.append(0)\n",
    "                    new_X_test.append(1)\n",
    "                    for o in range(0,16):\n",
    "                        new_X_test.append(0)\n",
    "                if(features[i] == 'Borgo Panigale'):\n",
    "                    for o in range(0,2):\n",
    "                        new_X_test.append(0)\n",
    "                    new_X_test.append(1)\n",
    "                    for o in range (0,15):\n",
    "                        new_X_test.append(0)\n",
    "                if(features[i] == 'Colli'):\n",
    "                    for o in range(0,3):\n",
    "                        new_X_test.append(0)\n",
    "                    new_X_test.append(1)\n",
    "                    for o in range (0,14):\n",
    "                        new_X_test.append(0)\n",
    "                if(features[i] == 'Corticella'):\n",
    "                    for o in range(0,4):\n",
    "                        new_X_test.append(0)\n",
    "                    new_X_test.append(1)\n",
    "                    for o in range (0,13):\n",
    "                        new_X_test.append(0)\n",
    "                if(features[i] == 'Costa Saragozza'):\n",
    "                    for o in range(0,5):\n",
    "                        new_X_test.append(0)\n",
    "                    new_X_test.append(1)\n",
    "                    for o in range (0,12):\n",
    "                        new_X_test.append(0)\n",
    "                if(features[i] == 'Galvani'):\n",
    "                    for o in range(0,6):\n",
    "                        new_X_test.append(0)\n",
    "                    new_X_test.append(1)\n",
    "                    for o in range (0,11):\n",
    "                        new_X_test.append(0)\n",
    "                if(features[i] == 'Irnerio'):\n",
    "                    for o in range(0,7):\n",
    "                        new_X_test.append(0)\n",
    "                    new_X_test.append(1)\n",
    "                    for o in range (0,10):\n",
    "                        new_X_test.append(0)\n",
    "                if(features[i] == 'Lame'):\n",
    "                    for o in range(0,8):\n",
    "                        new_X_test.append(0)\n",
    "                    new_X_test.append(1)\n",
    "                    for o in range (0,9):\n",
    "                        new_X_test.append(0)\n",
    "                if(features[i] == 'Malpighi'):\n",
    "                    for o in range(0,9):\n",
    "                        new_X_test.append(0)\n",
    "                    new_X_test.append(1)\n",
    "                    for o in range (0,8):\n",
    "                        new_X_test.append(0)\n",
    "                if(features[i] == 'Marconi'):\n",
    "                    for o in range(0,10):\n",
    "                        new_X_test.append(0)\n",
    "                    new_X_test.append(1)\n",
    "                    for o in range (0,7):\n",
    "                        new_X_test.append(0)\n",
    "                if(features[i] == 'Mazzini'):\n",
    "                    for o in range(0,11):\n",
    "                        new_X_test.append(0)\n",
    "                    new_X_test.append(1)\n",
    "                    for o in range (0,6):\n",
    "                        new_X_test.append(0)\n",
    "                if(features[i] == 'Murri'):\n",
    "                    for o in range(0,12):\n",
    "                        new_X_test.append(0)\n",
    "                    new_X_test.append(1)\n",
    "                    for o in range (0,5):\n",
    "                        new_X_test.append(0)\n",
    "                if(features[i] == 'S.Ruffillo'):\n",
    "                    for o in range(0,13):\n",
    "                        new_X_test.append(0)\n",
    "                    new_X_test.append(1)\n",
    "                    for o in range (0,4):\n",
    "                        new_X_test.append(0)\n",
    "                if(features[i] == 'S.Viola'):\n",
    "                    for o in range(0,14):\n",
    "                        new_X_test.append(0)\n",
    "                    new_X_test.append(1)\n",
    "                    for o in range (0,3):\n",
    "                        new_X_test.append(0)\n",
    "                if(features[i] == 'S.Vitale'):\n",
    "                    for o in range(0,15):\n",
    "                        new_X_test.append(0)\n",
    "                    new_X_test.append(1)\n",
    "                    for o in range (0,2):\n",
    "                        new_X_test.append(0)\n",
    "                if(features[i] == 'Saffi'):\n",
    "                    for o in range(0,16):\n",
    "                        new_X_test.append(0)\n",
    "                    new_X_test.append(1)\n",
    "                    new_X_test.append(0)\n",
    "                if(features[i] == 'San Donato'):\n",
    "                    for o in range(0,17):\n",
    "                        new_X_test.append(0)\n",
    "                    new_X_test.append(1)\n",
    "    new_X_test = np.transpose(new_X_test)\n",
    "    if(term != 'Sì'):\n",
    "        if(bagno != '-' and cucina != '-' and salotto != '-' and balcone != '-' and tipologia != '-' and\n",
    "           genere != '-' and zona != '-'):\n",
    "            if(y_n == 'Sì'):\n",
    "                test_X = []\n",
    "                test_X.append(new_X_test)\n",
    "                new_Y_test = le.inverse_transform(GNB_model.predict(test_X))\n",
    "                print('\\n\\n\\n\\n\\n\\nLa stanza dovrebbe costare:', new_Y_test, 'euro.')\n",
    "                if(risp == 'Sì'):\n",
    "                    print('\\nGrande!')\n",
    "                    if(regi == 'Sì'):\n",
    "                        moredata_X.append(new_X_test)\n",
    "                        moredata_Y.append(int(GNB_model.predict(test_X)))\n",
    "                        print('\\n\\n\\nIl nuovo dato è stato inserito.',\n",
    "                              '\\nAdesso setta le 4 scelte su \"No\" e scegli nuovi parametri.',\n",
    "                             '\\n:)')\n",
    "                if(risp == 'No'):\n",
    "                    print('\\nInserisci il valore corretto.')\n",
    "                    print('\\n', valu)\n",
    "                    if(valu != '-' and regi == 'Sì'):\n",
    "                        moredata_X.append(new_X_test)\n",
    "                        moredata_Y.append(int(le.transform([valu])))\n",
    "                        print('\\nIl nuovo dato è stato inserito.',\n",
    "                              '\\nAdesso setta le 4 scelte su \"-\" e scegli nuovi parametri.',\n",
    "                             '\\n:)')\n",
    "    else:\n",
    "        print('\\n\\n\\n\\n\\n\\n\\n\\n\\n\\n')\n",
    "        sys.exit('Abbiamo finito.')\n",
    "    return new_X_test"
   ]
  },
  {
   "cell_type": "markdown",
   "metadata": {},
   "source": [
    "The following output permits to work on features and immediately get a predicted price."
   ]
  },
  {
   "cell_type": "code",
   "execution_count": 8,
   "metadata": {},
   "outputs": [
    {
     "data": {
      "application/vnd.jupyter.widget-view+json": {
       "model_id": "c10f4d9031944ad183051257ecee85f8",
       "version_major": 2,
       "version_minor": 0
      },
      "text/plain": [
       "HBox(children=(VBox(children=(Dropdown(description='bagno', index=4, options=(0, 1, 2, 3, '-'), value='-'), Dr…"
      ]
     },
     "metadata": {},
     "output_type": "display_data"
    }
   ],
   "source": [
    "out = widgets.interactive_output(features, {'bagno': bagno, 'cucina': cucina, 'salotto': salotto,\n",
    "                                            'balcone': balcone, 'tipologia': tipologia, 'genere': genere,\n",
    "                                            'zona': zona, 'y_n': y_n, 'risp': risp, 'valu': valu,\n",
    "                                            'regi': regi, 'term': term, })\n",
    "\n",
    "widgets.HBox([widgets.VBox([bagno, cucina, salotto, balcone, tipologia, genere, zona, y_n, risp, valu, regi,\n",
    "                            term]), out])"
   ]
  },
  {
   "cell_type": "code",
   "execution_count": 9,
   "metadata": {},
   "outputs": [
    {
     "data": {
      "text/plain": [
       "[]"
      ]
     },
     "execution_count": 9,
     "metadata": {},
     "output_type": "execute_result"
    }
   ],
   "source": [
    "moredata_X"
   ]
  },
  {
   "cell_type": "code",
   "execution_count": 10,
   "metadata": {},
   "outputs": [
    {
     "data": {
      "text/plain": [
       "[]"
      ]
     },
     "execution_count": 10,
     "metadata": {},
     "output_type": "execute_result"
    }
   ],
   "source": [
    "moredata_Y"
   ]
  },
  {
   "cell_type": "markdown",
   "metadata": {},
   "source": [
    "When we have finished we stack the new data to the old training set and refit the model."
   ]
  },
  {
   "cell_type": "code",
   "execution_count": 11,
   "metadata": {},
   "outputs": [
    {
     "ename": "ValueError",
     "evalue": "all the input array dimensions for the concatenation axis must match exactly, but along dimension 1, the array at index 0 has size 27 and the array at index 1 has size 0",
     "output_type": "error",
     "traceback": [
      "An exception has occurred, use %tb to see the full traceback.\n",
      "\u001b[0;31mValueError\u001b[0m\u001b[0;31m:\u001b[0m all the input array dimensions for the concatenation axis must match exactly, but along dimension 1, the array at index 0 has size 27 and the array at index 1 has size 0\n"
     ]
    }
   ],
   "source": [
    "X_train = np.vstack((X_train, moredata_X))"
   ]
  },
  {
   "cell_type": "code",
   "execution_count": null,
   "metadata": {},
   "outputs": [],
   "source": [
    "Y_train = np.hstack((Y_train, moredata_Y))"
   ]
  },
  {
   "cell_type": "code",
   "execution_count": null,
   "metadata": {},
   "outputs": [],
   "source": [
    "X_train.shape"
   ]
  },
  {
   "cell_type": "code",
   "execution_count": null,
   "metadata": {},
   "outputs": [],
   "source": [
    "Y_train.shape"
   ]
  },
  {
   "cell_type": "code",
   "execution_count": null,
   "metadata": {},
   "outputs": [],
   "source": [
    "GNB_model.fit(X_train, Y_train)"
   ]
  },
  {
   "cell_type": "code",
   "execution_count": null,
   "metadata": {},
   "outputs": [],
   "source": []
  }
 ],
 "metadata": {
  "kernelspec": {
   "display_name": "Python 3",
   "language": "python",
   "name": "python3"
  },
  "language_info": {
   "codemirror_mode": {
    "name": "ipython",
    "version": 3
   },
   "file_extension": ".py",
   "mimetype": "text/x-python",
   "name": "python",
   "nbconvert_exporter": "python",
   "pygments_lexer": "ipython3",
   "version": "3.8.3"
  },
  "widgets": {
   "application/vnd.jupyter.widget-state+json": {
    "state": {
     "07ab212fb9a1420b8588a831992b77da": {
      "model_module": "@jupyter-widgets/base",
      "model_module_version": "1.2.0",
      "model_name": "LayoutModel",
      "state": {}
     },
     "0aab75bd05e445d8ab1fbeedfd6361ad": {
      "model_module": "@jupyter-widgets/controls",
      "model_module_version": "1.5.0",
      "model_name": "SliderStyleModel",
      "state": {
       "description_width": ""
      }
     },
     "35fbfe0869e74843b6300c029c00c65b": {
      "model_module": "@jupyter-widgets/base",
      "model_module_version": "1.2.0",
      "model_name": "LayoutModel",
      "state": {}
     },
     "3b47756da4ac4e3a8b318295e0aa27c7": {
      "model_module": "@jupyter-widgets/controls",
      "model_module_version": "1.5.0",
      "model_name": "VBoxModel",
      "state": {
       "_dom_classes": [
        "widget-interact"
       ],
       "children": [
        "IPY_MODEL_cebc88dcced740308cd884a18d6d21c0",
        "IPY_MODEL_b7aa95e9e18248abb09183461d97c8a5"
       ],
       "layout": "IPY_MODEL_e89f2de6c33e43f481bfd8a04de9c4ec"
      }
     },
     "40f21c0c87f04c81a05c82b60ca766c5": {
      "model_module": "@jupyter-widgets/controls",
      "model_module_version": "1.5.0",
      "model_name": "IntSliderModel",
      "state": {
       "description": "x",
       "layout": "IPY_MODEL_9fa460fb32eb411ea88cb967e4aa6095",
       "max": 30,
       "min": -10,
       "style": "IPY_MODEL_d1f6adefaabd4ab8bf7c2bc557ca653d",
       "value": 10
      }
     },
     "4b88f04d54b14f298f2aca198c462e61": {
      "model_module": "@jupyter-widgets/controls",
      "model_module_version": "1.5.0",
      "model_name": "SliderStyleModel",
      "state": {
       "description_width": ""
      }
     },
     "6144b2df09dc4c338eefd40026db11c3": {
      "model_module": "@jupyter-widgets/output",
      "model_module_version": "1.0.0",
      "model_name": "OutputModel",
      "state": {
       "layout": "IPY_MODEL_7b6269b7f3bd4725b76664353f0a8ab6",
       "outputs": [
        {
         "data": {
          "text/plain": "10"
         },
         "metadata": {},
         "output_type": "display_data"
        }
       ]
      }
     },
     "681ec0360f16416ba8b17d52101a005c": {
      "model_module": "@jupyter-widgets/output",
      "model_module_version": "1.0.0",
      "model_name": "OutputModel",
      "state": {
       "layout": "IPY_MODEL_07ab212fb9a1420b8588a831992b77da",
       "outputs": [
        {
         "data": {
          "text/plain": "10"
         },
         "metadata": {},
         "output_type": "display_data"
        }
       ]
      }
     },
     "70a4bd6b7d2949249417f62bb3923cdb": {
      "model_module": "@jupyter-widgets/base",
      "model_module_version": "1.2.0",
      "model_name": "LayoutModel",
      "state": {}
     },
     "73317607dc2749a7a5c5be409b62791a": {
      "model_module": "@jupyter-widgets/base",
      "model_module_version": "1.2.0",
      "model_name": "LayoutModel",
      "state": {}
     },
     "7b6269b7f3bd4725b76664353f0a8ab6": {
      "model_module": "@jupyter-widgets/base",
      "model_module_version": "1.2.0",
      "model_name": "LayoutModel",
      "state": {}
     },
     "8f5534615a664781b15c8bcaa286ae04": {
      "model_module": "@jupyter-widgets/controls",
      "model_module_version": "1.5.0",
      "model_name": "VBoxModel",
      "state": {
       "_dom_classes": [
        "widget-interact"
       ],
       "children": [
        "IPY_MODEL_a0aee6f42e214ffd81f1936b4eb755df",
        "IPY_MODEL_6144b2df09dc4c338eefd40026db11c3"
       ],
       "layout": "IPY_MODEL_c250b15f5d6c4e348220b3250cbc0592"
      }
     },
     "98d348595dd04f56b9cfdc592a7b3b46": {
      "model_module": "@jupyter-widgets/controls",
      "model_module_version": "1.5.0",
      "model_name": "VBoxModel",
      "state": {
       "_dom_classes": [
        "widget-interact"
       ],
       "children": [
        "IPY_MODEL_40f21c0c87f04c81a05c82b60ca766c5",
        "IPY_MODEL_681ec0360f16416ba8b17d52101a005c"
       ],
       "layout": "IPY_MODEL_73317607dc2749a7a5c5be409b62791a"
      }
     },
     "9fa460fb32eb411ea88cb967e4aa6095": {
      "model_module": "@jupyter-widgets/base",
      "model_module_version": "1.2.0",
      "model_name": "LayoutModel",
      "state": {}
     },
     "a0aee6f42e214ffd81f1936b4eb755df": {
      "model_module": "@jupyter-widgets/controls",
      "model_module_version": "1.5.0",
      "model_name": "IntSliderModel",
      "state": {
       "description": "x",
       "layout": "IPY_MODEL_70a4bd6b7d2949249417f62bb3923cdb",
       "max": 30,
       "min": -10,
       "style": "IPY_MODEL_0aab75bd05e445d8ab1fbeedfd6361ad",
       "value": 10
      }
     },
     "b7aa95e9e18248abb09183461d97c8a5": {
      "model_module": "@jupyter-widgets/output",
      "model_module_version": "1.0.0",
      "model_name": "OutputModel",
      "state": {
       "layout": "IPY_MODEL_dd8b10b0280d416a9cca32e8540ee89b",
       "outputs": [
        {
         "data": {
          "text/plain": "10"
         },
         "metadata": {},
         "output_type": "display_data"
        }
       ]
      }
     },
     "c250b15f5d6c4e348220b3250cbc0592": {
      "model_module": "@jupyter-widgets/base",
      "model_module_version": "1.2.0",
      "model_name": "LayoutModel",
      "state": {}
     },
     "cebc88dcced740308cd884a18d6d21c0": {
      "model_module": "@jupyter-widgets/controls",
      "model_module_version": "1.5.0",
      "model_name": "IntSliderModel",
      "state": {
       "description": "x",
       "layout": "IPY_MODEL_35fbfe0869e74843b6300c029c00c65b",
       "max": 30,
       "min": -10,
       "style": "IPY_MODEL_4b88f04d54b14f298f2aca198c462e61",
       "value": 10
      }
     },
     "d1f6adefaabd4ab8bf7c2bc557ca653d": {
      "model_module": "@jupyter-widgets/controls",
      "model_module_version": "1.5.0",
      "model_name": "SliderStyleModel",
      "state": {
       "description_width": ""
      }
     },
     "dd8b10b0280d416a9cca32e8540ee89b": {
      "model_module": "@jupyter-widgets/base",
      "model_module_version": "1.2.0",
      "model_name": "LayoutModel",
      "state": {}
     },
     "e89f2de6c33e43f481bfd8a04de9c4ec": {
      "model_module": "@jupyter-widgets/base",
      "model_module_version": "1.2.0",
      "model_name": "LayoutModel",
      "state": {}
     }
    },
    "version_major": 2,
    "version_minor": 0
   }
  }
 },
 "nbformat": 4,
 "nbformat_minor": 4
}
